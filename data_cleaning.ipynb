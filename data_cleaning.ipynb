{
 "cells": [
  {
   "cell_type": "code",
   "execution_count": 1,
   "metadata": {},
   "outputs": [],
   "source": [
    "import pandas as pd\n",
    "import numpy as np\n",
    "import re\n",
    "from numpy.random import randint \n",
    "from gensim.parsing.preprocessing import remove_stopwords"
   ]
  },
  {
   "cell_type": "markdown",
   "metadata": {},
   "source": [
    "## Data loading and initial cleaning"
   ]
  },
  {
   "cell_type": "code",
   "execution_count": 3,
   "metadata": {},
   "outputs": [],
   "source": [
    "# df = pd.read_csv(\"data/song_lyrics.csv\")\n",
    "# df = df[df['language']==\"en\"]"
   ]
  },
  {
   "cell_type": "code",
   "execution_count": null,
   "metadata": {},
   "outputs": [],
   "source": [
    "df = df[df['language']==\"en\"]"
   ]
  },
  {
   "cell_type": "code",
   "execution_count": null,
   "metadata": {},
   "outputs": [],
   "source": [
    "df.shape"
   ]
  },
  {
   "cell_type": "code",
   "execution_count": null,
   "metadata": {},
   "outputs": [],
   "source": [
    "df.columns"
   ]
  },
  {
   "cell_type": "code",
   "execution_count": null,
   "metadata": {},
   "outputs": [],
   "source": [
    "df.dtypes"
   ]
  },
  {
   "cell_type": "code",
   "execution_count": null,
   "metadata": {},
   "outputs": [],
   "source": [
    "df = pd.read_csv(\"data/en_song_lyrics.csv\")"
   ]
  },
  {
   "cell_type": "code",
   "execution_count": null,
   "metadata": {},
   "outputs": [],
   "source": [
    "# checking null values \n",
    "df.isna().sum()"
   ]
  },
  {
   "cell_type": "code",
   "execution_count": null,
   "metadata": {},
   "outputs": [],
   "source": [
    "# Dropping null values\n",
    "df= df.dropna(how=\"any\")"
   ]
  },
  {
   "cell_type": "code",
   "execution_count": null,
   "metadata": {},
   "outputs": [],
   "source": [
    "# Checking for duplicates\n",
    "df.duplicated().sum()"
   ]
  },
  {
   "cell_type": "code",
   "execution_count": null,
   "metadata": {},
   "outputs": [],
   "source": [
    "df.shape"
   ]
  },
  {
   "cell_type": "code",
   "execution_count": null,
   "metadata": {},
   "outputs": [],
   "source": [
    "years = df['year'].unique()\n",
    "years"
   ]
  },
  {
   "cell_type": "code",
   "execution_count": null,
   "metadata": {},
   "outputs": [],
   "source": [
    "# df.to_csv(\"data/clean_en_song_lyrics.csv\")"
   ]
  },
  {
   "cell_type": "markdown",
   "metadata": {},
   "source": [
    "# FURTHER DATA CLEANING AND FILTERING"
   ]
  },
  {
   "cell_type": "markdown",
   "metadata": {},
   "source": [
    "### Creating \"song_id\" from title and artist name"
   ]
  },
  {
   "cell_type": "code",
   "execution_count": 2,
   "metadata": {},
   "outputs": [],
   "source": [
    "df=pd.read_csv(\"data/clean_en_song_lyrics.csv\")"
   ]
  },
  {
   "cell_type": "code",
   "execution_count": 3,
   "metadata": {},
   "outputs": [
    {
     "data": {
      "text/html": [
       "<div>\n",
       "<style scoped>\n",
       "    .dataframe tbody tr th:only-of-type {\n",
       "        vertical-align: middle;\n",
       "    }\n",
       "\n",
       "    .dataframe tbody tr th {\n",
       "        vertical-align: top;\n",
       "    }\n",
       "\n",
       "    .dataframe thead th {\n",
       "        text-align: right;\n",
       "    }\n",
       "</style>\n",
       "<table border=\"1\" class=\"dataframe\">\n",
       "  <thead>\n",
       "    <tr style=\"text-align: right;\">\n",
       "      <th></th>\n",
       "      <th>Unnamed: 0.1</th>\n",
       "      <th>Unnamed: 0</th>\n",
       "      <th>title</th>\n",
       "      <th>tag</th>\n",
       "      <th>artist</th>\n",
       "      <th>year</th>\n",
       "      <th>views</th>\n",
       "      <th>features</th>\n",
       "      <th>lyrics</th>\n",
       "      <th>id</th>\n",
       "      <th>language_cld3</th>\n",
       "      <th>language_ft</th>\n",
       "      <th>language</th>\n",
       "    </tr>\n",
       "  </thead>\n",
       "  <tbody>\n",
       "    <tr>\n",
       "      <th>0</th>\n",
       "      <td>0</td>\n",
       "      <td>0</td>\n",
       "      <td>Killa Cam</td>\n",
       "      <td>rap</td>\n",
       "      <td>Cam'ron</td>\n",
       "      <td>2004</td>\n",
       "      <td>173166</td>\n",
       "      <td>{\"Cam\\\\'ron\",\"Opera Steve\"}</td>\n",
       "      <td>[Chorus: Opera Steve &amp; Cam'ron]\\nKilla Cam, Ki...</td>\n",
       "      <td>1</td>\n",
       "      <td>en</td>\n",
       "      <td>en</td>\n",
       "      <td>en</td>\n",
       "    </tr>\n",
       "    <tr>\n",
       "      <th>1</th>\n",
       "      <td>1</td>\n",
       "      <td>1</td>\n",
       "      <td>Can I Live</td>\n",
       "      <td>rap</td>\n",
       "      <td>JAY-Z</td>\n",
       "      <td>1996</td>\n",
       "      <td>468624</td>\n",
       "      <td>{}</td>\n",
       "      <td>[Produced by Irv Gotti]\\n\\n[Intro]\\nYeah, hah,...</td>\n",
       "      <td>3</td>\n",
       "      <td>en</td>\n",
       "      <td>en</td>\n",
       "      <td>en</td>\n",
       "    </tr>\n",
       "    <tr>\n",
       "      <th>2</th>\n",
       "      <td>2</td>\n",
       "      <td>2</td>\n",
       "      <td>Forgive Me Father</td>\n",
       "      <td>rap</td>\n",
       "      <td>Fabolous</td>\n",
       "      <td>2003</td>\n",
       "      <td>4743</td>\n",
       "      <td>{}</td>\n",
       "      <td>Maybe cause I'm eatin\\nAnd these bastards fien...</td>\n",
       "      <td>4</td>\n",
       "      <td>en</td>\n",
       "      <td>en</td>\n",
       "      <td>en</td>\n",
       "    </tr>\n",
       "    <tr>\n",
       "      <th>3</th>\n",
       "      <td>3</td>\n",
       "      <td>3</td>\n",
       "      <td>Down and Out</td>\n",
       "      <td>rap</td>\n",
       "      <td>Cam'ron</td>\n",
       "      <td>2004</td>\n",
       "      <td>144404</td>\n",
       "      <td>{\"Cam\\\\'ron\",\"Kanye West\",\"Syleena Johnson\"}</td>\n",
       "      <td>[Produced by Kanye West and Brian Miller]\\n\\n[...</td>\n",
       "      <td>5</td>\n",
       "      <td>en</td>\n",
       "      <td>en</td>\n",
       "      <td>en</td>\n",
       "    </tr>\n",
       "    <tr>\n",
       "      <th>4</th>\n",
       "      <td>4</td>\n",
       "      <td>4</td>\n",
       "      <td>Fly In</td>\n",
       "      <td>rap</td>\n",
       "      <td>Lil Wayne</td>\n",
       "      <td>2005</td>\n",
       "      <td>78271</td>\n",
       "      <td>{}</td>\n",
       "      <td>[Intro]\\nSo they ask me\\n\"Young boy\\nWhat you ...</td>\n",
       "      <td>6</td>\n",
       "      <td>en</td>\n",
       "      <td>en</td>\n",
       "      <td>en</td>\n",
       "    </tr>\n",
       "    <tr>\n",
       "      <th>...</th>\n",
       "      <td>...</td>\n",
       "      <td>...</td>\n",
       "      <td>...</td>\n",
       "      <td>...</td>\n",
       "      <td>...</td>\n",
       "      <td>...</td>\n",
       "      <td>...</td>\n",
       "      <td>...</td>\n",
       "      <td>...</td>\n",
       "      <td>...</td>\n",
       "      <td>...</td>\n",
       "      <td>...</td>\n",
       "      <td>...</td>\n",
       "    </tr>\n",
       "    <tr>\n",
       "      <th>3374066</th>\n",
       "      <td>3374193</td>\n",
       "      <td>5134847</td>\n",
       "      <td>Everything Is Alright Now</td>\n",
       "      <td>pop</td>\n",
       "      <td>Chuck Bernard</td>\n",
       "      <td>2013</td>\n",
       "      <td>2</td>\n",
       "      <td>{}</td>\n",
       "      <td>Everything is alright now\\nOh yes, baby\\nEvery...</td>\n",
       "      <td>7882838</td>\n",
       "      <td>en</td>\n",
       "      <td>en</td>\n",
       "      <td>en</td>\n",
       "    </tr>\n",
       "    <tr>\n",
       "      <th>3374067</th>\n",
       "      <td>3374194</td>\n",
       "      <td>5134849</td>\n",
       "      <td>White Lies</td>\n",
       "      <td>pop</td>\n",
       "      <td>ElementD</td>\n",
       "      <td>2019</td>\n",
       "      <td>1</td>\n",
       "      <td>{\"Harley Bird\"}</td>\n",
       "      <td>[Verse 1]\\nHalf truth and half you\\nDidn't we ...</td>\n",
       "      <td>7882840</td>\n",
       "      <td>en</td>\n",
       "      <td>en</td>\n",
       "      <td>en</td>\n",
       "    </tr>\n",
       "    <tr>\n",
       "      <th>3374068</th>\n",
       "      <td>3374195</td>\n",
       "      <td>5134851</td>\n",
       "      <td>Ocean</td>\n",
       "      <td>pop</td>\n",
       "      <td>Effemar</td>\n",
       "      <td>2022</td>\n",
       "      <td>3</td>\n",
       "      <td>{}</td>\n",
       "      <td>[Verse 1]\\nDance for me now\\nKeeping yourself ...</td>\n",
       "      <td>7882842</td>\n",
       "      <td>en</td>\n",
       "      <td>en</td>\n",
       "      <td>en</td>\n",
       "    </tr>\n",
       "    <tr>\n",
       "      <th>3374069</th>\n",
       "      <td>3374196</td>\n",
       "      <td>5134853</td>\n",
       "      <td>Raise Our Hands</td>\n",
       "      <td>pop</td>\n",
       "      <td>Culture Code, Pag &amp; Mylo</td>\n",
       "      <td>2016</td>\n",
       "      <td>3</td>\n",
       "      <td>{Elex,\"Culture Code / Pag &amp; Mylo\"}</td>\n",
       "      <td>[Verse 1]\\nHere our purpose feels alive\\nWe ar...</td>\n",
       "      <td>7882845</td>\n",
       "      <td>en</td>\n",
       "      <td>en</td>\n",
       "      <td>en</td>\n",
       "    </tr>\n",
       "    <tr>\n",
       "      <th>3374070</th>\n",
       "      <td>3374197</td>\n",
       "      <td>5134855</td>\n",
       "      <td>New Number</td>\n",
       "      <td>country</td>\n",
       "      <td>Alana Springsteen</td>\n",
       "      <td>2022</td>\n",
       "      <td>1</td>\n",
       "      <td>{}</td>\n",
       "      <td>[Verse 1]\\nYou need a new number, one that ain...</td>\n",
       "      <td>7882848</td>\n",
       "      <td>en</td>\n",
       "      <td>en</td>\n",
       "      <td>en</td>\n",
       "    </tr>\n",
       "  </tbody>\n",
       "</table>\n",
       "<p>3374071 rows × 13 columns</p>\n",
       "</div>"
      ],
      "text/plain": [
       "         Unnamed: 0.1  Unnamed: 0                      title      tag  \\\n",
       "0                   0           0                  Killa Cam      rap   \n",
       "1                   1           1                 Can I Live      rap   \n",
       "2                   2           2          Forgive Me Father      rap   \n",
       "3                   3           3               Down and Out      rap   \n",
       "4                   4           4                     Fly In      rap   \n",
       "...               ...         ...                        ...      ...   \n",
       "3374066       3374193     5134847  Everything Is Alright Now      pop   \n",
       "3374067       3374194     5134849                 White Lies      pop   \n",
       "3374068       3374195     5134851                      Ocean      pop   \n",
       "3374069       3374196     5134853            Raise Our Hands      pop   \n",
       "3374070       3374197     5134855                 New Number  country   \n",
       "\n",
       "                           artist  year   views  \\\n",
       "0                         Cam'ron  2004  173166   \n",
       "1                           JAY-Z  1996  468624   \n",
       "2                        Fabolous  2003    4743   \n",
       "3                         Cam'ron  2004  144404   \n",
       "4                       Lil Wayne  2005   78271   \n",
       "...                           ...   ...     ...   \n",
       "3374066             Chuck Bernard  2013       2   \n",
       "3374067                  ElementD  2019       1   \n",
       "3374068                   Effemar  2022       3   \n",
       "3374069  Culture Code, Pag & Mylo  2016       3   \n",
       "3374070         Alana Springsteen  2022       1   \n",
       "\n",
       "                                             features  \\\n",
       "0                         {\"Cam\\\\'ron\",\"Opera Steve\"}   \n",
       "1                                                  {}   \n",
       "2                                                  {}   \n",
       "3        {\"Cam\\\\'ron\",\"Kanye West\",\"Syleena Johnson\"}   \n",
       "4                                                  {}   \n",
       "...                                               ...   \n",
       "3374066                                            {}   \n",
       "3374067                               {\"Harley Bird\"}   \n",
       "3374068                                            {}   \n",
       "3374069            {Elex,\"Culture Code / Pag & Mylo\"}   \n",
       "3374070                                            {}   \n",
       "\n",
       "                                                    lyrics       id  \\\n",
       "0        [Chorus: Opera Steve & Cam'ron]\\nKilla Cam, Ki...        1   \n",
       "1        [Produced by Irv Gotti]\\n\\n[Intro]\\nYeah, hah,...        3   \n",
       "2        Maybe cause I'm eatin\\nAnd these bastards fien...        4   \n",
       "3        [Produced by Kanye West and Brian Miller]\\n\\n[...        5   \n",
       "4        [Intro]\\nSo they ask me\\n\"Young boy\\nWhat you ...        6   \n",
       "...                                                    ...      ...   \n",
       "3374066  Everything is alright now\\nOh yes, baby\\nEvery...  7882838   \n",
       "3374067  [Verse 1]\\nHalf truth and half you\\nDidn't we ...  7882840   \n",
       "3374068  [Verse 1]\\nDance for me now\\nKeeping yourself ...  7882842   \n",
       "3374069  [Verse 1]\\nHere our purpose feels alive\\nWe ar...  7882845   \n",
       "3374070  [Verse 1]\\nYou need a new number, one that ain...  7882848   \n",
       "\n",
       "        language_cld3 language_ft language  \n",
       "0                  en          en       en  \n",
       "1                  en          en       en  \n",
       "2                  en          en       en  \n",
       "3                  en          en       en  \n",
       "4                  en          en       en  \n",
       "...               ...         ...      ...  \n",
       "3374066            en          en       en  \n",
       "3374067            en          en       en  \n",
       "3374068            en          en       en  \n",
       "3374069            en          en       en  \n",
       "3374070            en          en       en  \n",
       "\n",
       "[3374071 rows x 13 columns]"
      ]
     },
     "execution_count": 3,
     "metadata": {},
     "output_type": "execute_result"
    }
   ],
   "source": [
    "df"
   ]
  },
  {
   "cell_type": "code",
   "execution_count": 4,
   "metadata": {},
   "outputs": [],
   "source": [
    "df=df.drop(columns=[\"Unnamed: 0\", \"Unnamed: 0.1\"])"
   ]
  },
  {
   "cell_type": "code",
   "execution_count": 5,
   "metadata": {},
   "outputs": [],
   "source": [
    "# Standardize strings in 'artist' and 'title' columns\n",
    "df['artist_clean'] = df['artist'].str.strip().str.lower().str.replace('\"', '').str.replace(\"'\", \"\").str.replace(\",\", \"\").str.replace(\".\", \"\").str.replace(\"!\", \"\").str.replace(\"?\", \"\").str.replace(\"&\", \"and\")\n",
    "df['title_clean'] = df['title'].str.strip().str.lower().str.replace('\"', '').str.replace(\"'\", \"\").str.replace(\",\", \"\").str.replace(\".\", \"\").str.replace(\"!\", \"\").str.replace(\"?\", \"\").str.replace(\"&\", \"and\")\n",
    "\n",
    "# Combine 'artist' and 'title' to create 'song_id' column\n",
    "df['song_id'] = (df['artist_clean'] + '_' + df['title_clean']).str.replace(' ', '_')\n"
   ]
  },
  {
   "cell_type": "code",
   "execution_count": 6,
   "metadata": {},
   "outputs": [],
   "source": [
    "#Importing scraped weekly top 100 billboard songs\n",
    "df_top = pd.read_csv(\"data/billboard_weekly_1958-2024.csv\")"
   ]
  },
  {
   "cell_type": "code",
   "execution_count": 7,
   "metadata": {},
   "outputs": [
    {
     "data": {
      "text/plain": [
       "(30045, 4)"
      ]
     },
     "execution_count": 7,
     "metadata": {},
     "output_type": "execute_result"
    }
   ],
   "source": [
    "df_top.shape"
   ]
  },
  {
   "cell_type": "code",
   "execution_count": 8,
   "metadata": {},
   "outputs": [
    {
     "data": {
      "text/plain": [
       "(3374071, 14)"
      ]
     },
     "execution_count": 8,
     "metadata": {},
     "output_type": "execute_result"
    }
   ],
   "source": [
    "df.shape"
   ]
  },
  {
   "cell_type": "code",
   "execution_count": 9,
   "metadata": {},
   "outputs": [],
   "source": [
    "# Standardize strings in 'artist' and 'title' columns\n",
    "df_top['artist_clean'] = df_top['artist'].str.strip().str.lower().str.replace('\"', '').str.replace(\"'\", \"\").str.replace(\",\", \"\").str.replace(\".\", \"\").str.replace(\"!\", \"\").str.replace(\"?\", \"\").str.replace(\"&\", \"and\")\n",
    "df_top['title_clean'] = df_top['title'].str.strip().str.lower().str.replace('\"', '').str.replace(\"'\", \"\").str.replace(\",\", \"\").str.replace(\".\", \"\").str.replace(\"!\", \"\").str.replace(\"?\", \"\").str.replace(\"&\", \"and\")\n",
    "\n",
    "# Combine 'artist' and 'title' to create 'song_id' column\n",
    "df_top['song_id'] = (df_top['artist_clean'] + '_' + df_top['title_clean']).str.replace(' ', '_')"
   ]
  },
  {
   "cell_type": "code",
   "execution_count": 10,
   "metadata": {},
   "outputs": [
    {
     "name": "stdout",
     "output_type": "stream",
     "text": [
      "Percentage of songs matched: 60.23\n"
     ]
    }
   ],
   "source": [
    "df_filtered = df[df['song_id'].isin(df_top['song_id'])].reset_index(drop=True)\n",
    "print(f\"Percentage of songs matched:\", round((len(df_filtered)/len(df_top)*100),2))"
   ]
  },
  {
   "cell_type": "code",
   "execution_count": 11,
   "metadata": {},
   "outputs": [
    {
     "name": "stdout",
     "output_type": "stream",
     "text": [
      "Songs in df_top that are not present in df:\n",
      "                                            artist_clean  \\\n",
      "0                                          groove holmes   \n",
      "1                                          groove holmes   \n",
      "3                                          pookie hudson   \n",
      "13                                     weird al yankovic   \n",
      "16                                           til tuesday   \n",
      "...                                                  ...   \n",
      "30040                            william and nicki minaj   \n",
      "30041                    william featuring justin bieber   \n",
      "30042   william featuring mick jagger and jennifer lopez   \n",
      "30043                      william featuring miley cyrus   \n",
      "30044  william featuring miley cyrus french montana w...   \n",
      "\n",
      "                     title_clean  \n",
      "0                          misty  \n",
      "1               what now my love  \n",
      "3                  i know i know  \n",
      "13               white and nerdy  \n",
      "16     (believed you were) lucky  \n",
      "...                          ...  \n",
      "30040               check it out  \n",
      "30041                 #thatpower  \n",
      "30042     the (the hardest ever)  \n",
      "30043                  fall down  \n",
      "30044              feelin myself  \n",
      "\n",
      "[11949 rows x 2 columns]\n"
     ]
    }
   ],
   "source": [
    "# Find songs in df_top that are not present in df\n",
    "missing_songs_top = df_top[~df_top['song_id'].isin(df['song_id'])]\n",
    "\n",
    "print(\"Songs in df_top that are not present in df:\")\n",
    "print(missing_songs_top[['artist_clean', 'title_clean']])\n"
   ]
  },
  {
   "cell_type": "code",
   "execution_count": 12,
   "metadata": {},
   "outputs": [
    {
     "data": {
      "text/html": [
       "<div>\n",
       "<style scoped>\n",
       "    .dataframe tbody tr th:only-of-type {\n",
       "        vertical-align: middle;\n",
       "    }\n",
       "\n",
       "    .dataframe tbody tr th {\n",
       "        vertical-align: top;\n",
       "    }\n",
       "\n",
       "    .dataframe thead th {\n",
       "        text-align: right;\n",
       "    }\n",
       "</style>\n",
       "<table border=\"1\" class=\"dataframe\">\n",
       "  <thead>\n",
       "    <tr style=\"text-align: right;\">\n",
       "      <th></th>\n",
       "      <th>artist</th>\n",
       "      <th>title</th>\n",
       "      <th>date</th>\n",
       "      <th>year</th>\n",
       "      <th>artist_clean</th>\n",
       "      <th>title_clean</th>\n",
       "      <th>song_id</th>\n",
       "    </tr>\n",
       "  </thead>\n",
       "  <tbody>\n",
       "    <tr>\n",
       "      <th>0</th>\n",
       "      <td>\"Groove\" Holmes</td>\n",
       "      <td>Misty</td>\n",
       "      <td>1966-08-30</td>\n",
       "      <td>1966</td>\n",
       "      <td>groove holmes</td>\n",
       "      <td>misty</td>\n",
       "      <td>groove_holmes_misty</td>\n",
       "    </tr>\n",
       "    <tr>\n",
       "      <th>1</th>\n",
       "      <td>\"Groove\" Holmes</td>\n",
       "      <td>What Now My Love</td>\n",
       "      <td>1966-10-11</td>\n",
       "      <td>1966</td>\n",
       "      <td>groove holmes</td>\n",
       "      <td>what now my love</td>\n",
       "      <td>groove_holmes_what_now_my_love</td>\n",
       "    </tr>\n",
       "    <tr>\n",
       "      <th>2</th>\n",
       "      <td>\"Little\" Jimmy Dickens</td>\n",
       "      <td>May The Bird Of Paradise Fly Up Your Nose</td>\n",
       "      <td>1965-12-14</td>\n",
       "      <td>1965</td>\n",
       "      <td>little jimmy dickens</td>\n",
       "      <td>may the bird of paradise fly up your nose</td>\n",
       "      <td>little_jimmy_dickens_may_the_bird_of_paradise_...</td>\n",
       "    </tr>\n",
       "    <tr>\n",
       "      <th>3</th>\n",
       "      <td>\"Pookie\" Hudson</td>\n",
       "      <td>I Know I Know</td>\n",
       "      <td>1963-05-21</td>\n",
       "      <td>1963</td>\n",
       "      <td>pookie hudson</td>\n",
       "      <td>i know i know</td>\n",
       "      <td>pookie_hudson_i_know_i_know</td>\n",
       "    </tr>\n",
       "    <tr>\n",
       "      <th>4</th>\n",
       "      <td>\"Weird Al\" Yankovic</td>\n",
       "      <td>Amish Paradise</td>\n",
       "      <td>1996-07-07</td>\n",
       "      <td>1996</td>\n",
       "      <td>weird al yankovic</td>\n",
       "      <td>amish paradise</td>\n",
       "      <td>weird_al_yankovic_amish_paradise</td>\n",
       "    </tr>\n",
       "    <tr>\n",
       "      <th>...</th>\n",
       "      <td>...</td>\n",
       "      <td>...</td>\n",
       "      <td>...</td>\n",
       "      <td>...</td>\n",
       "      <td>...</td>\n",
       "      <td>...</td>\n",
       "      <td>...</td>\n",
       "    </tr>\n",
       "    <tr>\n",
       "      <th>30040</th>\n",
       "      <td>will.i.am &amp; Nicki Minaj</td>\n",
       "      <td>Check It Out</td>\n",
       "      <td>2011-01-15</td>\n",
       "      <td>2011</td>\n",
       "      <td>william and nicki minaj</td>\n",
       "      <td>check it out</td>\n",
       "      <td>william_and_nicki_minaj_check_it_out</td>\n",
       "    </tr>\n",
       "    <tr>\n",
       "      <th>30041</th>\n",
       "      <td>will.i.am Featuring Justin Bieber</td>\n",
       "      <td>#thatPOWER</td>\n",
       "      <td>2013-07-20</td>\n",
       "      <td>2013</td>\n",
       "      <td>william featuring justin bieber</td>\n",
       "      <td>#thatpower</td>\n",
       "      <td>william_featuring_justin_bieber_#thatpower</td>\n",
       "    </tr>\n",
       "    <tr>\n",
       "      <th>30042</th>\n",
       "      <td>will.i.am Featuring Mick Jagger &amp; Jennifer Lopez</td>\n",
       "      <td>T.H.E (The Hardest Ever)</td>\n",
       "      <td>2012-02-18</td>\n",
       "      <td>2012</td>\n",
       "      <td>william featuring mick jagger and jennifer lopez</td>\n",
       "      <td>the (the hardest ever)</td>\n",
       "      <td>william_featuring_mick_jagger_and_jennifer_lop...</td>\n",
       "    </tr>\n",
       "    <tr>\n",
       "      <th>30043</th>\n",
       "      <td>will.i.am Featuring Miley Cyrus</td>\n",
       "      <td>Fall Down</td>\n",
       "      <td>2013-05-04</td>\n",
       "      <td>2013</td>\n",
       "      <td>william featuring miley cyrus</td>\n",
       "      <td>fall down</td>\n",
       "      <td>william_featuring_miley_cyrus_fall_down</td>\n",
       "    </tr>\n",
       "    <tr>\n",
       "      <th>30044</th>\n",
       "      <td>will.i.am Featuring Miley Cyrus, French Montan...</td>\n",
       "      <td>Feelin' Myself</td>\n",
       "      <td>2014-05-03</td>\n",
       "      <td>2014</td>\n",
       "      <td>william featuring miley cyrus french montana w...</td>\n",
       "      <td>feelin myself</td>\n",
       "      <td>william_featuring_miley_cyrus_french_montana_w...</td>\n",
       "    </tr>\n",
       "  </tbody>\n",
       "</table>\n",
       "<p>30045 rows × 7 columns</p>\n",
       "</div>"
      ],
      "text/plain": [
       "                                                  artist  \\\n",
       "0                                        \"Groove\" Holmes   \n",
       "1                                        \"Groove\" Holmes   \n",
       "2                                 \"Little\" Jimmy Dickens   \n",
       "3                                        \"Pookie\" Hudson   \n",
       "4                                    \"Weird Al\" Yankovic   \n",
       "...                                                  ...   \n",
       "30040                            will.i.am & Nicki Minaj   \n",
       "30041                  will.i.am Featuring Justin Bieber   \n",
       "30042   will.i.am Featuring Mick Jagger & Jennifer Lopez   \n",
       "30043                    will.i.am Featuring Miley Cyrus   \n",
       "30044  will.i.am Featuring Miley Cyrus, French Montan...   \n",
       "\n",
       "                                           title        date  year  \\\n",
       "0                                          Misty  1966-08-30  1966   \n",
       "1                               What Now My Love  1966-10-11  1966   \n",
       "2      May The Bird Of Paradise Fly Up Your Nose  1965-12-14  1965   \n",
       "3                                  I Know I Know  1963-05-21  1963   \n",
       "4                                 Amish Paradise  1996-07-07  1996   \n",
       "...                                          ...         ...   ...   \n",
       "30040                               Check It Out  2011-01-15  2011   \n",
       "30041                                 #thatPOWER  2013-07-20  2013   \n",
       "30042                   T.H.E (The Hardest Ever)  2012-02-18  2012   \n",
       "30043                                  Fall Down  2013-05-04  2013   \n",
       "30044                             Feelin' Myself  2014-05-03  2014   \n",
       "\n",
       "                                            artist_clean  \\\n",
       "0                                          groove holmes   \n",
       "1                                          groove holmes   \n",
       "2                                   little jimmy dickens   \n",
       "3                                          pookie hudson   \n",
       "4                                      weird al yankovic   \n",
       "...                                                  ...   \n",
       "30040                            william and nicki minaj   \n",
       "30041                    william featuring justin bieber   \n",
       "30042   william featuring mick jagger and jennifer lopez   \n",
       "30043                      william featuring miley cyrus   \n",
       "30044  william featuring miley cyrus french montana w...   \n",
       "\n",
       "                                     title_clean  \\\n",
       "0                                          misty   \n",
       "1                               what now my love   \n",
       "2      may the bird of paradise fly up your nose   \n",
       "3                                  i know i know   \n",
       "4                                 amish paradise   \n",
       "...                                          ...   \n",
       "30040                               check it out   \n",
       "30041                                 #thatpower   \n",
       "30042                     the (the hardest ever)   \n",
       "30043                                  fall down   \n",
       "30044                              feelin myself   \n",
       "\n",
       "                                                 song_id  \n",
       "0                                    groove_holmes_misty  \n",
       "1                         groove_holmes_what_now_my_love  \n",
       "2      little_jimmy_dickens_may_the_bird_of_paradise_...  \n",
       "3                            pookie_hudson_i_know_i_know  \n",
       "4                       weird_al_yankovic_amish_paradise  \n",
       "...                                                  ...  \n",
       "30040               william_and_nicki_minaj_check_it_out  \n",
       "30041         william_featuring_justin_bieber_#thatpower  \n",
       "30042  william_featuring_mick_jagger_and_jennifer_lop...  \n",
       "30043            william_featuring_miley_cyrus_fall_down  \n",
       "30044  william_featuring_miley_cyrus_french_montana_w...  \n",
       "\n",
       "[30045 rows x 7 columns]"
      ]
     },
     "execution_count": 12,
     "metadata": {},
     "output_type": "execute_result"
    }
   ],
   "source": [
    "# Investigating missing songs: \n",
    "\n",
    "search_word = \"\"\n",
    "artist = \"william\"\n",
    "\n",
    "matching_titles = df_top[(df_top['artist'].str.contains(search_word, case=False))]\n",
    "# df_top[(df_top['artist'].fillna('').str.lower() == artist.lower()) & \n",
    "                     \n",
    "matching_titles"
   ]
  },
  {
   "cell_type": "code",
   "execution_count": 13,
   "metadata": {},
   "outputs": [],
   "source": [
    "# Need to deal with 'featuring' and \"and\" - extract main artist\n",
    "\n",
    "def extract_main_artist(artist):\n",
    "    if 'and' in artist:\n",
    "        return artist.split(' and ')[0].strip()\n",
    "    elif 'featuring' in artist:\n",
    "        return artist.split(' featuring ')[0].strip()\n",
    "    elif 'feat' in artist:\n",
    "        return artist.split(' feat ')[0].strip()\n",
    "    elif 'feat.' in artist:\n",
    "        return artist.split(' feat.')[0].strip()\n",
    "    elif 'with' in artist:\n",
    "        return artist.split(' with ')[0].strip()\n",
    "    elif ',' in artist:\n",
    "        return artist.split(',')[0].strip()\n",
    "    else:\n",
    "        return artist\n",
    "    \n",
    "\n"
   ]
  },
  {
   "cell_type": "code",
   "execution_count": 14,
   "metadata": {},
   "outputs": [],
   "source": [
    "# Apply the function to create 'main_artist' column in df_top DataFrame\n",
    "df_top['main_artist'] = df_top['artist_clean'].apply(extract_main_artist)\n",
    "\n",
    "# Apply the function to create 'main_artist' column in df DataFrame\n",
    "df['main_artist'] = df['artist_clean'].apply(extract_main_artist)"
   ]
  },
  {
   "cell_type": "code",
   "execution_count": 15,
   "metadata": {},
   "outputs": [],
   "source": [
    "# make new ids\n",
    "\n",
    "df_top['song_id2'] = (df_top['main_artist'] + '_' + df_top['title_clean']).str.replace(' ', '_')\n",
    "df['song_id2'] = (df['artist_clean'] + '_' + df['title_clean']).str.replace(' ', '_')"
   ]
  },
  {
   "cell_type": "code",
   "execution_count": 16,
   "metadata": {},
   "outputs": [
    {
     "name": "stdout",
     "output_type": "stream",
     "text": [
      "Percentage of songs matched: 63.12\n"
     ]
    }
   ],
   "source": [
    "df_filtered2 = df[df['song_id2'].isin(df_top['song_id2'])].reset_index(drop=True)\n",
    "print(f\"Percentage of songs matched:\", round((len(df_filtered2)/len(df_top)*100),2))"
   ]
  },
  {
   "cell_type": "code",
   "execution_count": 17,
   "metadata": {},
   "outputs": [
    {
     "data": {
      "text/plain": [
       "(18964, 16)"
      ]
     },
     "execution_count": 17,
     "metadata": {},
     "output_type": "execute_result"
    }
   ],
   "source": [
    "df_filtered2.shape"
   ]
  },
  {
   "cell_type": "code",
   "execution_count": 18,
   "metadata": {},
   "outputs": [
    {
     "name": "stdout",
     "output_type": "stream",
     "text": [
      "Songs in df_top that are not present in df:\n",
      "                                             main_artist  \\\n",
      "0                                          groove holmes   \n",
      "1                                          groove holmes   \n",
      "3                                          pookie hudson   \n",
      "13                                     weird al yankovic   \n",
      "15                                                  $not   \n",
      "...                                                  ...   \n",
      "30039                                            william   \n",
      "30040                                            william   \n",
      "30041                                            william   \n",
      "30042                      william featuring mick jagger   \n",
      "30044  william featuring miley cyrus french montana w...   \n",
      "\n",
      "                          title  \n",
      "0                         Misty  \n",
      "1              What Now My Love  \n",
      "3                 I Know I Know  \n",
      "13                White & Nerdy  \n",
      "15                         Doja  \n",
      "...                         ...  \n",
      "30039            Scream & Shout  \n",
      "30040              Check It Out  \n",
      "30041                #thatPOWER  \n",
      "30042  T.H.E (The Hardest Ever)  \n",
      "30044            Feelin' Myself  \n",
      "\n",
      "[11074 rows x 2 columns]\n"
     ]
    }
   ],
   "source": [
    "#Investigate again:\n",
    "\n",
    "# Find songs in df_top that are not present in df\n",
    "missing_songs_top = df_top[~df_top['song_id2'].isin(df['song_id2'])]\n",
    "\n",
    "print(\"Songs in df_top that are not present in df:\")\n",
    "print(missing_songs_top[['main_artist', 'title']])"
   ]
  },
  {
   "cell_type": "code",
   "execution_count": 19,
   "metadata": {},
   "outputs": [],
   "source": [
    "# Apply the function to create 'main_artist' column in df_top DataFrame\n",
    "df_top['main_artist'] = df_top['main_artist'].apply(extract_main_artist)\n",
    "\n",
    "# Apply the function to create 'main_artist' column in df DataFrame\n",
    "df['main_artist'] = df['main_artist'].apply(extract_main_artist)"
   ]
  },
  {
   "cell_type": "code",
   "execution_count": 20,
   "metadata": {},
   "outputs": [],
   "source": [
    "df_top['song_id2'] = (df_top['main_artist'] + '_' + df_top['title_clean']).str.replace(' ', '_')\n",
    "df['song_id2'] = (df['main_artist'] + '_' + df['title_clean']).str.replace(' ', '_')"
   ]
  },
  {
   "cell_type": "code",
   "execution_count": 21,
   "metadata": {},
   "outputs": [
    {
     "name": "stdout",
     "output_type": "stream",
     "text": [
      "Percentage of songs matched: 69.23\n"
     ]
    }
   ],
   "source": [
    "df_filtered3 = df[df['song_id2'].isin(df_top['song_id2'])].reset_index(drop=True)\n",
    "print(f\"Percentage of songs matched:\", round((len(df_filtered3)/len(df_top)*100),2))"
   ]
  },
  {
   "cell_type": "markdown",
   "metadata": {},
   "source": [
    "Improvement 68% -> 69.23%"
   ]
  },
  {
   "cell_type": "code",
   "execution_count": 22,
   "metadata": {},
   "outputs": [
    {
     "data": {
      "text/plain": [
       "(20801, 16)"
      ]
     },
     "execution_count": 22,
     "metadata": {},
     "output_type": "execute_result"
    }
   ],
   "source": [
    "df_filtered3.shape"
   ]
  },
  {
   "cell_type": "code",
   "execution_count": 23,
   "metadata": {},
   "outputs": [],
   "source": [
    "df_filtered3.to_csv(\"data/songs_filtered.csv\")"
   ]
  },
  {
   "cell_type": "markdown",
   "metadata": {},
   "source": [
    "### Text preprocessing"
   ]
  },
  {
   "cell_type": "code",
   "execution_count": 24,
   "metadata": {},
   "outputs": [],
   "source": [
    "def clean_text(text):\n",
    "\n",
    "    text = text.replace('\\n', ' ')\n",
    "    text = re.sub(r'[,\\.!?]', '', text)\n",
    "    text = re.sub(r'\\[.*?\\]', ' ', text)\n",
    "    text = re.sub(r'\\w*\\d\\w*',' ', text)\n",
    "    text = re.sub(r'[()]', ' ', text)\n",
    "    text = text.lower()\n",
    "    text = re.sub(r'\\b(chorus|verse|intro)\\b', '', text)\n",
    "    return text"
   ]
  },
  {
   "cell_type": "code",
   "execution_count": 25,
   "metadata": {},
   "outputs": [
    {
     "data": {
      "text/html": [
       "<div>\n",
       "<style scoped>\n",
       "    .dataframe tbody tr th:only-of-type {\n",
       "        vertical-align: middle;\n",
       "    }\n",
       "\n",
       "    .dataframe tbody tr th {\n",
       "        vertical-align: top;\n",
       "    }\n",
       "\n",
       "    .dataframe thead th {\n",
       "        text-align: right;\n",
       "    }\n",
       "</style>\n",
       "<table border=\"1\" class=\"dataframe\">\n",
       "  <thead>\n",
       "    <tr style=\"text-align: right;\">\n",
       "      <th></th>\n",
       "      <th>title</th>\n",
       "      <th>tag</th>\n",
       "      <th>artist</th>\n",
       "      <th>year</th>\n",
       "      <th>views</th>\n",
       "      <th>features</th>\n",
       "      <th>lyrics</th>\n",
       "      <th>id</th>\n",
       "      <th>language_cld3</th>\n",
       "      <th>language_ft</th>\n",
       "      <th>language</th>\n",
       "      <th>artist_clean</th>\n",
       "      <th>title_clean</th>\n",
       "      <th>song_id</th>\n",
       "      <th>main_artist</th>\n",
       "      <th>song_id2</th>\n",
       "      <th>lyrics_clean</th>\n",
       "    </tr>\n",
       "  </thead>\n",
       "  <tbody>\n",
       "    <tr>\n",
       "      <th>0</th>\n",
       "      <td>Mr. Carter</td>\n",
       "      <td>rap</td>\n",
       "      <td>Lil Wayne</td>\n",
       "      <td>2008</td>\n",
       "      <td>542488</td>\n",
       "      <td>{JAY-Z}</td>\n",
       "      <td>[Produced by Infamous and Drew Correa]\\n\\n[Int...</td>\n",
       "      <td>126</td>\n",
       "      <td>en</td>\n",
       "      <td>en</td>\n",
       "      <td>en</td>\n",
       "      <td>lil wayne</td>\n",
       "      <td>mr carter</td>\n",
       "      <td>lil_wayne_mr_carter</td>\n",
       "      <td>lil wayne</td>\n",
       "      <td>lil_wayne_mr_carter</td>\n",
       "      <td>yo yo drew and inf this-this this right h...</td>\n",
       "    </tr>\n",
       "    <tr>\n",
       "      <th>1</th>\n",
       "      <td>Pop Bottles</td>\n",
       "      <td>rap</td>\n",
       "      <td>Birdman</td>\n",
       "      <td>2007</td>\n",
       "      <td>93210</td>\n",
       "      <td>{\"Lil Wayne\"}</td>\n",
       "      <td>[Hook: Jadakiss, Lil Wayne &amp; Birdman]\\nStart w...</td>\n",
       "      <td>112</td>\n",
       "      <td>en</td>\n",
       "      <td>en</td>\n",
       "      <td>en</td>\n",
       "      <td>birdman</td>\n",
       "      <td>pop bottles</td>\n",
       "      <td>birdman_pop_bottles</td>\n",
       "      <td>birdman</td>\n",
       "      <td>birdman_pop_bottles</td>\n",
       "      <td>start with straight shots and then pop bottl...</td>\n",
       "    </tr>\n",
       "    <tr>\n",
       "      <th>2</th>\n",
       "      <td>Fireman</td>\n",
       "      <td>rap</td>\n",
       "      <td>Lil Wayne</td>\n",
       "      <td>2005</td>\n",
       "      <td>147351</td>\n",
       "      <td>{}</td>\n",
       "      <td>[Intro]\\n(Weezy Baby)\\nShh, the fireman comin'...</td>\n",
       "      <td>39</td>\n",
       "      <td>en</td>\n",
       "      <td>en</td>\n",
       "      <td>en</td>\n",
       "      <td>lil wayne</td>\n",
       "      <td>fireman</td>\n",
       "      <td>lil_wayne_fireman</td>\n",
       "      <td>lil wayne</td>\n",
       "      <td>lil_wayne_fireman</td>\n",
       "      <td>weezy baby  shh the fireman comin' yeah yea...</td>\n",
       "    </tr>\n",
       "    <tr>\n",
       "      <th>3</th>\n",
       "      <td>Brooklyn Zoo</td>\n",
       "      <td>rap</td>\n",
       "      <td>Ol' Dirty Bastard</td>\n",
       "      <td>1995</td>\n",
       "      <td>183750</td>\n",
       "      <td>{\"Ol\\\\' Dirty Bastard\"}</td>\n",
       "      <td>[Produced by True Master &amp; Ol' Dirty Bastard]\\...</td>\n",
       "      <td>47</td>\n",
       "      <td>en</td>\n",
       "      <td>en</td>\n",
       "      <td>en</td>\n",
       "      <td>ol dirty bastard</td>\n",
       "      <td>brooklyn zoo</td>\n",
       "      <td>ol_dirty_bastard_brooklyn_zoo</td>\n",
       "      <td>ol dirty bastard</td>\n",
       "      <td>ol_dirty_bastard_brooklyn_zoo</td>\n",
       "      <td>shit word i'll bust that nigga ass right ...</td>\n",
       "    </tr>\n",
       "    <tr>\n",
       "      <th>4</th>\n",
       "      <td>A Milli</td>\n",
       "      <td>rap</td>\n",
       "      <td>Lil Wayne</td>\n",
       "      <td>2008</td>\n",
       "      <td>1237174</td>\n",
       "      <td>{}</td>\n",
       "      <td>[Intro]\\nBangladesh\\nYoung Money!\\nYou dig?\\nM...</td>\n",
       "      <td>59</td>\n",
       "      <td>en</td>\n",
       "      <td>en</td>\n",
       "      <td>en</td>\n",
       "      <td>lil wayne</td>\n",
       "      <td>a milli</td>\n",
       "      <td>lil_wayne_a_milli</td>\n",
       "      <td>lil wayne</td>\n",
       "      <td>lil_wayne_a_milli</td>\n",
       "      <td>bangladesh young money you dig mack i'm goin...</td>\n",
       "    </tr>\n",
       "    <tr>\n",
       "      <th>...</th>\n",
       "      <td>...</td>\n",
       "      <td>...</td>\n",
       "      <td>...</td>\n",
       "      <td>...</td>\n",
       "      <td>...</td>\n",
       "      <td>...</td>\n",
       "      <td>...</td>\n",
       "      <td>...</td>\n",
       "      <td>...</td>\n",
       "      <td>...</td>\n",
       "      <td>...</td>\n",
       "      <td>...</td>\n",
       "      <td>...</td>\n",
       "      <td>...</td>\n",
       "      <td>...</td>\n",
       "      <td>...</td>\n",
       "      <td>...</td>\n",
       "    </tr>\n",
       "    <tr>\n",
       "      <th>20796</th>\n",
       "      <td>For a While</td>\n",
       "      <td>pop</td>\n",
       "      <td>Mary Macgregor</td>\n",
       "      <td>1976</td>\n",
       "      <td>2</td>\n",
       "      <td>{}</td>\n",
       "      <td>[Verse 1]\\nI think I'll stay around here for a...</td>\n",
       "      <td>7866850</td>\n",
       "      <td>en</td>\n",
       "      <td>en</td>\n",
       "      <td>en</td>\n",
       "      <td>mary macgregor</td>\n",
       "      <td>for a while</td>\n",
       "      <td>mary_macgregor_for_a_while</td>\n",
       "      <td>mary macgregor</td>\n",
       "      <td>mary_macgregor_for_a_while</td>\n",
       "      <td>i think i'll stay around here for a while i ...</td>\n",
       "    </tr>\n",
       "    <tr>\n",
       "      <th>20797</th>\n",
       "      <td>Dancin Like Lovers</td>\n",
       "      <td>pop</td>\n",
       "      <td>Mary Macgregor</td>\n",
       "      <td>1980</td>\n",
       "      <td>1</td>\n",
       "      <td>{}</td>\n",
       "      <td>[Verse 1]\\nThe music's playing softly in the s...</td>\n",
       "      <td>7866892</td>\n",
       "      <td>en</td>\n",
       "      <td>en</td>\n",
       "      <td>en</td>\n",
       "      <td>mary macgregor</td>\n",
       "      <td>dancin like lovers</td>\n",
       "      <td>mary_macgregor_dancin_like_lovers</td>\n",
       "      <td>mary macgregor</td>\n",
       "      <td>mary_macgregor_dancin_like_lovers</td>\n",
       "      <td>the music's playing softly in the summer nig...</td>\n",
       "    </tr>\n",
       "    <tr>\n",
       "      <th>20798</th>\n",
       "      <td>Thump Shit</td>\n",
       "      <td>rap</td>\n",
       "      <td>42 Dugg &amp; EST Gee</td>\n",
       "      <td>2022</td>\n",
       "      <td>821</td>\n",
       "      <td>{}</td>\n",
       "      <td>[Intro: 42 Dugg]\\nFree them boys, we them (Me ...</td>\n",
       "      <td>7871619</td>\n",
       "      <td>en</td>\n",
       "      <td>en</td>\n",
       "      <td>en</td>\n",
       "      <td>42 dugg and est gee</td>\n",
       "      <td>thump shit</td>\n",
       "      <td>42_dugg_and_est_gee_thump_shit</td>\n",
       "      <td>42 dugg</td>\n",
       "      <td>42_dugg_thump_shit</td>\n",
       "      <td>free them boys we them  me and spiff  ayy fr...</td>\n",
       "    </tr>\n",
       "    <tr>\n",
       "      <th>20799</th>\n",
       "      <td>In my Head</td>\n",
       "      <td>rap</td>\n",
       "      <td>Lil Tjay &amp; Lil XXEL</td>\n",
       "      <td>2022</td>\n",
       "      <td>18</td>\n",
       "      <td>{\"Lil Xxel\"}</td>\n",
       "      <td>[Intro]\\nShawty's like a melody in my head tha...</td>\n",
       "      <td>7877849</td>\n",
       "      <td>en</td>\n",
       "      <td>en</td>\n",
       "      <td>en</td>\n",
       "      <td>lil tjay and lil xxel</td>\n",
       "      <td>in my head</td>\n",
       "      <td>lil_tjay_and_lil_xxel_in_my_head</td>\n",
       "      <td>lil tjay</td>\n",
       "      <td>lil_tjay_in_my_head</td>\n",
       "      <td>shawty's like a melody in my head that i can...</td>\n",
       "    </tr>\n",
       "    <tr>\n",
       "      <th>20800</th>\n",
       "      <td>Say Wonderful Things</td>\n",
       "      <td>pop</td>\n",
       "      <td>Ronnie Carroll</td>\n",
       "      <td>1963</td>\n",
       "      <td>3</td>\n",
       "      <td>{}</td>\n",
       "      <td>Say wonderful things to me\\nI think you're won...</td>\n",
       "      <td>7879787</td>\n",
       "      <td>en</td>\n",
       "      <td>en</td>\n",
       "      <td>en</td>\n",
       "      <td>ronnie carroll</td>\n",
       "      <td>say wonderful things</td>\n",
       "      <td>ronnie_carroll_say_wonderful_things</td>\n",
       "      <td>ronnie carroll</td>\n",
       "      <td>ronnie_carroll_say_wonderful_things</td>\n",
       "      <td>say wonderful things to me i think you're wond...</td>\n",
       "    </tr>\n",
       "  </tbody>\n",
       "</table>\n",
       "<p>20801 rows × 17 columns</p>\n",
       "</div>"
      ],
      "text/plain": [
       "                      title  tag               artist  year    views  \\\n",
       "0                Mr. Carter  rap            Lil Wayne  2008   542488   \n",
       "1               Pop Bottles  rap              Birdman  2007    93210   \n",
       "2                   Fireman  rap            Lil Wayne  2005   147351   \n",
       "3              Brooklyn Zoo  rap    Ol' Dirty Bastard  1995   183750   \n",
       "4                   A Milli  rap            Lil Wayne  2008  1237174   \n",
       "...                     ...  ...                  ...   ...      ...   \n",
       "20796           For a While  pop       Mary Macgregor  1976        2   \n",
       "20797    Dancin Like Lovers  pop       Mary Macgregor  1980        1   \n",
       "20798            Thump Shit  rap    42 Dugg & EST Gee  2022      821   \n",
       "20799            In my Head  rap  Lil Tjay & Lil XXEL  2022       18   \n",
       "20800  Say Wonderful Things  pop       Ronnie Carroll  1963        3   \n",
       "\n",
       "                      features  \\\n",
       "0                      {JAY-Z}   \n",
       "1                {\"Lil Wayne\"}   \n",
       "2                           {}   \n",
       "3      {\"Ol\\\\' Dirty Bastard\"}   \n",
       "4                           {}   \n",
       "...                        ...   \n",
       "20796                       {}   \n",
       "20797                       {}   \n",
       "20798                       {}   \n",
       "20799             {\"Lil Xxel\"}   \n",
       "20800                       {}   \n",
       "\n",
       "                                                  lyrics       id  \\\n",
       "0      [Produced by Infamous and Drew Correa]\\n\\n[Int...      126   \n",
       "1      [Hook: Jadakiss, Lil Wayne & Birdman]\\nStart w...      112   \n",
       "2      [Intro]\\n(Weezy Baby)\\nShh, the fireman comin'...       39   \n",
       "3      [Produced by True Master & Ol' Dirty Bastard]\\...       47   \n",
       "4      [Intro]\\nBangladesh\\nYoung Money!\\nYou dig?\\nM...       59   \n",
       "...                                                  ...      ...   \n",
       "20796  [Verse 1]\\nI think I'll stay around here for a...  7866850   \n",
       "20797  [Verse 1]\\nThe music's playing softly in the s...  7866892   \n",
       "20798  [Intro: 42 Dugg]\\nFree them boys, we them (Me ...  7871619   \n",
       "20799  [Intro]\\nShawty's like a melody in my head tha...  7877849   \n",
       "20800  Say wonderful things to me\\nI think you're won...  7879787   \n",
       "\n",
       "      language_cld3 language_ft language           artist_clean  \\\n",
       "0                en          en       en              lil wayne   \n",
       "1                en          en       en                birdman   \n",
       "2                en          en       en              lil wayne   \n",
       "3                en          en       en       ol dirty bastard   \n",
       "4                en          en       en              lil wayne   \n",
       "...             ...         ...      ...                    ...   \n",
       "20796            en          en       en         mary macgregor   \n",
       "20797            en          en       en         mary macgregor   \n",
       "20798            en          en       en    42 dugg and est gee   \n",
       "20799            en          en       en  lil tjay and lil xxel   \n",
       "20800            en          en       en         ronnie carroll   \n",
       "\n",
       "                title_clean                              song_id  \\\n",
       "0                 mr carter                  lil_wayne_mr_carter   \n",
       "1               pop bottles                  birdman_pop_bottles   \n",
       "2                   fireman                    lil_wayne_fireman   \n",
       "3              brooklyn zoo        ol_dirty_bastard_brooklyn_zoo   \n",
       "4                   a milli                    lil_wayne_a_milli   \n",
       "...                     ...                                  ...   \n",
       "20796           for a while           mary_macgregor_for_a_while   \n",
       "20797    dancin like lovers    mary_macgregor_dancin_like_lovers   \n",
       "20798            thump shit       42_dugg_and_est_gee_thump_shit   \n",
       "20799            in my head     lil_tjay_and_lil_xxel_in_my_head   \n",
       "20800  say wonderful things  ronnie_carroll_say_wonderful_things   \n",
       "\n",
       "            main_artist                             song_id2  \\\n",
       "0             lil wayne                  lil_wayne_mr_carter   \n",
       "1               birdman                  birdman_pop_bottles   \n",
       "2             lil wayne                    lil_wayne_fireman   \n",
       "3      ol dirty bastard        ol_dirty_bastard_brooklyn_zoo   \n",
       "4             lil wayne                    lil_wayne_a_milli   \n",
       "...                 ...                                  ...   \n",
       "20796    mary macgregor           mary_macgregor_for_a_while   \n",
       "20797    mary macgregor    mary_macgregor_dancin_like_lovers   \n",
       "20798           42 dugg                   42_dugg_thump_shit   \n",
       "20799          lil tjay                  lil_tjay_in_my_head   \n",
       "20800    ronnie carroll  ronnie_carroll_say_wonderful_things   \n",
       "\n",
       "                                            lyrics_clean  \n",
       "0           yo yo drew and inf this-this this right h...  \n",
       "1        start with straight shots and then pop bottl...  \n",
       "2         weezy baby  shh the fireman comin' yeah yea...  \n",
       "3           shit word i'll bust that nigga ass right ...  \n",
       "4        bangladesh young money you dig mack i'm goin...  \n",
       "...                                                  ...  \n",
       "20796    i think i'll stay around here for a while i ...  \n",
       "20797    the music's playing softly in the summer nig...  \n",
       "20798    free them boys we them  me and spiff  ayy fr...  \n",
       "20799    shawty's like a melody in my head that i can...  \n",
       "20800  say wonderful things to me i think you're wond...  \n",
       "\n",
       "[20801 rows x 17 columns]"
      ]
     },
     "execution_count": 25,
     "metadata": {},
     "output_type": "execute_result"
    }
   ],
   "source": [
    "df_filtered3['lyrics_clean'] = df_filtered3['lyrics'].astype(str).apply(lambda x: clean_text(x))\n",
    "df_filtered3"
   ]
  },
  {
   "cell_type": "code",
   "execution_count": 26,
   "metadata": {},
   "outputs": [],
   "source": [
    "# Removing stopwords\n",
    "\n",
    "df_filtered3['lyrics_clean'] = df_filtered3['lyrics_clean'].astype(str).apply(lambda x: remove_stopwords(x))"
   ]
  },
  {
   "cell_type": "markdown",
   "metadata": {},
   "source": [
    "## Checking matching "
   ]
  },
  {
   "cell_type": "code",
   "execution_count": 27,
   "metadata": {},
   "outputs": [
    {
     "data": {
      "text/plain": [
       "(30045, 9)"
      ]
     },
     "execution_count": 27,
     "metadata": {},
     "output_type": "execute_result"
    }
   ],
   "source": [
    "df_top.shape"
   ]
  },
  {
   "cell_type": "code",
   "execution_count": 28,
   "metadata": {},
   "outputs": [
    {
     "data": {
      "text/plain": [
       "(30034, 9)"
      ]
     },
     "execution_count": 28,
     "metadata": {},
     "output_type": "execute_result"
    }
   ],
   "source": [
    "df_top3 = df_top.drop_duplicates(\n",
    "    subset=['song_id2'],\n",
    "    keep='first'\n",
    ").reset_index(drop=True)\n",
    "\n",
    "df_top3.shape\n"
   ]
  },
  {
   "cell_type": "code",
   "execution_count": 29,
   "metadata": {},
   "outputs": [
    {
     "data": {
      "text/plain": [
       "30045"
      ]
     },
     "execution_count": 29,
     "metadata": {},
     "output_type": "execute_result"
    }
   ],
   "source": [
    "len(df_top)"
   ]
  },
  {
   "cell_type": "code",
   "execution_count": 30,
   "metadata": {},
   "outputs": [],
   "source": [
    "df_top2 = df_top[df_top['song_id2'].isin(df_filtered3['song_id2'])].reset_index(drop=True)\n"
   ]
  },
  {
   "cell_type": "code",
   "execution_count": 31,
   "metadata": {},
   "outputs": [
    {
     "data": {
      "text/plain": [
       "(20801, 17)"
      ]
     },
     "execution_count": 31,
     "metadata": {},
     "output_type": "execute_result"
    }
   ],
   "source": [
    "df_filtered3.shape"
   ]
  },
  {
   "cell_type": "code",
   "execution_count": 32,
   "metadata": {},
   "outputs": [],
   "source": [
    "unique_top2 = df_top2['song_id2'].unique()\n",
    "unique_df_f3 = df_filtered3['song_id2'].unique()"
   ]
  },
  {
   "cell_type": "code",
   "execution_count": 33,
   "metadata": {},
   "outputs": [
    {
     "name": "stdout",
     "output_type": "stream",
     "text": [
      "20549\n",
      "20549\n"
     ]
    }
   ],
   "source": [
    "print(unique_top2.size)\n",
    "print(unique_df_f3.size)"
   ]
  },
  {
   "cell_type": "code",
   "execution_count": 34,
   "metadata": {},
   "outputs": [
    {
     "name": "stdout",
     "output_type": "stream",
     "text": [
      "9\n",
      "252\n"
     ]
    }
   ],
   "source": [
    "duplicate_count1 = df_top2['song_id2'].duplicated().sum()\n",
    "duplicate_count2 = df_filtered3['song_id2'].duplicated().sum()\n",
    "\n",
    "print(duplicate_count1)\n",
    "\n",
    "print(duplicate_count2)"
   ]
  },
  {
   "cell_type": "code",
   "execution_count": 35,
   "metadata": {},
   "outputs": [],
   "source": [
    "df_top2 = df_top2.drop_duplicates(\n",
    "    subset=['song_id2'],\n",
    "    keep='first'\n",
    ").reset_index(drop=True)"
   ]
  },
  {
   "cell_type": "code",
   "execution_count": 36,
   "metadata": {},
   "outputs": [],
   "source": [
    "df_filtered3 = df_filtered3.drop_duplicates(\n",
    "    subset=['song_id2'],\n",
    "    keep='first'\n",
    ").reset_index(drop=True)\n",
    "\n"
   ]
  },
  {
   "cell_type": "code",
   "execution_count": 37,
   "metadata": {},
   "outputs": [
    {
     "name": "stdout",
     "output_type": "stream",
     "text": [
      "0\n",
      "0\n"
     ]
    }
   ],
   "source": [
    "duplicate_count1 = df_top2['song_id2'].duplicated().sum()\n",
    "duplicate_count2 = df_filtered3['song_id2'].duplicated().sum()\n",
    "\n",
    "print(duplicate_count1)\n",
    "\n",
    "print(duplicate_count2)"
   ]
  },
  {
   "cell_type": "code",
   "execution_count": 38,
   "metadata": {},
   "outputs": [],
   "source": [
    "selected_columns = ['song_id2','artist','title','tag' ,'year', 'lyrics']\n",
    "\n",
    "df_filtered3 = df_filtered3[selected_columns]"
   ]
  },
  {
   "cell_type": "code",
   "execution_count": 39,
   "metadata": {},
   "outputs": [],
   "source": [
    "df_filtered3 = df_filtered3.rename(columns={\"song_id2\": \"song_id\"})\n"
   ]
  },
  {
   "cell_type": "code",
   "execution_count": 40,
   "metadata": {},
   "outputs": [],
   "source": [
    "df_filtered3.to_csv(\"data/songs_lyrics_filtered.csv\")"
   ]
  },
  {
   "cell_type": "code",
   "execution_count": 41,
   "metadata": {},
   "outputs": [],
   "source": [
    "selected_columns2 = ['song_id','artist','title','date','year']\n",
    "df_top2 = df_top2[selected_columns2]\n",
    "df_top2 = df_top2.rename(columns={\"song_id2\": \"song_id\"})"
   ]
  },
  {
   "cell_type": "code",
   "execution_count": 42,
   "metadata": {},
   "outputs": [],
   "source": [
    "df_top2.to_csv(\"data/popular_songs.csv\")"
   ]
  },
  {
   "cell_type": "code",
   "execution_count": 43,
   "metadata": {},
   "outputs": [
    {
     "data": {
      "text/html": [
       "<div>\n",
       "<style scoped>\n",
       "    .dataframe tbody tr th:only-of-type {\n",
       "        vertical-align: middle;\n",
       "    }\n",
       "\n",
       "    .dataframe tbody tr th {\n",
       "        vertical-align: top;\n",
       "    }\n",
       "\n",
       "    .dataframe thead th {\n",
       "        text-align: right;\n",
       "    }\n",
       "</style>\n",
       "<table border=\"1\" class=\"dataframe\">\n",
       "  <thead>\n",
       "    <tr style=\"text-align: right;\">\n",
       "      <th></th>\n",
       "      <th>song_id</th>\n",
       "      <th>artist</th>\n",
       "      <th>title</th>\n",
       "      <th>date</th>\n",
       "      <th>year</th>\n",
       "    </tr>\n",
       "  </thead>\n",
       "  <tbody>\n",
       "    <tr>\n",
       "      <th>0</th>\n",
       "      <td>little_jimmy_dickens_may_the_bird_of_paradise_...</td>\n",
       "      <td>\"Little\" Jimmy Dickens</td>\n",
       "      <td>May The Bird Of Paradise Fly Up Your Nose</td>\n",
       "      <td>1965-12-14</td>\n",
       "      <td>1965</td>\n",
       "    </tr>\n",
       "    <tr>\n",
       "      <th>1</th>\n",
       "      <td>weird_al_yankovic_amish_paradise</td>\n",
       "      <td>\"Weird Al\" Yankovic</td>\n",
       "      <td>Amish Paradise</td>\n",
       "      <td>1996-07-07</td>\n",
       "      <td>1996</td>\n",
       "    </tr>\n",
       "    <tr>\n",
       "      <th>2</th>\n",
       "      <td>weird_al_yankovic_canadian_idiot</td>\n",
       "      <td>\"Weird Al\" Yankovic</td>\n",
       "      <td>Canadian Idiot</td>\n",
       "      <td>2006-11-04</td>\n",
       "      <td>2006</td>\n",
       "    </tr>\n",
       "    <tr>\n",
       "      <th>3</th>\n",
       "      <td>weird_al_yankovic_eat_it</td>\n",
       "      <td>\"Weird Al\" Yankovic</td>\n",
       "      <td>Eat It</td>\n",
       "      <td>1984-05-26</td>\n",
       "      <td>1984</td>\n",
       "    </tr>\n",
       "    <tr>\n",
       "      <th>4</th>\n",
       "      <td>weird_al_yankovic_fat</td>\n",
       "      <td>\"Weird Al\" Yankovic</td>\n",
       "      <td>Fat</td>\n",
       "      <td>1988-05-28</td>\n",
       "      <td>1988</td>\n",
       "    </tr>\n",
       "    <tr>\n",
       "      <th>...</th>\n",
       "      <td>...</td>\n",
       "      <td>...</td>\n",
       "      <td>...</td>\n",
       "      <td>...</td>\n",
       "      <td>...</td>\n",
       "    </tr>\n",
       "    <tr>\n",
       "      <th>20544</th>\n",
       "      <td>twenty_one_pilots_stressed_out</td>\n",
       "      <td>twenty one pilots</td>\n",
       "      <td>Stressed Out</td>\n",
       "      <td>2016-10-01</td>\n",
       "      <td>2016</td>\n",
       "    </tr>\n",
       "    <tr>\n",
       "      <th>20545</th>\n",
       "      <td>twenty_one_pilots_tear_in_my_heart</td>\n",
       "      <td>twenty one pilots</td>\n",
       "      <td>Tear In My Heart</td>\n",
       "      <td>2015-08-08</td>\n",
       "      <td>2015</td>\n",
       "    </tr>\n",
       "    <tr>\n",
       "      <th>20546</th>\n",
       "      <td>william_i_got_it_from_my_mama</td>\n",
       "      <td>will.i.am</td>\n",
       "      <td>I Got It From My Mama</td>\n",
       "      <td>2007-10-20</td>\n",
       "      <td>2007</td>\n",
       "    </tr>\n",
       "    <tr>\n",
       "      <th>20547</th>\n",
       "      <td>william_its_a_new_day</td>\n",
       "      <td>will.i.am</td>\n",
       "      <td>It's A New Day</td>\n",
       "      <td>2009-02-07</td>\n",
       "      <td>2009</td>\n",
       "    </tr>\n",
       "    <tr>\n",
       "      <th>20548</th>\n",
       "      <td>william_featuring_miley_cyrus_fall_down</td>\n",
       "      <td>will.i.am Featuring Miley Cyrus</td>\n",
       "      <td>Fall Down</td>\n",
       "      <td>2013-05-04</td>\n",
       "      <td>2013</td>\n",
       "    </tr>\n",
       "  </tbody>\n",
       "</table>\n",
       "<p>20549 rows × 5 columns</p>\n",
       "</div>"
      ],
      "text/plain": [
       "                                                 song_id  \\\n",
       "0      little_jimmy_dickens_may_the_bird_of_paradise_...   \n",
       "1                       weird_al_yankovic_amish_paradise   \n",
       "2                       weird_al_yankovic_canadian_idiot   \n",
       "3                               weird_al_yankovic_eat_it   \n",
       "4                                  weird_al_yankovic_fat   \n",
       "...                                                  ...   \n",
       "20544                     twenty_one_pilots_stressed_out   \n",
       "20545                 twenty_one_pilots_tear_in_my_heart   \n",
       "20546                      william_i_got_it_from_my_mama   \n",
       "20547                              william_its_a_new_day   \n",
       "20548            william_featuring_miley_cyrus_fall_down   \n",
       "\n",
       "                                artist  \\\n",
       "0               \"Little\" Jimmy Dickens   \n",
       "1                  \"Weird Al\" Yankovic   \n",
       "2                  \"Weird Al\" Yankovic   \n",
       "3                  \"Weird Al\" Yankovic   \n",
       "4                  \"Weird Al\" Yankovic   \n",
       "...                                ...   \n",
       "20544                twenty one pilots   \n",
       "20545                twenty one pilots   \n",
       "20546                        will.i.am   \n",
       "20547                        will.i.am   \n",
       "20548  will.i.am Featuring Miley Cyrus   \n",
       "\n",
       "                                           title        date  year  \n",
       "0      May The Bird Of Paradise Fly Up Your Nose  1965-12-14  1965  \n",
       "1                                 Amish Paradise  1996-07-07  1996  \n",
       "2                                 Canadian Idiot  2006-11-04  2006  \n",
       "3                                         Eat It  1984-05-26  1984  \n",
       "4                                            Fat  1988-05-28  1988  \n",
       "...                                          ...         ...   ...  \n",
       "20544                               Stressed Out  2016-10-01  2016  \n",
       "20545                           Tear In My Heart  2015-08-08  2015  \n",
       "20546                      I Got It From My Mama  2007-10-20  2007  \n",
       "20547                             It's A New Day  2009-02-07  2009  \n",
       "20548                                  Fall Down  2013-05-04  2013  \n",
       "\n",
       "[20549 rows x 5 columns]"
      ]
     },
     "execution_count": 43,
     "metadata": {},
     "output_type": "execute_result"
    }
   ],
   "source": [
    "df_top2"
   ]
  }
 ],
 "metadata": {
  "kernelspec": {
   "display_name": ".venv",
   "language": "python",
   "name": "python3"
  },
  "language_info": {
   "codemirror_mode": {
    "name": "ipython",
    "version": 3
   },
   "file_extension": ".py",
   "mimetype": "text/x-python",
   "name": "python",
   "nbconvert_exporter": "python",
   "pygments_lexer": "ipython3",
   "version": "3.10.2"
  }
 },
 "nbformat": 4,
 "nbformat_minor": 2
}
