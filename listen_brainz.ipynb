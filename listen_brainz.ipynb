{
 "cells": [
  {
   "cell_type": "code",
   "execution_count": 1,
   "metadata": {},
   "outputs": [],
   "source": [
    "import pandas as pd\n",
    "import plotly as plt\n",
    "import seaborn as sns\n",
    "import plotly.express as px"
   ]
  },
  {
   "cell_type": "code",
   "execution_count": 2,
   "metadata": {},
   "outputs": [],
   "source": [
    "# Loading data set saved from BigQuery ListenBrainz database\n",
    "\n",
    "lb= pd.read_csv(\"data/listen_brainz.csv\")"
   ]
  },
  {
   "cell_type": "code",
   "execution_count": 3,
   "metadata": {},
   "outputs": [
    {
     "data": {
      "text/plain": [
       "(8480062, 3)"
      ]
     },
     "execution_count": 3,
     "metadata": {},
     "output_type": "execute_result"
    }
   ],
   "source": [
    "lb.shape"
   ]
  },
  {
   "cell_type": "code",
   "execution_count": 4,
   "metadata": {},
   "outputs": [
    {
     "data": {
      "text/plain": [
       "artist_name    object\n",
       "track_name     object\n",
       "listened_at    object\n",
       "dtype: object"
      ]
     },
     "execution_count": 4,
     "metadata": {},
     "output_type": "execute_result"
    }
   ],
   "source": [
    "lb.dtypes"
   ]
  },
  {
   "cell_type": "code",
   "execution_count": 5,
   "metadata": {},
   "outputs": [],
   "source": [
    "# Changing data type of 'listened_at' to datetime\n",
    "lb['listened_at'] = pd.to_datetime(lb['listened_at'])"
   ]
  },
  {
   "cell_type": "code",
   "execution_count": 6,
   "metadata": {},
   "outputs": [],
   "source": [
    "lb=lb.rename(columns={'artist_name':'artist', 'track_name':'title'})"
   ]
  },
  {
   "cell_type": "code",
   "execution_count": 7,
   "metadata": {},
   "outputs": [],
   "source": [
    "# Standardize strings in 'artist' and 'title' columns\n",
    "lb['artist_clean'] = lb['artist'].str.strip().str.lower().str.replace('\"', '').str.replace(\"'\", \"\").str.replace(\",\", \"\").str.replace(\".\", \"\").str.replace(\"!\", \"\").str.replace(\"?\", \"\").str.replace(\"&\", \"and\")\n",
    "lb['title_clean'] = lb['title'].str.strip().str.lower().str.replace('\"', '').str.replace(\"'\", \"\").str.replace(\",\", \"\").str.replace(\".\", \"\").str.replace(\"!\", \"\").str.replace(\"?\", \"\").str.replace(\"&\", \"and\")\n",
    "\n",
    "# Combine 'artist' and 'title' to create 'song_id' column\n",
    "lb['song_id'] = (lb['artist_clean'] + '_' + lb['title_clean']).str.replace(' ', '_')"
   ]
  },
  {
   "cell_type": "code",
   "execution_count": 8,
   "metadata": {},
   "outputs": [],
   "source": [
    "df_sent = pd.read_csv(\"data/sql_songs_with_sentiment.csv\")"
   ]
  },
  {
   "cell_type": "code",
   "execution_count": 9,
   "metadata": {},
   "outputs": [],
   "source": [
    "# Standardize strings in 'artist' and 'title' columns\n",
    "df_sent['artist_clean'] = df_sent['artist'].str.strip().str.lower().str.replace('\"', '').str.replace(\"'\", \"\").str.replace(\",\", \"\").str.replace(\".\", \"\").str.replace(\"!\", \"\").str.replace(\"?\", \"\").str.replace(\"&\", \"and\")\n",
    "df_sent['title_clean'] = df_sent['title'].str.strip().str.lower().str.replace('\"', '').str.replace(\"'\", \"\").str.replace(\",\", \"\").str.replace(\".\", \"\").str.replace(\"!\", \"\").str.replace(\"?\", \"\").str.replace(\"&\", \"and\")\n",
    "\n",
    "# Combine 'artist' and 'title' to create 'song_id' column\n",
    "df_sent['song_id'] = (df_sent['artist_clean'] + '_' + df_sent['title_clean']).str.replace(' ', '_')"
   ]
  },
  {
   "cell_type": "code",
   "execution_count": 12,
   "metadata": {},
   "outputs": [],
   "source": [
    "df_filtered = lb[lb['song_id'].isin(df_sent['song_id'])].reset_index(drop=True)\n"
   ]
  },
  {
   "cell_type": "code",
   "execution_count": 13,
   "metadata": {},
   "outputs": [
    {
     "data": {
      "text/plain": [
       "(5208652, 6)"
      ]
     },
     "execution_count": 13,
     "metadata": {},
     "output_type": "execute_result"
    }
   ],
   "source": [
    "df_filtered.shape"
   ]
  },
  {
   "cell_type": "code",
   "execution_count": 19,
   "metadata": {},
   "outputs": [],
   "source": [
    "df_filtered.to_csv(\"data/listen_brainz_filtered.csv\")"
   ]
  }
 ],
 "metadata": {
  "kernelspec": {
   "display_name": ".venv",
   "language": "python",
   "name": "python3"
  },
  "language_info": {
   "codemirror_mode": {
    "name": "ipython",
    "version": 3
   },
   "file_extension": ".py",
   "mimetype": "text/x-python",
   "name": "python",
   "nbconvert_exporter": "python",
   "pygments_lexer": "ipython3",
   "version": "3.10.2"
  }
 },
 "nbformat": 4,
 "nbformat_minor": 2
}
