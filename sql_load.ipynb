{
 "cells": [
  {
   "cell_type": "code",
   "execution_count": 2,
   "metadata": {},
   "outputs": [],
   "source": [
    "#Export to my SQL\n",
    "# Name of database: 'match_project'\n",
    "import pandas as pd\n",
    "from sqlalchemy import create_engine, text\n",
    "import pymysql.cursors\n",
    "import os\n",
    "# import getpass\n",
    "import urllib.parse\n"
   ]
  },
  {
   "cell_type": "code",
   "execution_count": 3,
   "metadata": {},
   "outputs": [],
   "source": [
    "# Loading all three datasets that will be loaded to SQL database\n",
    "\n",
    "song_sent = pd.read_csv(\"data/sql_songs_with_sentiment.csv\")\n",
    "top_songs = pd.read_csv(\"data/popular_songs.csv\")\n",
    "listen_brainz = pd.read_csv(\"data/listen_brainz_filtered.csv\")"
   ]
  },
  {
   "cell_type": "code",
   "execution_count": 4,
   "metadata": {},
   "outputs": [],
   "source": [
    "song_sent=song_sent.rename(columns={\"song_id2\": \"song_id\"})"
   ]
  },
  {
   "cell_type": "code",
   "execution_count": 5,
   "metadata": {},
   "outputs": [
    {
     "data": {
      "text/html": [
       "<div>\n",
       "<style scoped>\n",
       "    .dataframe tbody tr th:only-of-type {\n",
       "        vertical-align: middle;\n",
       "    }\n",
       "\n",
       "    .dataframe tbody tr th {\n",
       "        vertical-align: top;\n",
       "    }\n",
       "\n",
       "    .dataframe thead th {\n",
       "        text-align: right;\n",
       "    }\n",
       "</style>\n",
       "<table border=\"1\" class=\"dataframe\">\n",
       "  <thead>\n",
       "    <tr style=\"text-align: right;\">\n",
       "      <th></th>\n",
       "      <th>Unnamed: 0</th>\n",
       "      <th>song_id</th>\n",
       "      <th>artist</th>\n",
       "      <th>title</th>\n",
       "      <th>tag</th>\n",
       "      <th>year</th>\n",
       "      <th>positive_score</th>\n",
       "      <th>neutral_score</th>\n",
       "      <th>negative_score</th>\n",
       "      <th>is_positive</th>\n",
       "      <th>is_negative</th>\n",
       "      <th>is_neutral</th>\n",
       "    </tr>\n",
       "  </thead>\n",
       "  <tbody>\n",
       "  </tbody>\n",
       "</table>\n",
       "</div>"
      ],
      "text/plain": [
       "Empty DataFrame\n",
       "Columns: [Unnamed: 0, song_id, artist, title, tag, year, positive_score, neutral_score, negative_score, is_positive, is_negative, is_neutral]\n",
       "Index: []"
      ]
     },
     "execution_count": 5,
     "metadata": {},
     "output_type": "execute_result"
    }
   ],
   "source": [
    "song_sent[song_sent['song_id'].duplicated()]"
   ]
  },
  {
   "cell_type": "code",
   "execution_count": 6,
   "metadata": {},
   "outputs": [],
   "source": [
    "top_songs = top_songs.drop(columns=\"Unnamed: 0\")"
   ]
  },
  {
   "cell_type": "code",
   "execution_count": 7,
   "metadata": {},
   "outputs": [
    {
     "data": {
      "text/html": [
       "<div>\n",
       "<style scoped>\n",
       "    .dataframe tbody tr th:only-of-type {\n",
       "        vertical-align: middle;\n",
       "    }\n",
       "\n",
       "    .dataframe tbody tr th {\n",
       "        vertical-align: top;\n",
       "    }\n",
       "\n",
       "    .dataframe thead th {\n",
       "        text-align: right;\n",
       "    }\n",
       "</style>\n",
       "<table border=\"1\" class=\"dataframe\">\n",
       "  <thead>\n",
       "    <tr style=\"text-align: right;\">\n",
       "      <th></th>\n",
       "      <th>artist</th>\n",
       "      <th>title</th>\n",
       "      <th>date</th>\n",
       "      <th>year</th>\n",
       "      <th>artist_clean</th>\n",
       "      <th>title_clean</th>\n",
       "      <th>song_id</th>\n",
       "      <th>song_id2</th>\n",
       "      <th>main_artist</th>\n",
       "    </tr>\n",
       "  </thead>\n",
       "  <tbody>\n",
       "    <tr>\n",
       "      <th>0</th>\n",
       "      <td>\"Little\" Jimmy Dickens</td>\n",
       "      <td>May The Bird Of Paradise Fly Up Your Nose</td>\n",
       "      <td>1965-12-14</td>\n",
       "      <td>1965</td>\n",
       "      <td>little jimmy dickens</td>\n",
       "      <td>may the bird of paradise fly up your nose</td>\n",
       "      <td>little_jimmy_dickens_may_the_bird_of_paradise_...</td>\n",
       "      <td>little_jimmy_dickens_may_the_bird_of_paradise_...</td>\n",
       "      <td>little jimmy dickens</td>\n",
       "    </tr>\n",
       "    <tr>\n",
       "      <th>1</th>\n",
       "      <td>\"Weird Al\" Yankovic</td>\n",
       "      <td>Amish Paradise</td>\n",
       "      <td>1996-07-07</td>\n",
       "      <td>1996</td>\n",
       "      <td>weird al yankovic</td>\n",
       "      <td>amish paradise</td>\n",
       "      <td>weird_al_yankovic_amish_paradise</td>\n",
       "      <td>weird_al_yankovic_amish_paradise</td>\n",
       "      <td>weird al yankovic</td>\n",
       "    </tr>\n",
       "    <tr>\n",
       "      <th>2</th>\n",
       "      <td>\"Weird Al\" Yankovic</td>\n",
       "      <td>Canadian Idiot</td>\n",
       "      <td>2006-11-04</td>\n",
       "      <td>2006</td>\n",
       "      <td>weird al yankovic</td>\n",
       "      <td>canadian idiot</td>\n",
       "      <td>weird_al_yankovic_canadian_idiot</td>\n",
       "      <td>weird_al_yankovic_canadian_idiot</td>\n",
       "      <td>weird al yankovic</td>\n",
       "    </tr>\n",
       "    <tr>\n",
       "      <th>3</th>\n",
       "      <td>\"Weird Al\" Yankovic</td>\n",
       "      <td>Eat It</td>\n",
       "      <td>1984-05-26</td>\n",
       "      <td>1984</td>\n",
       "      <td>weird al yankovic</td>\n",
       "      <td>eat it</td>\n",
       "      <td>weird_al_yankovic_eat_it</td>\n",
       "      <td>weird_al_yankovic_eat_it</td>\n",
       "      <td>weird al yankovic</td>\n",
       "    </tr>\n",
       "    <tr>\n",
       "      <th>4</th>\n",
       "      <td>\"Weird Al\" Yankovic</td>\n",
       "      <td>Fat</td>\n",
       "      <td>1988-05-28</td>\n",
       "      <td>1988</td>\n",
       "      <td>weird al yankovic</td>\n",
       "      <td>fat</td>\n",
       "      <td>weird_al_yankovic_fat</td>\n",
       "      <td>weird_al_yankovic_fat</td>\n",
       "      <td>weird al yankovic</td>\n",
       "    </tr>\n",
       "    <tr>\n",
       "      <th>...</th>\n",
       "      <td>...</td>\n",
       "      <td>...</td>\n",
       "      <td>...</td>\n",
       "      <td>...</td>\n",
       "      <td>...</td>\n",
       "      <td>...</td>\n",
       "      <td>...</td>\n",
       "      <td>...</td>\n",
       "      <td>...</td>\n",
       "    </tr>\n",
       "    <tr>\n",
       "      <th>20541</th>\n",
       "      <td>twenty one pilots</td>\n",
       "      <td>Stressed Out</td>\n",
       "      <td>2016-10-01</td>\n",
       "      <td>2016</td>\n",
       "      <td>twenty one pilots</td>\n",
       "      <td>stressed out</td>\n",
       "      <td>twenty_one_pilots_stressed_out</td>\n",
       "      <td>twenty_one_pilots_stressed_out</td>\n",
       "      <td>twenty one pilots</td>\n",
       "    </tr>\n",
       "    <tr>\n",
       "      <th>20542</th>\n",
       "      <td>twenty one pilots</td>\n",
       "      <td>Tear In My Heart</td>\n",
       "      <td>2015-08-08</td>\n",
       "      <td>2015</td>\n",
       "      <td>twenty one pilots</td>\n",
       "      <td>tear in my heart</td>\n",
       "      <td>twenty_one_pilots_tear_in_my_heart</td>\n",
       "      <td>twenty_one_pilots_tear_in_my_heart</td>\n",
       "      <td>twenty one pilots</td>\n",
       "    </tr>\n",
       "    <tr>\n",
       "      <th>20543</th>\n",
       "      <td>will.i.am</td>\n",
       "      <td>I Got It From My Mama</td>\n",
       "      <td>2007-10-20</td>\n",
       "      <td>2007</td>\n",
       "      <td>william</td>\n",
       "      <td>i got it from my mama</td>\n",
       "      <td>william_i_got_it_from_my_mama</td>\n",
       "      <td>william_i_got_it_from_my_mama</td>\n",
       "      <td>william</td>\n",
       "    </tr>\n",
       "    <tr>\n",
       "      <th>20544</th>\n",
       "      <td>will.i.am</td>\n",
       "      <td>It's A New Day</td>\n",
       "      <td>2009-02-07</td>\n",
       "      <td>2009</td>\n",
       "      <td>william</td>\n",
       "      <td>its a new day</td>\n",
       "      <td>william_its_a_new_day</td>\n",
       "      <td>william_its_a_new_day</td>\n",
       "      <td>william</td>\n",
       "    </tr>\n",
       "    <tr>\n",
       "      <th>20545</th>\n",
       "      <td>will.i.am Featuring Miley Cyrus</td>\n",
       "      <td>Fall Down</td>\n",
       "      <td>2013-05-04</td>\n",
       "      <td>2013</td>\n",
       "      <td>william featuring miley cyrus</td>\n",
       "      <td>fall down</td>\n",
       "      <td>william_featuring_miley_cyrus_fall_down</td>\n",
       "      <td>william_fall_down</td>\n",
       "      <td>william</td>\n",
       "    </tr>\n",
       "  </tbody>\n",
       "</table>\n",
       "<p>20546 rows × 9 columns</p>\n",
       "</div>"
      ],
      "text/plain": [
       "                                artist  \\\n",
       "0               \"Little\" Jimmy Dickens   \n",
       "1                  \"Weird Al\" Yankovic   \n",
       "2                  \"Weird Al\" Yankovic   \n",
       "3                  \"Weird Al\" Yankovic   \n",
       "4                  \"Weird Al\" Yankovic   \n",
       "...                                ...   \n",
       "20541                twenty one pilots   \n",
       "20542                twenty one pilots   \n",
       "20543                        will.i.am   \n",
       "20544                        will.i.am   \n",
       "20545  will.i.am Featuring Miley Cyrus   \n",
       "\n",
       "                                           title        date  year  \\\n",
       "0      May The Bird Of Paradise Fly Up Your Nose  1965-12-14  1965   \n",
       "1                                 Amish Paradise  1996-07-07  1996   \n",
       "2                                 Canadian Idiot  2006-11-04  2006   \n",
       "3                                         Eat It  1984-05-26  1984   \n",
       "4                                            Fat  1988-05-28  1988   \n",
       "...                                          ...         ...   ...   \n",
       "20541                               Stressed Out  2016-10-01  2016   \n",
       "20542                           Tear In My Heart  2015-08-08  2015   \n",
       "20543                      I Got It From My Mama  2007-10-20  2007   \n",
       "20544                             It's A New Day  2009-02-07  2009   \n",
       "20545                                  Fall Down  2013-05-04  2013   \n",
       "\n",
       "                        artist_clean  \\\n",
       "0               little jimmy dickens   \n",
       "1                  weird al yankovic   \n",
       "2                  weird al yankovic   \n",
       "3                  weird al yankovic   \n",
       "4                  weird al yankovic   \n",
       "...                              ...   \n",
       "20541              twenty one pilots   \n",
       "20542              twenty one pilots   \n",
       "20543                        william   \n",
       "20544                        william   \n",
       "20545  william featuring miley cyrus   \n",
       "\n",
       "                                     title_clean  \\\n",
       "0      may the bird of paradise fly up your nose   \n",
       "1                                 amish paradise   \n",
       "2                                 canadian idiot   \n",
       "3                                         eat it   \n",
       "4                                            fat   \n",
       "...                                          ...   \n",
       "20541                               stressed out   \n",
       "20542                           tear in my heart   \n",
       "20543                      i got it from my mama   \n",
       "20544                              its a new day   \n",
       "20545                                  fall down   \n",
       "\n",
       "                                                 song_id  \\\n",
       "0      little_jimmy_dickens_may_the_bird_of_paradise_...   \n",
       "1                       weird_al_yankovic_amish_paradise   \n",
       "2                       weird_al_yankovic_canadian_idiot   \n",
       "3                               weird_al_yankovic_eat_it   \n",
       "4                                  weird_al_yankovic_fat   \n",
       "...                                                  ...   \n",
       "20541                     twenty_one_pilots_stressed_out   \n",
       "20542                 twenty_one_pilots_tear_in_my_heart   \n",
       "20543                      william_i_got_it_from_my_mama   \n",
       "20544                              william_its_a_new_day   \n",
       "20545            william_featuring_miley_cyrus_fall_down   \n",
       "\n",
       "                                                song_id2           main_artist  \n",
       "0      little_jimmy_dickens_may_the_bird_of_paradise_...  little jimmy dickens  \n",
       "1                       weird_al_yankovic_amish_paradise     weird al yankovic  \n",
       "2                       weird_al_yankovic_canadian_idiot     weird al yankovic  \n",
       "3                               weird_al_yankovic_eat_it     weird al yankovic  \n",
       "4                                  weird_al_yankovic_fat     weird al yankovic  \n",
       "...                                                  ...                   ...  \n",
       "20541                     twenty_one_pilots_stressed_out     twenty one pilots  \n",
       "20542                 twenty_one_pilots_tear_in_my_heart     twenty one pilots  \n",
       "20543                      william_i_got_it_from_my_mama               william  \n",
       "20544                              william_its_a_new_day               william  \n",
       "20545                                  william_fall_down               william  \n",
       "\n",
       "[20546 rows x 9 columns]"
      ]
     },
     "execution_count": 7,
     "metadata": {},
     "output_type": "execute_result"
    }
   ],
   "source": [
    "top_songs"
   ]
  },
  {
   "cell_type": "code",
   "execution_count": 40,
   "metadata": {},
   "outputs": [],
   "source": [
    "pw = \"19Klipsch46\"\n",
    "\n",
    "connection_string = 'mysql+pymysql://root:' + pw + '@localhost:3306/'\n",
    "engine = create_engine(connection_string)"
   ]
  },
  {
   "cell_type": "code",
   "execution_count": 41,
   "metadata": {},
   "outputs": [],
   "source": [
    "with engine.connect() as conn:\n",
    "    conn.execute(text(\"CREATE DATABASE IF NOT EXISTS song_sentiment_db\"))"
   ]
  },
  {
   "cell_type": "code",
   "execution_count": 46,
   "metadata": {},
   "outputs": [
    {
     "name": "stderr",
     "output_type": "stream",
     "text": [
      "/var/folders/2n/0zc5p_q960ggjwt11ytfzc1h0000gp/T/ipykernel_73829/1878100873.py:1: FutureWarning: Starting with pandas version 3.0 all arguments of to_sql except for the arguments 'name' and 'con' will be keyword-only.\n",
      "  song_sent.to_sql('songs_sentiment',engine, 'song_sentiment_db', if_exists='replace', index=False)\n",
      "/var/folders/2n/0zc5p_q960ggjwt11ytfzc1h0000gp/T/ipykernel_73829/1878100873.py:3: FutureWarning: Starting with pandas version 3.0 all arguments of to_sql except for the arguments 'name' and 'con' will be keyword-only.\n",
      "  top_songs.to_sql('top_songs',engine, 'song_sentiment_db', if_exists='replace', index=False)\n"
     ]
    },
    {
     "data": {
      "text/plain": [
       "20546"
      ]
     },
     "execution_count": 46,
     "metadata": {},
     "output_type": "execute_result"
    }
   ],
   "source": [
    "song_sent.to_sql('songs_sentiment',engine, 'song_sentiment_db', if_exists='replace', index=False)\n",
    "\n",
    "top_songs.to_sql('top_songs',engine, 'song_sentiment_db', if_exists='replace', index=False)"
   ]
  },
  {
   "cell_type": "code",
   "execution_count": 42,
   "metadata": {},
   "outputs": [
    {
     "ename": "KeyError",
     "evalue": "\"['Unnamed: 0'] not found in axis\"",
     "output_type": "error",
     "traceback": [
      "\u001b[0;31m---------------------------------------------------------------------------\u001b[0m",
      "\u001b[0;31mKeyError\u001b[0m                                  Traceback (most recent call last)",
      "Cell \u001b[0;32mIn[42], line 1\u001b[0m\n\u001b[0;32m----> 1\u001b[0m listen_brainz\u001b[38;5;241m=\u001b[39m\u001b[43mlisten_brainz\u001b[49m\u001b[38;5;241;43m.\u001b[39;49m\u001b[43mdrop\u001b[49m\u001b[43m(\u001b[49m\u001b[43mcolumns\u001b[49m\u001b[38;5;241;43m=\u001b[39;49m\u001b[38;5;124;43m\"\u001b[39;49m\u001b[38;5;124;43mUnnamed: 0\u001b[39;49m\u001b[38;5;124;43m\"\u001b[39;49m\u001b[43m)\u001b[49m\n",
      "File \u001b[0;32m~/Documents/data_project/.venv/lib/python3.10/site-packages/pandas/core/frame.py:5581\u001b[0m, in \u001b[0;36mDataFrame.drop\u001b[0;34m(self, labels, axis, index, columns, level, inplace, errors)\u001b[0m\n\u001b[1;32m   5433\u001b[0m \u001b[38;5;28;01mdef\u001b[39;00m \u001b[38;5;21mdrop\u001b[39m(\n\u001b[1;32m   5434\u001b[0m     \u001b[38;5;28mself\u001b[39m,\n\u001b[1;32m   5435\u001b[0m     labels: IndexLabel \u001b[38;5;241m|\u001b[39m \u001b[38;5;28;01mNone\u001b[39;00m \u001b[38;5;241m=\u001b[39m \u001b[38;5;28;01mNone\u001b[39;00m,\n\u001b[0;32m   (...)\u001b[0m\n\u001b[1;32m   5442\u001b[0m     errors: IgnoreRaise \u001b[38;5;241m=\u001b[39m \u001b[38;5;124m\"\u001b[39m\u001b[38;5;124mraise\u001b[39m\u001b[38;5;124m\"\u001b[39m,\n\u001b[1;32m   5443\u001b[0m ) \u001b[38;5;241m-\u001b[39m\u001b[38;5;241m>\u001b[39m DataFrame \u001b[38;5;241m|\u001b[39m \u001b[38;5;28;01mNone\u001b[39;00m:\n\u001b[1;32m   5444\u001b[0m \u001b[38;5;250m    \u001b[39m\u001b[38;5;124;03m\"\"\"\u001b[39;00m\n\u001b[1;32m   5445\u001b[0m \u001b[38;5;124;03m    Drop specified labels from rows or columns.\u001b[39;00m\n\u001b[1;32m   5446\u001b[0m \n\u001b[0;32m   (...)\u001b[0m\n\u001b[1;32m   5579\u001b[0m \u001b[38;5;124;03m            weight  1.0     0.8\u001b[39;00m\n\u001b[1;32m   5580\u001b[0m \u001b[38;5;124;03m    \"\"\"\u001b[39;00m\n\u001b[0;32m-> 5581\u001b[0m     \u001b[38;5;28;01mreturn\u001b[39;00m \u001b[38;5;28;43msuper\u001b[39;49m\u001b[43m(\u001b[49m\u001b[43m)\u001b[49m\u001b[38;5;241;43m.\u001b[39;49m\u001b[43mdrop\u001b[49m\u001b[43m(\u001b[49m\n\u001b[1;32m   5582\u001b[0m \u001b[43m        \u001b[49m\u001b[43mlabels\u001b[49m\u001b[38;5;241;43m=\u001b[39;49m\u001b[43mlabels\u001b[49m\u001b[43m,\u001b[49m\n\u001b[1;32m   5583\u001b[0m \u001b[43m        \u001b[49m\u001b[43maxis\u001b[49m\u001b[38;5;241;43m=\u001b[39;49m\u001b[43maxis\u001b[49m\u001b[43m,\u001b[49m\n\u001b[1;32m   5584\u001b[0m \u001b[43m        \u001b[49m\u001b[43mindex\u001b[49m\u001b[38;5;241;43m=\u001b[39;49m\u001b[43mindex\u001b[49m\u001b[43m,\u001b[49m\n\u001b[1;32m   5585\u001b[0m \u001b[43m        \u001b[49m\u001b[43mcolumns\u001b[49m\u001b[38;5;241;43m=\u001b[39;49m\u001b[43mcolumns\u001b[49m\u001b[43m,\u001b[49m\n\u001b[1;32m   5586\u001b[0m \u001b[43m        \u001b[49m\u001b[43mlevel\u001b[49m\u001b[38;5;241;43m=\u001b[39;49m\u001b[43mlevel\u001b[49m\u001b[43m,\u001b[49m\n\u001b[1;32m   5587\u001b[0m \u001b[43m        \u001b[49m\u001b[43minplace\u001b[49m\u001b[38;5;241;43m=\u001b[39;49m\u001b[43minplace\u001b[49m\u001b[43m,\u001b[49m\n\u001b[1;32m   5588\u001b[0m \u001b[43m        \u001b[49m\u001b[43merrors\u001b[49m\u001b[38;5;241;43m=\u001b[39;49m\u001b[43merrors\u001b[49m\u001b[43m,\u001b[49m\n\u001b[1;32m   5589\u001b[0m \u001b[43m    \u001b[49m\u001b[43m)\u001b[49m\n",
      "File \u001b[0;32m~/Documents/data_project/.venv/lib/python3.10/site-packages/pandas/core/generic.py:4788\u001b[0m, in \u001b[0;36mNDFrame.drop\u001b[0;34m(self, labels, axis, index, columns, level, inplace, errors)\u001b[0m\n\u001b[1;32m   4786\u001b[0m \u001b[38;5;28;01mfor\u001b[39;00m axis, labels \u001b[38;5;129;01min\u001b[39;00m axes\u001b[38;5;241m.\u001b[39mitems():\n\u001b[1;32m   4787\u001b[0m     \u001b[38;5;28;01mif\u001b[39;00m labels \u001b[38;5;129;01mis\u001b[39;00m \u001b[38;5;129;01mnot\u001b[39;00m \u001b[38;5;28;01mNone\u001b[39;00m:\n\u001b[0;32m-> 4788\u001b[0m         obj \u001b[38;5;241m=\u001b[39m \u001b[43mobj\u001b[49m\u001b[38;5;241;43m.\u001b[39;49m\u001b[43m_drop_axis\u001b[49m\u001b[43m(\u001b[49m\u001b[43mlabels\u001b[49m\u001b[43m,\u001b[49m\u001b[43m \u001b[49m\u001b[43maxis\u001b[49m\u001b[43m,\u001b[49m\u001b[43m \u001b[49m\u001b[43mlevel\u001b[49m\u001b[38;5;241;43m=\u001b[39;49m\u001b[43mlevel\u001b[49m\u001b[43m,\u001b[49m\u001b[43m \u001b[49m\u001b[43merrors\u001b[49m\u001b[38;5;241;43m=\u001b[39;49m\u001b[43merrors\u001b[49m\u001b[43m)\u001b[49m\n\u001b[1;32m   4790\u001b[0m \u001b[38;5;28;01mif\u001b[39;00m inplace:\n\u001b[1;32m   4791\u001b[0m     \u001b[38;5;28mself\u001b[39m\u001b[38;5;241m.\u001b[39m_update_inplace(obj)\n",
      "File \u001b[0;32m~/Documents/data_project/.venv/lib/python3.10/site-packages/pandas/core/generic.py:4830\u001b[0m, in \u001b[0;36mNDFrame._drop_axis\u001b[0;34m(self, labels, axis, level, errors, only_slice)\u001b[0m\n\u001b[1;32m   4828\u001b[0m         new_axis \u001b[38;5;241m=\u001b[39m axis\u001b[38;5;241m.\u001b[39mdrop(labels, level\u001b[38;5;241m=\u001b[39mlevel, errors\u001b[38;5;241m=\u001b[39merrors)\n\u001b[1;32m   4829\u001b[0m     \u001b[38;5;28;01melse\u001b[39;00m:\n\u001b[0;32m-> 4830\u001b[0m         new_axis \u001b[38;5;241m=\u001b[39m \u001b[43maxis\u001b[49m\u001b[38;5;241;43m.\u001b[39;49m\u001b[43mdrop\u001b[49m\u001b[43m(\u001b[49m\u001b[43mlabels\u001b[49m\u001b[43m,\u001b[49m\u001b[43m \u001b[49m\u001b[43merrors\u001b[49m\u001b[38;5;241;43m=\u001b[39;49m\u001b[43merrors\u001b[49m\u001b[43m)\u001b[49m\n\u001b[1;32m   4831\u001b[0m     indexer \u001b[38;5;241m=\u001b[39m axis\u001b[38;5;241m.\u001b[39mget_indexer(new_axis)\n\u001b[1;32m   4833\u001b[0m \u001b[38;5;66;03m# Case for non-unique axis\u001b[39;00m\n\u001b[1;32m   4834\u001b[0m \u001b[38;5;28;01melse\u001b[39;00m:\n",
      "File \u001b[0;32m~/Documents/data_project/.venv/lib/python3.10/site-packages/pandas/core/indexes/base.py:7070\u001b[0m, in \u001b[0;36mIndex.drop\u001b[0;34m(self, labels, errors)\u001b[0m\n\u001b[1;32m   7068\u001b[0m \u001b[38;5;28;01mif\u001b[39;00m mask\u001b[38;5;241m.\u001b[39many():\n\u001b[1;32m   7069\u001b[0m     \u001b[38;5;28;01mif\u001b[39;00m errors \u001b[38;5;241m!=\u001b[39m \u001b[38;5;124m\"\u001b[39m\u001b[38;5;124mignore\u001b[39m\u001b[38;5;124m\"\u001b[39m:\n\u001b[0;32m-> 7070\u001b[0m         \u001b[38;5;28;01mraise\u001b[39;00m \u001b[38;5;167;01mKeyError\u001b[39;00m(\u001b[38;5;124mf\u001b[39m\u001b[38;5;124m\"\u001b[39m\u001b[38;5;132;01m{\u001b[39;00mlabels[mask]\u001b[38;5;241m.\u001b[39mtolist()\u001b[38;5;132;01m}\u001b[39;00m\u001b[38;5;124m not found in axis\u001b[39m\u001b[38;5;124m\"\u001b[39m)\n\u001b[1;32m   7071\u001b[0m     indexer \u001b[38;5;241m=\u001b[39m indexer[\u001b[38;5;241m~\u001b[39mmask]\n\u001b[1;32m   7072\u001b[0m \u001b[38;5;28;01mreturn\u001b[39;00m \u001b[38;5;28mself\u001b[39m\u001b[38;5;241m.\u001b[39mdelete(indexer)\n",
      "\u001b[0;31mKeyError\u001b[0m: \"['Unnamed: 0'] not found in axis\""
     ]
    }
   ],
   "source": [
    "listen_brainz=listen_brainz.drop(columns=\"Unnamed: 0\")"
   ]
  },
  {
   "cell_type": "code",
   "execution_count": 47,
   "metadata": {},
   "outputs": [
    {
     "name": "stderr",
     "output_type": "stream",
     "text": [
      "/var/folders/2n/0zc5p_q960ggjwt11ytfzc1h0000gp/T/ipykernel_73829/2331377828.py:1: FutureWarning: Starting with pandas version 3.0 all arguments of to_sql except for the arguments 'name' and 'con' will be keyword-only.\n",
      "  listen_brainz.to_sql('listen_brainz_activity',engine, 'song_sentiment_db', if_exists='replace', index=False)\n"
     ]
    },
    {
     "data": {
      "text/plain": [
       "90944"
      ]
     },
     "execution_count": 47,
     "metadata": {},
     "output_type": "execute_result"
    }
   ],
   "source": [
    "listen_brainz.to_sql('listen_brainz_activity',engine, 'song_sentiment_db', if_exists='replace', index=False)"
   ]
  },
  {
   "cell_type": "code",
   "execution_count": 8,
   "metadata": {},
   "outputs": [
    {
     "data": {
      "text/plain": [
       "(20546, 12)"
      ]
     },
     "execution_count": 8,
     "metadata": {},
     "output_type": "execute_result"
    }
   ],
   "source": [
    "song_sent.shape"
   ]
  },
  {
   "cell_type": "code",
   "execution_count": 10,
   "metadata": {},
   "outputs": [
    {
     "data": {
      "text/plain": [
       "Index(['artist', 'title', 'date', 'year', 'artist_clean', 'title_clean',\n",
       "       'song_id', 'song_id2', 'main_artist'],\n",
       "      dtype='object')"
      ]
     },
     "execution_count": 10,
     "metadata": {},
     "output_type": "execute_result"
    }
   ],
   "source": [
    "top_songs.columns"
   ]
  },
  {
   "cell_type": "code",
   "execution_count": 1,
   "metadata": {},
   "outputs": [
    {
     "ename": "NameError",
     "evalue": "name 'song_sent' is not defined",
     "output_type": "error",
     "traceback": [
      "\u001b[0;31m---------------------------------------------------------------------------\u001b[0m",
      "\u001b[0;31mNameError\u001b[0m                                 Traceback (most recent call last)",
      "Cell \u001b[0;32mIn[1], line 1\u001b[0m\n\u001b[0;32m----> 1\u001b[0m \u001b[43msong_sent\u001b[49m[song_sent[\u001b[38;5;124m'\u001b[39m\u001b[38;5;124martist\u001b[39m\u001b[38;5;124m'\u001b[39m]\u001b[38;5;241m==\u001b[39m \u001b[38;5;124m\"\u001b[39m\u001b[38;5;124mRolling\u001b[39m\u001b[38;5;124m\"\u001b[39m]\n",
      "\u001b[0;31mNameError\u001b[0m: name 'song_sent' is not defined"
     ]
    }
   ],
   "source": [
    "song_sent[song_sent['artist']== \"Rolling\"]"
   ]
  },
  {
   "cell_type": "code",
   "execution_count": 1,
   "metadata": {},
   "outputs": [
    {
     "ename": "NameError",
     "evalue": "name 'song_sent' is not defined",
     "output_type": "error",
     "traceback": [
      "\u001b[0;31m---------------------------------------------------------------------------\u001b[0m",
      "\u001b[0;31mNameError\u001b[0m                                 Traceback (most recent call last)",
      "Cell \u001b[0;32mIn[1], line 1\u001b[0m\n\u001b[0;32m----> 1\u001b[0m \u001b[43msong_sent\u001b[49m\u001b[38;5;241m.\u001b[39mshape\n",
      "\u001b[0;31mNameError\u001b[0m: name 'song_sent' is not defined"
     ]
    }
   ],
   "source": [
    "song_sent.shape"
   ]
  }
 ],
 "metadata": {
  "kernelspec": {
   "display_name": ".venv",
   "language": "python",
   "name": "python3"
  },
  "language_info": {
   "codemirror_mode": {
    "name": "ipython",
    "version": 3
   },
   "file_extension": ".py",
   "mimetype": "text/x-python",
   "name": "python",
   "nbconvert_exporter": "python",
   "pygments_lexer": "ipython3",
   "version": "3.10.2"
  }
 },
 "nbformat": 4,
 "nbformat_minor": 2
}
