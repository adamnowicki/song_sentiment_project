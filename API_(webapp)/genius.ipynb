{
 "cells": [
  {
   "cell_type": "code",
   "execution_count": 4,
   "metadata": {},
   "outputs": [
    {
     "name": "stderr",
     "output_type": "stream",
     "text": [
      "/Users/adamo/Documents/data_project/.venv/lib/python3.10/site-packages/tqdm/auto.py:21: TqdmWarning: IProgress not found. Please update jupyter and ipywidgets. See https://ipywidgets.readthedocs.io/en/stable/user_install.html\n",
      "  from .autonotebook import tqdm as notebook_tqdm\n"
     ]
    }
   ],
   "source": [
    "import pandas as pd\n",
    "import lyricsgenius as lg\n",
    "import re\n",
    "from transformers import AutoTokenizer, AutoConfig\n",
    "from scipy.special import softmax\n",
    "import numpy as np\n",
    "from transformers import AutoModelForSequenceClassification\n",
    "from transformers import AutoTokenizer\n",
    "import csv\n",
    "import urllib.request\n",
    "from gensim.parsing.preprocessing import remove_stopwords\n",
    "\n",
    "\n"
   ]
  },
  {
   "cell_type": "code",
   "execution_count": 2,
   "metadata": {},
   "outputs": [
    {
     "name": "stdout",
     "output_type": "stream",
     "text": [
      "Searching for \"Eminem\" by Stan...\n",
      "Done.\n"
     ]
    }
   ],
   "source": [
    "\n",
    "client_access_token = ''\n",
    "\n",
    "LyricsGenius = lg.Genius(client_access_token)\n",
    "song = LyricsGenius.search_song(\"Eminem\", \"Stan\")"
   ]
  },
  {
   "cell_type": "code",
   "execution_count": 3,
   "metadata": {},
   "outputs": [
    {
     "data": {
      "text/plain": [
       "'647 ContributorsTranslationsTürkçeDeutschMagyarPortuguêsFrançaisItalianoSvenskaРусскийStan Lyrics[Produced by DJ Mark the 45 King]\\n[Intro: Dido]\\nMy tea\\'s gone cold, I\\'m wondering why I\\nGot out of bed at all\\nThe morning rain clouds up my window\\nAnd I can\\'t see at all\\nAnd even if I could, it\\'d all be grey\\nBut your picture on my wall\\nIt reminds me that it\\'s not so bad, it\\'s not so bad\\n[Chorus: Dido]\\nMy tea\\'s gone cold, I\\'m wondering why I\\nGot out of bed at all\\nThe morning rain clouds up my window\\nAnd I can\\'t see at all\\nAnd even if I could, it\\'d all be grey\\nBut your picture on my wall\\nIt reminds me that it\\'s not so bad, it\\'s not so bad\\n[Verse 1: Eminem]\\nDear Slim, I wrote you, but you still ain\\'t callin\\'\\nI left my cell, my pager and my home phone at the bottom\\nI sent two letters back in autumn, you must not\\'ve got \\'em\\nThere probably was a problem at the post office or somethin\\'\\nSometimes I scribble addresses too sloppy when I jot \\'em\\nBut anyways, fuck it, what\\'s been up, man? How\\'s your daughter?\\nMy girlfriend\\'s pregnant too, I\\'m \\'bout to be a father\\nIf I have a daughter, guess what I\\'ma call her? I\\'ma name her Bonnie\\nI read about your Uncle Ronnie too, I\\'m sorry\\nI had a friend kill himself over some bitch who didn\\'t want him\\nI know you probably hear this every day, but I\\'m your biggest fan\\nI even got the underground shit that you did with Skam\\nI got a room full of your posters and your pictures, man\\nI like the shit you did with Rawkus too, that shit was phat\\nAnyways, I hope you get this, man, hit me back\\nJust to chat, truly yours, your biggest fan, this is Stan\\nYou might also like[Chorus: Dido]\\nMy tea\\'s gone cold, I\\'m wondering why I\\nGot out of bed at all\\nThe morning rain clouds up my window\\nAnd I can\\'t see at all\\nAnd even if I could, it\\'d all be grey\\nBut your picture on my wall\\nIt reminds me that it\\'s not so bad, it\\'s not so bad\\n[Verse 2: Eminem]\\nDear Slim, you still ain\\'t called or wrote, I hope you have a chance\\nI ain\\'t mad, I just think it\\'s fucked up you don\\'t answer fans\\nIf you didn\\'t want to talk to me outside your concert, you didn\\'t have to\\nBut you coulda signed an autograph for Matthew\\nThat\\'s my little brother, man, he\\'s only six years old\\nWe waited in the blisterin\\' cold for you, for four hours, and you just said, \"no\"\\nThat\\'s pretty shitty, man, you\\'re like his fuckin\\' idol\\nHe wants to be just like you, man, he likes you more than I do\\nI ain\\'t that mad, though I just don\\'t like bein\\' lied to\\nRemember when we met in Denver? You said if I\\'d write you, you would write back\\nSee, I\\'m just like you in a way: I never knew my father neither\\nHe used to always cheat on my mom and beat her\\nI can relate to what you\\'re sayin\\' in your songs\\nSo when I have a shitty day, I drift away and put \\'em on\\n\\'Cause I don\\'t really got shit else, so that shit helps when I\\'m depressed\\nI even got a tattoo with your name across the chest\\nSometimes I even cut myself to see how much it bleeds\\nIt\\'s like adrenaline, the pain is such a sudden rush for me\\nSee, everything you say is real, and I respect you \\'cause you tell it\\nMy girlfriend\\'s jealous \\'cause I talk about you 24/7\\nBut she don\\'t know you like I know you, Slim, no one does\\nShe don\\'t know what it was like for people like us growin\\' up\\nYou gotta call me, man, I\\'ll be the biggest fan you\\'ll ever lose\\nSincerely yours, Stan—P.S. We should be together too\\n[Chorus: Dido]\\nMy tea\\'s gone cold, I\\'m wondering why I\\nGot out of bed at all\\nThe morning rain clouds up my window\\nAnd I can\\'t see at all\\nAnd even if I could, it\\'d all be grey\\nBut your picture on my wall\\nIt reminds me that it\\'s not so bad, it\\'s not so bad\\n[Verse 3: Eminem]\\nDear Mr. I\\'m-Too-Good-to-Call-or-Write-My-Fans\\nThis\\'ll be the last package I ever send your ass\\nIt\\'s been six months, and still no word—I don\\'t deserve it?\\nI know you got my last two letters, I wrote the addresses on \\'em perfect\\nSo this is my cassette I\\'m sendin\\' you, I hope you hear it\\nI\\'m in the car right now, I\\'m doin\\' ninety on the freeway\\nHey, Slim, I drank a fifth of vodka, you dare me to drive?\\nYou know the song by Phil Collins, \"In the Air of the Night\"\\nAbout that guy who coulda saved that other guy from drownin\\'\\nBut didn\\'t, then Phil saw it all, then at a show he found him?\\nThat\\'s kinda how this is: you coulda rescued me from drownin\\'\\nNow it\\'s too late, I\\'m on a thousand downers now—I\\'m drowsy\\nAnd all I wanted was a lousy letter or a call\\nI hope you know I ripped all of your pictures off the wall\\nI loved you, Slim, we coulda been together—think about it!\\nYou ruined it now, I hope you can\\'t sleep and you dream about it\\nAnd when you dream, I hope you can\\'t sleep and you scream about it\\nI hope your conscience eats at you, and you can\\'t breathe without me\\nSee, Slim—shut up, bitch! I\\'m tryin\\' to talk\\nHey, Slim, that\\'s my girlfriend screamin\\' in the trunk\\nBut I didn\\'t slit her throat, I just tied her up—see? I ain\\'t like you\\n\\'Cause if she suffocates she\\'ll suffer more and then she\\'ll die too\\nWell, gotta go, I\\'m almost at the bridge now\\nOh, shit, I forgot—how am I supposed to send this shit out?!\\n[Chorus: Dido]\\nMy tea\\'s gone cold, I\\'m wondering why I\\nGot out of bed at all\\nThe morning rain clouds up my window\\nAnd I can\\'t see at all\\nAnd even if I could, it\\'d all be grey\\nBut your picture on my wall\\nIt reminds me that it\\'s not so bad, it\\'s not so bad\\n\\n[Verse 4: Eminem]\\nDear Stan, I meant to write you sooner, but I just been busy\\nYou said your girlfriend\\'s pregnant now, how far along is she?\\nLook, I\\'m really flattered you would call your daughter that\\nAnd here\\'s an autograph for your brother; I wrote it on a Starter cap\\nI\\'m sorry I didn\\'t see you at the show, I must\\'ve missed you\\nDon\\'t think I did that shit intentionally just to diss you\\nBut what\\'s this shit you said about you like to cut your wrists too?\\nI say that shit just clownin\\', dawg, come on, how fucked up is you?\\nYou got some issues, Stan, I think you need some counselin\\'\\nTo help your ass from bouncin\\' off the walls when you get down some\\nAnd what\\'s this shit about us meant to be together?\\nThat type of shit\\'ll make me not want us to meet each other\\nI really think you and your girlfriend need each other\\nOr maybe you just need to treat her better\\nI hope you get to read this letter, I just hope it reaches you in time\\nBefore you hurt yourself, I think that you\\'ll be doin\\' just fine\\nIf you relax a little, I\\'m glad I inspire you, but Stan\\nWhy are you so mad? Try to understand that I do want you as a fan\\nI just don\\'t want you to do some crazy shit\\nI seen this one shit on the news a couple weeks ago that made me sick\\nSome dude was drunk and drove his car over a bridge\\nAnd had his girlfriend in the trunk, and she was pregnant with his kid\\nAnd in the car they found a tape, but they didn\\'t say who it was to\\nCome to think about it, his name was—it was you\\nDamn...666Embed'"
      ]
     },
     "execution_count": 3,
     "metadata": {},
     "output_type": "execute_result"
    }
   ],
   "source": [
    "lyrics = song.lyrics\n",
    "#lyrics = lyrics.split(\"lyrics\", 1)[-1]\n",
    "lyrics"
   ]
  },
  {
   "cell_type": "code",
   "execution_count": 4,
   "metadata": {},
   "outputs": [],
   "source": [
    "def clean_text(text):\n",
    "\n",
    "    text = text.lower()\n",
    "    text = text.split(\"lyrics\", 1)[-1]\n",
    "    text = text.replace('\\n', ' ')\n",
    "    text = text.replace('\\\\', '')\n",
    "    text = re.sub(r'[\\'\\\",\\.!?\\\\]', '', text)\n",
    "    text = re.sub(r'\\[.*?\\]', ' ', text) \n",
    "    text = re.sub(r'\\w*\\d\\w*', ' ', text)\n",
    "    text = re.sub(r'[()]', ' ', text)\n",
    "    \n",
    "    return text"
   ]
  },
  {
   "cell_type": "code",
   "execution_count": 5,
   "metadata": {},
   "outputs": [
    {
     "data": {
      "text/plain": [
       "'    my teas gone cold im wondering why i got out of bed at all the morning rain clouds up my window and i cant see at all and even if i could itd all be grey but your picture on my wall it reminds me that its not so bad its not so bad   my teas gone cold im wondering why i got out of bed at all the morning rain clouds up my window and i cant see at all and even if i could itd all be grey but your picture on my wall it reminds me that its not so bad its not so bad   dear slim i wrote you but you still aint callin i left my cell my pager and my home phone at the bottom i sent two letters back in autumn you must notve got em there probably was a problem at the post office or somethin sometimes i scribble addresses too sloppy when i jot em but anyways fuck it whats been up man hows your daughter my girlfriends pregnant too im bout to be a father if i have a daughter guess what ima call her ima name her bonnie i read about your uncle ronnie too im sorry i had a friend kill himself over some bitch who didnt want him i know you probably hear this every day but im your biggest fan i even got the underground shit that you did with skam i got a room full of your posters and your pictures man i like the shit you did with rawkus too that shit was phat anyways i hope you get this man hit me back just to chat truly yours your biggest fan this is stan you might also like  my teas gone cold im wondering why i got out of bed at all the morning rain clouds up my window and i cant see at all and even if i could itd all be grey but your picture on my wall it reminds me that its not so bad its not so bad   dear slim you still aint called or wrote i hope you have a chance i aint mad i just think its fucked up you dont answer fans if you didnt want to talk to me outside your concert you didnt have to but you coulda signed an autograph for matthew thats my little brother man hes only six years old we waited in the blisterin cold for you for four hours and you just said no thats pretty shitty man youre like his fuckin idol he wants to be just like you man he likes you more than i do i aint that mad though i just dont like bein lied to remember when we met in denver you said if id write you you would write back see im just like you in a way: i never knew my father neither he used to always cheat on my mom and beat her i can relate to what youre sayin in your songs so when i have a shitty day i drift away and put em on cause i dont really got shit else so that shit helps when im depressed i even got a tattoo with your name across the chest sometimes i even cut myself to see how much it bleeds its like adrenaline the pain is such a sudden rush for me see everything you say is real and i respect you cause you tell it my girlfriends jealous cause i talk about you  /  but she dont know you like i know you slim no one does she dont know what it was like for people like us growin up you gotta call me man ill be the biggest fan youll ever lose sincerely yours stan—ps we should be together too   my teas gone cold im wondering why i got out of bed at all the morning rain clouds up my window and i cant see at all and even if i could itd all be grey but your picture on my wall it reminds me that its not so bad its not so bad   dear mr im-too-good-to-call-or-write-my-fans thisll be the last package i ever send your ass its been six months and still no word—i dont deserve it i know you got my last two letters i wrote the addresses on em perfect so this is my cassette im sendin you i hope you hear it im in the car right now im doin ninety on the freeway hey slim i drank a fifth of vodka you dare me to drive you know the song by phil collins in the air of the night about that guy who coulda saved that other guy from drownin but didnt then phil saw it all then at a show he found him thats kinda how this is: you coulda rescued me from drownin now its too late im on a thousand downers now—im drowsy and all i wanted was a lousy letter or a call i hope you know i ripped all of your pictures off the wall i loved you slim we coulda been together—think about it you ruined it now i hope you cant sleep and you dream about it and when you dream i hope you cant sleep and you scream about it i hope your conscience eats at you and you cant breathe without me see slim—shut up bitch im tryin to talk hey slim thats my girlfriend screamin in the trunk but i didnt slit her throat i just tied her up—see i aint like you cause if she suffocates shell suffer more and then shell die too well gotta go im almost at the bridge now oh shit i forgot—how am i supposed to send this shit out   my teas gone cold im wondering why i got out of bed at all the morning rain clouds up my window and i cant see at all and even if i could itd all be grey but your picture on my wall it reminds me that its not so bad its not so bad    dear stan i meant to write you sooner but i just been busy you said your girlfriends pregnant now how far along is she look im really flattered you would call your daughter that and heres an autograph for your brother; i wrote it on a starter cap im sorry i didnt see you at the show i mustve missed you dont think i did that shit intentionally just to diss you but whats this shit you said about you like to cut your wrists too i say that shit just clownin dawg come on how fucked up is you you got some issues stan i think you need some counselin to help your ass from bouncin off the walls when you get down some and whats this shit about us meant to be together that type of shitll make me not want us to meet each other i really think you and your girlfriend need each other or maybe you just need to treat her better i hope you get to read this letter i just hope it reaches you in time before you hurt yourself i think that youll be doin just fine if you relax a little im glad i inspire you but stan why are you so mad try to understand that i do want you as a fan i just dont want you to do some crazy shit i seen this one shit on the news a couple weeks ago that made me sick some dude was drunk and drove his car over a bridge and had his girlfriend in the trunk and she was pregnant with his kid and in the car they found a tape but they didnt say who it was to come to think about it his name was—it was you  '"
      ]
     },
     "execution_count": 5,
     "metadata": {},
     "output_type": "execute_result"
    }
   ],
   "source": [
    "lyrics = clean_text(lyrics)\n",
    "lyrics"
   ]
  },
  {
   "cell_type": "code",
   "execution_count": 1,
   "metadata": {},
   "outputs": [
    {
     "ename": "NameError",
     "evalue": "name 'remove_stopwords' is not defined",
     "output_type": "error",
     "traceback": [
      "\u001b[0;31m---------------------------------------------------------------------------\u001b[0m",
      "\u001b[0;31mNameError\u001b[0m                                 Traceback (most recent call last)",
      "Cell \u001b[0;32mIn[1], line 4\u001b[0m\n\u001b[1;32m      1\u001b[0m \u001b[38;5;66;03m# Removing stop words\u001b[39;00m\n\u001b[1;32m      2\u001b[0m \n\u001b[1;32m      3\u001b[0m \u001b[38;5;66;03m# Remove stopwords using Gensim\u001b[39;00m\n\u001b[0;32m----> 4\u001b[0m lyrics \u001b[38;5;241m=\u001b[39m \u001b[43mremove_stopwords\u001b[49m(lyrics)\n\u001b[1;32m      6\u001b[0m lyrics \u001b[38;5;241m=\u001b[39m \u001b[38;5;124m\"\u001b[39m\u001b[38;5;124mOops I did it again\u001b[39m\u001b[38;5;124m\"\u001b[39m\n",
      "\u001b[0;31mNameError\u001b[0m: name 'remove_stopwords' is not defined"
     ]
    }
   ],
   "source": [
    "# Removing stop words\n",
    "\n",
    "# Remove stopwords using Gensim\n",
    "lyrics = remove_stopwords(lyrics)\n",
    " \n"
   ]
  },
  {
   "cell_type": "code",
   "execution_count": 2,
   "metadata": {},
   "outputs": [],
   "source": []
  },
  {
   "cell_type": "code",
   "execution_count": 7,
   "metadata": {},
   "outputs": [],
   "source": [
    "# Setting up model\n",
    "\n",
    "task='sentiment'\n",
    "MODEL = f\"cardiffnlp/twitter-roberta-base-{task}\"\n",
    "\n",
    "tokenizer = AutoTokenizer.from_pretrained(MODEL)\n",
    "\n",
    "# download label mapping\n",
    "labels=[]\n",
    "mapping_link = f\"https://raw.githubusercontent.com/cardiffnlp/tweeteval/main/datasets/{task}/mapping.txt\"\n",
    "with urllib.request.urlopen(mapping_link) as f:\n",
    "    html = f.read().decode('utf-8').split(\"\\n\")\n",
    "    csvreader = csv.reader(html, delimiter='\\t')\n",
    "labels = [row[1] for row in csvreader if len(row) > 1]\n",
    "\n",
    "\n",
    "model = AutoModelForSequenceClassification.from_pretrained(MODEL)"
   ]
  },
  {
   "cell_type": "code",
   "execution_count": 31,
   "metadata": {},
   "outputs": [],
   "source": [
    "lyrics = \"\"\"When I die, fuck it, I wanna go to hell\n",
    "'Cause I'm a piece of shit, it ain't hard to fuckin' tell (What you talkin' 'bout, man?)\n",
    "It don't make sense, goin' to heaven with the goodie-goodies\n",
    "Dressed in white, I like black Timbs and black hoodies (Aw, man)\"\"\""
   ]
  },
  {
   "cell_type": "code",
   "execution_count": 32,
   "metadata": {},
   "outputs": [
    {
     "name": "stdout",
     "output_type": "stream",
     "text": [
      "1) negative 0.8035\n",
      "2) neutral 0.1621\n",
      "3) positive 0.0344\n"
     ]
    }
   ],
   "source": [
    "encoded_input = tokenizer(lyrics, return_tensors='pt', max_length=512)\n",
    "output = model(**encoded_input)\n",
    "scores = output[0][0].detach().numpy()\n",
    "scores = softmax(scores)\n",
    "\n",
    "ranking = np.argsort(scores)\n",
    "ranking = ranking[::-1]\n",
    "for i in range(scores.shape[0]):\n",
    "    l = labels[ranking[i]]\n",
    "    s = scores[ranking[i]]\n",
    "    print(f\"{i+1}) {l} {np.round(float(s), 4)}\")"
   ]
  },
  {
   "cell_type": "code",
   "execution_count": 19,
   "metadata": {},
   "outputs": [
    {
     "name": "stderr",
     "output_type": "stream",
     "text": [
      "Some weights of the model checkpoint at cardiffnlp/twitter-roberta-base-sentiment-latest were not used when initializing RobertaForSequenceClassification: ['roberta.pooler.dense.bias', 'roberta.pooler.dense.weight']\n",
      "- This IS expected if you are initializing RobertaForSequenceClassification from the checkpoint of a model trained on another task or with another architecture (e.g. initializing a BertForSequenceClassification model from a BertForPreTraining model).\n",
      "- This IS NOT expected if you are initializing RobertaForSequenceClassification from the checkpoint of a model that you expect to be exactly identical (initializing a BertForSequenceClassification model from a BertForSequenceClassification model).\n"
     ]
    },
    {
     "ename": "RuntimeError",
     "evalue": "The expanded size of the tensor (645) must match the existing size (514) at non-singleton dimension 1.  Target sizes: [1, 645].  Tensor sizes: [1, 514]",
     "output_type": "error",
     "traceback": [
      "\u001b[0;31m---------------------------------------------------------------------------\u001b[0m",
      "\u001b[0;31mRuntimeError\u001b[0m                              Traceback (most recent call last)",
      "Cell \u001b[0;32mIn[19], line 5\u001b[0m\n\u001b[1;32m      1\u001b[0m \u001b[38;5;28;01mfrom\u001b[39;00m \u001b[38;5;21;01mtransformers\u001b[39;00m \u001b[38;5;28;01mimport\u001b[39;00m pipeline\n\u001b[1;32m      4\u001b[0m sentiment_task \u001b[38;5;241m=\u001b[39m pipeline(\u001b[38;5;124m\"\u001b[39m\u001b[38;5;124msentiment-analysis\u001b[39m\u001b[38;5;124m\"\u001b[39m, model\u001b[38;5;241m=\u001b[39m\u001b[38;5;124mf\u001b[39m\u001b[38;5;124m\"\u001b[39m\u001b[38;5;124mcardiffnlp/twitter-roberta-base-sentiment-latest\u001b[39m\u001b[38;5;124m\"\u001b[39m, tokenizer\u001b[38;5;241m=\u001b[39m\u001b[38;5;124mf\u001b[39m\u001b[38;5;124m\"\u001b[39m\u001b[38;5;124mcardiffnlp/twitter-roberta-base-sentiment-latest\u001b[39m\u001b[38;5;124m\"\u001b[39m)\n\u001b[0;32m----> 5\u001b[0m \u001b[43msentiment_task\u001b[49m\u001b[43m(\u001b[49m\u001b[43mlyrics\u001b[49m\u001b[43m)\u001b[49m\n",
      "File \u001b[0;32m~/Documents/data_project/.venv/lib/python3.10/site-packages/transformers/pipelines/text_classification.py:156\u001b[0m, in \u001b[0;36mTextClassificationPipeline.__call__\u001b[0;34m(self, inputs, **kwargs)\u001b[0m\n\u001b[1;32m    122\u001b[0m \u001b[38;5;250m\u001b[39m\u001b[38;5;124;03m\"\"\"\u001b[39;00m\n\u001b[1;32m    123\u001b[0m \u001b[38;5;124;03mClassify the text(s) given as inputs.\u001b[39;00m\n\u001b[1;32m    124\u001b[0m \n\u001b[0;32m   (...)\u001b[0m\n\u001b[1;32m    153\u001b[0m \u001b[38;5;124;03m    If `top_k` is used, one such dictionary is returned per label.\u001b[39;00m\n\u001b[1;32m    154\u001b[0m \u001b[38;5;124;03m\"\"\"\u001b[39;00m\n\u001b[1;32m    155\u001b[0m inputs \u001b[38;5;241m=\u001b[39m (inputs,)\n\u001b[0;32m--> 156\u001b[0m result \u001b[38;5;241m=\u001b[39m \u001b[38;5;28;43msuper\u001b[39;49m\u001b[43m(\u001b[49m\u001b[43m)\u001b[49m\u001b[38;5;241;43m.\u001b[39;49m\u001b[38;5;21;43m__call__\u001b[39;49m\u001b[43m(\u001b[49m\u001b[38;5;241;43m*\u001b[39;49m\u001b[43minputs\u001b[49m\u001b[43m,\u001b[49m\u001b[43m \u001b[49m\u001b[38;5;241;43m*\u001b[39;49m\u001b[38;5;241;43m*\u001b[39;49m\u001b[43mkwargs\u001b[49m\u001b[43m)\u001b[49m\n\u001b[1;32m    157\u001b[0m \u001b[38;5;66;03m# TODO try and retrieve it in a nicer way from _sanitize_parameters.\u001b[39;00m\n\u001b[1;32m    158\u001b[0m _legacy \u001b[38;5;241m=\u001b[39m \u001b[38;5;124m\"\u001b[39m\u001b[38;5;124mtop_k\u001b[39m\u001b[38;5;124m\"\u001b[39m \u001b[38;5;129;01mnot\u001b[39;00m \u001b[38;5;129;01min\u001b[39;00m kwargs\n",
      "File \u001b[0;32m~/Documents/data_project/.venv/lib/python3.10/site-packages/transformers/pipelines/base.py:1206\u001b[0m, in \u001b[0;36mPipeline.__call__\u001b[0;34m(self, inputs, num_workers, batch_size, *args, **kwargs)\u001b[0m\n\u001b[1;32m   1198\u001b[0m     \u001b[38;5;28;01mreturn\u001b[39;00m \u001b[38;5;28mnext\u001b[39m(\n\u001b[1;32m   1199\u001b[0m         \u001b[38;5;28miter\u001b[39m(\n\u001b[1;32m   1200\u001b[0m             \u001b[38;5;28mself\u001b[39m\u001b[38;5;241m.\u001b[39mget_iterator(\n\u001b[0;32m   (...)\u001b[0m\n\u001b[1;32m   1203\u001b[0m         )\n\u001b[1;32m   1204\u001b[0m     )\n\u001b[1;32m   1205\u001b[0m \u001b[38;5;28;01melse\u001b[39;00m:\n\u001b[0;32m-> 1206\u001b[0m     \u001b[38;5;28;01mreturn\u001b[39;00m \u001b[38;5;28;43mself\u001b[39;49m\u001b[38;5;241;43m.\u001b[39;49m\u001b[43mrun_single\u001b[49m\u001b[43m(\u001b[49m\u001b[43minputs\u001b[49m\u001b[43m,\u001b[49m\u001b[43m \u001b[49m\u001b[43mpreprocess_params\u001b[49m\u001b[43m,\u001b[49m\u001b[43m \u001b[49m\u001b[43mforward_params\u001b[49m\u001b[43m,\u001b[49m\u001b[43m \u001b[49m\u001b[43mpostprocess_params\u001b[49m\u001b[43m)\u001b[49m\n",
      "File \u001b[0;32m~/Documents/data_project/.venv/lib/python3.10/site-packages/transformers/pipelines/base.py:1213\u001b[0m, in \u001b[0;36mPipeline.run_single\u001b[0;34m(self, inputs, preprocess_params, forward_params, postprocess_params)\u001b[0m\n\u001b[1;32m   1211\u001b[0m \u001b[38;5;28;01mdef\u001b[39;00m \u001b[38;5;21mrun_single\u001b[39m(\u001b[38;5;28mself\u001b[39m, inputs, preprocess_params, forward_params, postprocess_params):\n\u001b[1;32m   1212\u001b[0m     model_inputs \u001b[38;5;241m=\u001b[39m \u001b[38;5;28mself\u001b[39m\u001b[38;5;241m.\u001b[39mpreprocess(inputs, \u001b[38;5;241m*\u001b[39m\u001b[38;5;241m*\u001b[39mpreprocess_params)\n\u001b[0;32m-> 1213\u001b[0m     model_outputs \u001b[38;5;241m=\u001b[39m \u001b[38;5;28;43mself\u001b[39;49m\u001b[38;5;241;43m.\u001b[39;49m\u001b[43mforward\u001b[49m\u001b[43m(\u001b[49m\u001b[43mmodel_inputs\u001b[49m\u001b[43m,\u001b[49m\u001b[43m \u001b[49m\u001b[38;5;241;43m*\u001b[39;49m\u001b[38;5;241;43m*\u001b[39;49m\u001b[43mforward_params\u001b[49m\u001b[43m)\u001b[49m\n\u001b[1;32m   1214\u001b[0m     outputs \u001b[38;5;241m=\u001b[39m \u001b[38;5;28mself\u001b[39m\u001b[38;5;241m.\u001b[39mpostprocess(model_outputs, \u001b[38;5;241m*\u001b[39m\u001b[38;5;241m*\u001b[39mpostprocess_params)\n\u001b[1;32m   1215\u001b[0m     \u001b[38;5;28;01mreturn\u001b[39;00m outputs\n",
      "File \u001b[0;32m~/Documents/data_project/.venv/lib/python3.10/site-packages/transformers/pipelines/base.py:1112\u001b[0m, in \u001b[0;36mPipeline.forward\u001b[0;34m(self, model_inputs, **forward_params)\u001b[0m\n\u001b[1;32m   1110\u001b[0m     \u001b[38;5;28;01mwith\u001b[39;00m inference_context():\n\u001b[1;32m   1111\u001b[0m         model_inputs \u001b[38;5;241m=\u001b[39m \u001b[38;5;28mself\u001b[39m\u001b[38;5;241m.\u001b[39m_ensure_tensor_on_device(model_inputs, device\u001b[38;5;241m=\u001b[39m\u001b[38;5;28mself\u001b[39m\u001b[38;5;241m.\u001b[39mdevice)\n\u001b[0;32m-> 1112\u001b[0m         model_outputs \u001b[38;5;241m=\u001b[39m \u001b[38;5;28;43mself\u001b[39;49m\u001b[38;5;241;43m.\u001b[39;49m\u001b[43m_forward\u001b[49m\u001b[43m(\u001b[49m\u001b[43mmodel_inputs\u001b[49m\u001b[43m,\u001b[49m\u001b[43m \u001b[49m\u001b[38;5;241;43m*\u001b[39;49m\u001b[38;5;241;43m*\u001b[39;49m\u001b[43mforward_params\u001b[49m\u001b[43m)\u001b[49m\n\u001b[1;32m   1113\u001b[0m         model_outputs \u001b[38;5;241m=\u001b[39m \u001b[38;5;28mself\u001b[39m\u001b[38;5;241m.\u001b[39m_ensure_tensor_on_device(model_outputs, device\u001b[38;5;241m=\u001b[39mtorch\u001b[38;5;241m.\u001b[39mdevice(\u001b[38;5;124m\"\u001b[39m\u001b[38;5;124mcpu\u001b[39m\u001b[38;5;124m\"\u001b[39m))\n\u001b[1;32m   1114\u001b[0m \u001b[38;5;28;01melse\u001b[39;00m:\n",
      "File \u001b[0;32m~/Documents/data_project/.venv/lib/python3.10/site-packages/transformers/pipelines/text_classification.py:187\u001b[0m, in \u001b[0;36mTextClassificationPipeline._forward\u001b[0;34m(self, model_inputs)\u001b[0m\n\u001b[1;32m    185\u001b[0m \u001b[38;5;28;01mif\u001b[39;00m \u001b[38;5;124m\"\u001b[39m\u001b[38;5;124muse_cache\u001b[39m\u001b[38;5;124m\"\u001b[39m \u001b[38;5;129;01min\u001b[39;00m inspect\u001b[38;5;241m.\u001b[39msignature(model_forward)\u001b[38;5;241m.\u001b[39mparameters\u001b[38;5;241m.\u001b[39mkeys():\n\u001b[1;32m    186\u001b[0m     model_inputs[\u001b[38;5;124m\"\u001b[39m\u001b[38;5;124muse_cache\u001b[39m\u001b[38;5;124m\"\u001b[39m] \u001b[38;5;241m=\u001b[39m \u001b[38;5;28;01mFalse\u001b[39;00m\n\u001b[0;32m--> 187\u001b[0m \u001b[38;5;28;01mreturn\u001b[39;00m \u001b[38;5;28;43mself\u001b[39;49m\u001b[38;5;241;43m.\u001b[39;49m\u001b[43mmodel\u001b[49m\u001b[43m(\u001b[49m\u001b[38;5;241;43m*\u001b[39;49m\u001b[38;5;241;43m*\u001b[39;49m\u001b[43mmodel_inputs\u001b[49m\u001b[43m)\u001b[49m\n",
      "File \u001b[0;32m~/Documents/data_project/.venv/lib/python3.10/site-packages/torch/nn/modules/module.py:1511\u001b[0m, in \u001b[0;36mModule._wrapped_call_impl\u001b[0;34m(self, *args, **kwargs)\u001b[0m\n\u001b[1;32m   1509\u001b[0m     \u001b[38;5;28;01mreturn\u001b[39;00m \u001b[38;5;28mself\u001b[39m\u001b[38;5;241m.\u001b[39m_compiled_call_impl(\u001b[38;5;241m*\u001b[39margs, \u001b[38;5;241m*\u001b[39m\u001b[38;5;241m*\u001b[39mkwargs)  \u001b[38;5;66;03m# type: ignore[misc]\u001b[39;00m\n\u001b[1;32m   1510\u001b[0m \u001b[38;5;28;01melse\u001b[39;00m:\n\u001b[0;32m-> 1511\u001b[0m     \u001b[38;5;28;01mreturn\u001b[39;00m \u001b[38;5;28;43mself\u001b[39;49m\u001b[38;5;241;43m.\u001b[39;49m\u001b[43m_call_impl\u001b[49m\u001b[43m(\u001b[49m\u001b[38;5;241;43m*\u001b[39;49m\u001b[43margs\u001b[49m\u001b[43m,\u001b[49m\u001b[43m \u001b[49m\u001b[38;5;241;43m*\u001b[39;49m\u001b[38;5;241;43m*\u001b[39;49m\u001b[43mkwargs\u001b[49m\u001b[43m)\u001b[49m\n",
      "File \u001b[0;32m~/Documents/data_project/.venv/lib/python3.10/site-packages/torch/nn/modules/module.py:1520\u001b[0m, in \u001b[0;36mModule._call_impl\u001b[0;34m(self, *args, **kwargs)\u001b[0m\n\u001b[1;32m   1515\u001b[0m \u001b[38;5;66;03m# If we don't have any hooks, we want to skip the rest of the logic in\u001b[39;00m\n\u001b[1;32m   1516\u001b[0m \u001b[38;5;66;03m# this function, and just call forward.\u001b[39;00m\n\u001b[1;32m   1517\u001b[0m \u001b[38;5;28;01mif\u001b[39;00m \u001b[38;5;129;01mnot\u001b[39;00m (\u001b[38;5;28mself\u001b[39m\u001b[38;5;241m.\u001b[39m_backward_hooks \u001b[38;5;129;01mor\u001b[39;00m \u001b[38;5;28mself\u001b[39m\u001b[38;5;241m.\u001b[39m_backward_pre_hooks \u001b[38;5;129;01mor\u001b[39;00m \u001b[38;5;28mself\u001b[39m\u001b[38;5;241m.\u001b[39m_forward_hooks \u001b[38;5;129;01mor\u001b[39;00m \u001b[38;5;28mself\u001b[39m\u001b[38;5;241m.\u001b[39m_forward_pre_hooks\n\u001b[1;32m   1518\u001b[0m         \u001b[38;5;129;01mor\u001b[39;00m _global_backward_pre_hooks \u001b[38;5;129;01mor\u001b[39;00m _global_backward_hooks\n\u001b[1;32m   1519\u001b[0m         \u001b[38;5;129;01mor\u001b[39;00m _global_forward_hooks \u001b[38;5;129;01mor\u001b[39;00m _global_forward_pre_hooks):\n\u001b[0;32m-> 1520\u001b[0m     \u001b[38;5;28;01mreturn\u001b[39;00m \u001b[43mforward_call\u001b[49m\u001b[43m(\u001b[49m\u001b[38;5;241;43m*\u001b[39;49m\u001b[43margs\u001b[49m\u001b[43m,\u001b[49m\u001b[43m \u001b[49m\u001b[38;5;241;43m*\u001b[39;49m\u001b[38;5;241;43m*\u001b[39;49m\u001b[43mkwargs\u001b[49m\u001b[43m)\u001b[49m\n\u001b[1;32m   1522\u001b[0m \u001b[38;5;28;01mtry\u001b[39;00m:\n\u001b[1;32m   1523\u001b[0m     result \u001b[38;5;241m=\u001b[39m \u001b[38;5;28;01mNone\u001b[39;00m\n",
      "File \u001b[0;32m~/Documents/data_project/.venv/lib/python3.10/site-packages/transformers/models/roberta/modeling_roberta.py:1198\u001b[0m, in \u001b[0;36mRobertaForSequenceClassification.forward\u001b[0;34m(self, input_ids, attention_mask, token_type_ids, position_ids, head_mask, inputs_embeds, labels, output_attentions, output_hidden_states, return_dict)\u001b[0m\n\u001b[1;32m   1190\u001b[0m \u001b[38;5;250m\u001b[39m\u001b[38;5;124mr\u001b[39m\u001b[38;5;124;03m\"\"\"\u001b[39;00m\n\u001b[1;32m   1191\u001b[0m \u001b[38;5;124;03mlabels (`torch.LongTensor` of shape `(batch_size,)`, *optional*):\u001b[39;00m\n\u001b[1;32m   1192\u001b[0m \u001b[38;5;124;03m    Labels for computing the sequence classification/regression loss. Indices should be in `[0, ...,\u001b[39;00m\n\u001b[1;32m   1193\u001b[0m \u001b[38;5;124;03m    config.num_labels - 1]`. If `config.num_labels == 1` a regression loss is computed (Mean-Square loss), If\u001b[39;00m\n\u001b[1;32m   1194\u001b[0m \u001b[38;5;124;03m    `config.num_labels > 1` a classification loss is computed (Cross-Entropy).\u001b[39;00m\n\u001b[1;32m   1195\u001b[0m \u001b[38;5;124;03m\"\"\"\u001b[39;00m\n\u001b[1;32m   1196\u001b[0m return_dict \u001b[38;5;241m=\u001b[39m return_dict \u001b[38;5;28;01mif\u001b[39;00m return_dict \u001b[38;5;129;01mis\u001b[39;00m \u001b[38;5;129;01mnot\u001b[39;00m \u001b[38;5;28;01mNone\u001b[39;00m \u001b[38;5;28;01melse\u001b[39;00m \u001b[38;5;28mself\u001b[39m\u001b[38;5;241m.\u001b[39mconfig\u001b[38;5;241m.\u001b[39muse_return_dict\n\u001b[0;32m-> 1198\u001b[0m outputs \u001b[38;5;241m=\u001b[39m \u001b[38;5;28;43mself\u001b[39;49m\u001b[38;5;241;43m.\u001b[39;49m\u001b[43mroberta\u001b[49m\u001b[43m(\u001b[49m\n\u001b[1;32m   1199\u001b[0m \u001b[43m    \u001b[49m\u001b[43minput_ids\u001b[49m\u001b[43m,\u001b[49m\n\u001b[1;32m   1200\u001b[0m \u001b[43m    \u001b[49m\u001b[43mattention_mask\u001b[49m\u001b[38;5;241;43m=\u001b[39;49m\u001b[43mattention_mask\u001b[49m\u001b[43m,\u001b[49m\n\u001b[1;32m   1201\u001b[0m \u001b[43m    \u001b[49m\u001b[43mtoken_type_ids\u001b[49m\u001b[38;5;241;43m=\u001b[39;49m\u001b[43mtoken_type_ids\u001b[49m\u001b[43m,\u001b[49m\n\u001b[1;32m   1202\u001b[0m \u001b[43m    \u001b[49m\u001b[43mposition_ids\u001b[49m\u001b[38;5;241;43m=\u001b[39;49m\u001b[43mposition_ids\u001b[49m\u001b[43m,\u001b[49m\n\u001b[1;32m   1203\u001b[0m \u001b[43m    \u001b[49m\u001b[43mhead_mask\u001b[49m\u001b[38;5;241;43m=\u001b[39;49m\u001b[43mhead_mask\u001b[49m\u001b[43m,\u001b[49m\n\u001b[1;32m   1204\u001b[0m \u001b[43m    \u001b[49m\u001b[43minputs_embeds\u001b[49m\u001b[38;5;241;43m=\u001b[39;49m\u001b[43minputs_embeds\u001b[49m\u001b[43m,\u001b[49m\n\u001b[1;32m   1205\u001b[0m \u001b[43m    \u001b[49m\u001b[43moutput_attentions\u001b[49m\u001b[38;5;241;43m=\u001b[39;49m\u001b[43moutput_attentions\u001b[49m\u001b[43m,\u001b[49m\n\u001b[1;32m   1206\u001b[0m \u001b[43m    \u001b[49m\u001b[43moutput_hidden_states\u001b[49m\u001b[38;5;241;43m=\u001b[39;49m\u001b[43moutput_hidden_states\u001b[49m\u001b[43m,\u001b[49m\n\u001b[1;32m   1207\u001b[0m \u001b[43m    \u001b[49m\u001b[43mreturn_dict\u001b[49m\u001b[38;5;241;43m=\u001b[39;49m\u001b[43mreturn_dict\u001b[49m\u001b[43m,\u001b[49m\n\u001b[1;32m   1208\u001b[0m \u001b[43m\u001b[49m\u001b[43m)\u001b[49m\n\u001b[1;32m   1209\u001b[0m sequence_output \u001b[38;5;241m=\u001b[39m outputs[\u001b[38;5;241m0\u001b[39m]\n\u001b[1;32m   1210\u001b[0m logits \u001b[38;5;241m=\u001b[39m \u001b[38;5;28mself\u001b[39m\u001b[38;5;241m.\u001b[39mclassifier(sequence_output)\n",
      "File \u001b[0;32m~/Documents/data_project/.venv/lib/python3.10/site-packages/torch/nn/modules/module.py:1511\u001b[0m, in \u001b[0;36mModule._wrapped_call_impl\u001b[0;34m(self, *args, **kwargs)\u001b[0m\n\u001b[1;32m   1509\u001b[0m     \u001b[38;5;28;01mreturn\u001b[39;00m \u001b[38;5;28mself\u001b[39m\u001b[38;5;241m.\u001b[39m_compiled_call_impl(\u001b[38;5;241m*\u001b[39margs, \u001b[38;5;241m*\u001b[39m\u001b[38;5;241m*\u001b[39mkwargs)  \u001b[38;5;66;03m# type: ignore[misc]\u001b[39;00m\n\u001b[1;32m   1510\u001b[0m \u001b[38;5;28;01melse\u001b[39;00m:\n\u001b[0;32m-> 1511\u001b[0m     \u001b[38;5;28;01mreturn\u001b[39;00m \u001b[38;5;28;43mself\u001b[39;49m\u001b[38;5;241;43m.\u001b[39;49m\u001b[43m_call_impl\u001b[49m\u001b[43m(\u001b[49m\u001b[38;5;241;43m*\u001b[39;49m\u001b[43margs\u001b[49m\u001b[43m,\u001b[49m\u001b[43m \u001b[49m\u001b[38;5;241;43m*\u001b[39;49m\u001b[38;5;241;43m*\u001b[39;49m\u001b[43mkwargs\u001b[49m\u001b[43m)\u001b[49m\n",
      "File \u001b[0;32m~/Documents/data_project/.venv/lib/python3.10/site-packages/torch/nn/modules/module.py:1520\u001b[0m, in \u001b[0;36mModule._call_impl\u001b[0;34m(self, *args, **kwargs)\u001b[0m\n\u001b[1;32m   1515\u001b[0m \u001b[38;5;66;03m# If we don't have any hooks, we want to skip the rest of the logic in\u001b[39;00m\n\u001b[1;32m   1516\u001b[0m \u001b[38;5;66;03m# this function, and just call forward.\u001b[39;00m\n\u001b[1;32m   1517\u001b[0m \u001b[38;5;28;01mif\u001b[39;00m \u001b[38;5;129;01mnot\u001b[39;00m (\u001b[38;5;28mself\u001b[39m\u001b[38;5;241m.\u001b[39m_backward_hooks \u001b[38;5;129;01mor\u001b[39;00m \u001b[38;5;28mself\u001b[39m\u001b[38;5;241m.\u001b[39m_backward_pre_hooks \u001b[38;5;129;01mor\u001b[39;00m \u001b[38;5;28mself\u001b[39m\u001b[38;5;241m.\u001b[39m_forward_hooks \u001b[38;5;129;01mor\u001b[39;00m \u001b[38;5;28mself\u001b[39m\u001b[38;5;241m.\u001b[39m_forward_pre_hooks\n\u001b[1;32m   1518\u001b[0m         \u001b[38;5;129;01mor\u001b[39;00m _global_backward_pre_hooks \u001b[38;5;129;01mor\u001b[39;00m _global_backward_hooks\n\u001b[1;32m   1519\u001b[0m         \u001b[38;5;129;01mor\u001b[39;00m _global_forward_hooks \u001b[38;5;129;01mor\u001b[39;00m _global_forward_pre_hooks):\n\u001b[0;32m-> 1520\u001b[0m     \u001b[38;5;28;01mreturn\u001b[39;00m \u001b[43mforward_call\u001b[49m\u001b[43m(\u001b[49m\u001b[38;5;241;43m*\u001b[39;49m\u001b[43margs\u001b[49m\u001b[43m,\u001b[49m\u001b[43m \u001b[49m\u001b[38;5;241;43m*\u001b[39;49m\u001b[38;5;241;43m*\u001b[39;49m\u001b[43mkwargs\u001b[49m\u001b[43m)\u001b[49m\n\u001b[1;32m   1522\u001b[0m \u001b[38;5;28;01mtry\u001b[39;00m:\n\u001b[1;32m   1523\u001b[0m     result \u001b[38;5;241m=\u001b[39m \u001b[38;5;28;01mNone\u001b[39;00m\n",
      "File \u001b[0;32m~/Documents/data_project/.venv/lib/python3.10/site-packages/transformers/models/roberta/modeling_roberta.py:801\u001b[0m, in \u001b[0;36mRobertaModel.forward\u001b[0;34m(self, input_ids, attention_mask, token_type_ids, position_ids, head_mask, inputs_embeds, encoder_hidden_states, encoder_attention_mask, past_key_values, use_cache, output_attentions, output_hidden_states, return_dict)\u001b[0m\n\u001b[1;32m    799\u001b[0m \u001b[38;5;28;01mif\u001b[39;00m \u001b[38;5;28mhasattr\u001b[39m(\u001b[38;5;28mself\u001b[39m\u001b[38;5;241m.\u001b[39membeddings, \u001b[38;5;124m\"\u001b[39m\u001b[38;5;124mtoken_type_ids\u001b[39m\u001b[38;5;124m\"\u001b[39m):\n\u001b[1;32m    800\u001b[0m     buffered_token_type_ids \u001b[38;5;241m=\u001b[39m \u001b[38;5;28mself\u001b[39m\u001b[38;5;241m.\u001b[39membeddings\u001b[38;5;241m.\u001b[39mtoken_type_ids[:, :seq_length]\n\u001b[0;32m--> 801\u001b[0m     buffered_token_type_ids_expanded \u001b[38;5;241m=\u001b[39m \u001b[43mbuffered_token_type_ids\u001b[49m\u001b[38;5;241;43m.\u001b[39;49m\u001b[43mexpand\u001b[49m\u001b[43m(\u001b[49m\u001b[43mbatch_size\u001b[49m\u001b[43m,\u001b[49m\u001b[43m \u001b[49m\u001b[43mseq_length\u001b[49m\u001b[43m)\u001b[49m\n\u001b[1;32m    802\u001b[0m     token_type_ids \u001b[38;5;241m=\u001b[39m buffered_token_type_ids_expanded\n\u001b[1;32m    803\u001b[0m \u001b[38;5;28;01melse\u001b[39;00m:\n",
      "\u001b[0;31mRuntimeError\u001b[0m: The expanded size of the tensor (645) must match the existing size (514) at non-singleton dimension 1.  Target sizes: [1, 645].  Tensor sizes: [1, 514]"
     ]
    }
   ],
   "source": [
    "from transformers import pipeline\n",
    "\n",
    "\n",
    "sentiment_task = pipeline(\"sentiment-analysis\", model=f\"cardiffnlp/twitter-roberta-base-sentiment-latest\", tokenizer=f\"cardiffnlp/twitter-roberta-base-sentiment-latest\")\n",
    "sentiment_task(lyrics)"
   ]
  }
 ],
 "metadata": {
  "kernelspec": {
   "display_name": ".venv",
   "language": "python",
   "name": "python3"
  },
  "language_info": {
   "codemirror_mode": {
    "name": "ipython",
    "version": 3
   },
   "file_extension": ".py",
   "mimetype": "text/x-python",
   "name": "python",
   "nbconvert_exporter": "python",
   "pygments_lexer": "ipython3",
   "version": "3.10.2"
  }
 },
 "nbformat": 4,
 "nbformat_minor": 2
}
