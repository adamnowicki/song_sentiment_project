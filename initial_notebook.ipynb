{
 "cells": [
  {
   "cell_type": "code",
   "execution_count": 1,
   "metadata": {},
   "outputs": [
    {
     "name": "stderr",
     "output_type": "stream",
     "text": [
      "/Users/adamo/Documents/data_project/.venv/lib/python3.10/site-packages/tqdm/auto.py:21: TqdmWarning: IProgress not found. Please update jupyter and ipywidgets. See https://ipywidgets.readthedocs.io/en/stable/user_install.html\n",
      "  from .autonotebook import tqdm as notebook_tqdm\n"
     ]
    }
   ],
   "source": [
    "import pandas as pd\n",
    "from transformers import AutoModelForSequenceClassification\n",
    "from transformers import AutoTokenizer, AutoConfig\n",
    "import numpy as np\n",
    "from scipy.special import softmax\n",
    "import re\n",
    "from numpy.random import randint \n",
    "import urllib.parse\n",
    "from gensim.parsing.preprocessing import remove_stopwords\n",
    "import csv\n",
    "\n",
    "\n",
    "\n"
   ]
  },
  {
   "cell_type": "markdown",
   "metadata": {},
   "source": [
    "## Data loading and initial cleaning"
   ]
  },
  {
   "cell_type": "code",
   "execution_count": null,
   "metadata": {},
   "outputs": [],
   "source": [
    "df = pd.read_csv(\"data/song_lyrics.csv\")\n",
    "\n",
    "df = df[df['language']==\"en\"]\n"
   ]
  },
  {
   "cell_type": "code",
   "execution_count": null,
   "metadata": {},
   "outputs": [],
   "source": [
    "df = df[df['language']==\"en\"]\n"
   ]
  },
  {
   "cell_type": "code",
   "execution_count": null,
   "metadata": {},
   "outputs": [],
   "source": [
    "df.shape\n"
   ]
  },
  {
   "cell_type": "code",
   "execution_count": null,
   "metadata": {},
   "outputs": [],
   "source": [
    "df.columns"
   ]
  },
  {
   "cell_type": "code",
   "execution_count": null,
   "metadata": {},
   "outputs": [],
   "source": [
    "df.dtypes"
   ]
  },
  {
   "cell_type": "code",
   "execution_count": null,
   "metadata": {},
   "outputs": [],
   "source": [
    "\n",
    "df = pd.read_csv(\"data/en_song_lyrics.csv\")"
   ]
  },
  {
   "cell_type": "code",
   "execution_count": null,
   "metadata": {},
   "outputs": [],
   "source": [
    "# checking null values \n",
    "\n",
    "df.isna().sum()"
   ]
  },
  {
   "cell_type": "code",
   "execution_count": null,
   "metadata": {},
   "outputs": [],
   "source": [
    "# Dropping null values\n",
    "\n",
    "df= df.dropna(how=\"any\")"
   ]
  },
  {
   "cell_type": "code",
   "execution_count": null,
   "metadata": {},
   "outputs": [],
   "source": [
    "# Checking for duplicates\n",
    "\n",
    "df.duplicated().sum()"
   ]
  },
  {
   "cell_type": "code",
   "execution_count": null,
   "metadata": {},
   "outputs": [],
   "source": [
    "df.shape"
   ]
  },
  {
   "cell_type": "code",
   "execution_count": null,
   "metadata": {},
   "outputs": [],
   "source": [
    "years = df['year'].unique()\n",
    "years"
   ]
  },
  {
   "cell_type": "code",
   "execution_count": null,
   "metadata": {},
   "outputs": [],
   "source": [
    "df.to_csv(\"data/clean_en_song_lyrics.csv\")"
   ]
  },
  {
   "cell_type": "markdown",
   "metadata": {},
   "source": [
    "# FURTHER DATA CLEANING AND FILTERING"
   ]
  },
  {
   "cell_type": "markdown",
   "metadata": {},
   "source": [
    "### Creating \"song_id\" from title and artist name"
   ]
  },
  {
   "cell_type": "code",
   "execution_count": 2,
   "metadata": {},
   "outputs": [],
   "source": [
    "df=pd.read_csv(\"data/clean_en_song_lyrics.csv\")\n",
    "\n"
   ]
  },
  {
   "cell_type": "code",
   "execution_count": 5,
   "metadata": {},
   "outputs": [
    {
     "data": {
      "text/html": [
       "<div>\n",
       "<style scoped>\n",
       "    .dataframe tbody tr th:only-of-type {\n",
       "        vertical-align: middle;\n",
       "    }\n",
       "\n",
       "    .dataframe tbody tr th {\n",
       "        vertical-align: top;\n",
       "    }\n",
       "\n",
       "    .dataframe thead th {\n",
       "        text-align: right;\n",
       "    }\n",
       "</style>\n",
       "<table border=\"1\" class=\"dataframe\">\n",
       "  <thead>\n",
       "    <tr style=\"text-align: right;\">\n",
       "      <th></th>\n",
       "      <th>title</th>\n",
       "      <th>tag</th>\n",
       "      <th>artist</th>\n",
       "      <th>year</th>\n",
       "      <th>views</th>\n",
       "      <th>features</th>\n",
       "      <th>lyrics</th>\n",
       "      <th>id</th>\n",
       "      <th>language_cld3</th>\n",
       "      <th>language_ft</th>\n",
       "      <th>language</th>\n",
       "    </tr>\n",
       "  </thead>\n",
       "  <tbody>\n",
       "    <tr>\n",
       "      <th>0</th>\n",
       "      <td>Killa Cam</td>\n",
       "      <td>rap</td>\n",
       "      <td>Cam'ron</td>\n",
       "      <td>2004</td>\n",
       "      <td>173166</td>\n",
       "      <td>{\"Cam\\\\'ron\",\"Opera Steve\"}</td>\n",
       "      <td>[Chorus: Opera Steve &amp; Cam'ron]\\nKilla Cam, Ki...</td>\n",
       "      <td>1</td>\n",
       "      <td>en</td>\n",
       "      <td>en</td>\n",
       "      <td>en</td>\n",
       "    </tr>\n",
       "    <tr>\n",
       "      <th>1</th>\n",
       "      <td>Can I Live</td>\n",
       "      <td>rap</td>\n",
       "      <td>JAY-Z</td>\n",
       "      <td>1996</td>\n",
       "      <td>468624</td>\n",
       "      <td>{}</td>\n",
       "      <td>[Produced by Irv Gotti]\\n\\n[Intro]\\nYeah, hah,...</td>\n",
       "      <td>3</td>\n",
       "      <td>en</td>\n",
       "      <td>en</td>\n",
       "      <td>en</td>\n",
       "    </tr>\n",
       "    <tr>\n",
       "      <th>2</th>\n",
       "      <td>Forgive Me Father</td>\n",
       "      <td>rap</td>\n",
       "      <td>Fabolous</td>\n",
       "      <td>2003</td>\n",
       "      <td>4743</td>\n",
       "      <td>{}</td>\n",
       "      <td>Maybe cause I'm eatin\\nAnd these bastards fien...</td>\n",
       "      <td>4</td>\n",
       "      <td>en</td>\n",
       "      <td>en</td>\n",
       "      <td>en</td>\n",
       "    </tr>\n",
       "    <tr>\n",
       "      <th>3</th>\n",
       "      <td>Down and Out</td>\n",
       "      <td>rap</td>\n",
       "      <td>Cam'ron</td>\n",
       "      <td>2004</td>\n",
       "      <td>144404</td>\n",
       "      <td>{\"Cam\\\\'ron\",\"Kanye West\",\"Syleena Johnson\"}</td>\n",
       "      <td>[Produced by Kanye West and Brian Miller]\\n\\n[...</td>\n",
       "      <td>5</td>\n",
       "      <td>en</td>\n",
       "      <td>en</td>\n",
       "      <td>en</td>\n",
       "    </tr>\n",
       "    <tr>\n",
       "      <th>4</th>\n",
       "      <td>Fly In</td>\n",
       "      <td>rap</td>\n",
       "      <td>Lil Wayne</td>\n",
       "      <td>2005</td>\n",
       "      <td>78271</td>\n",
       "      <td>{}</td>\n",
       "      <td>[Intro]\\nSo they ask me\\n\"Young boy\\nWhat you ...</td>\n",
       "      <td>6</td>\n",
       "      <td>en</td>\n",
       "      <td>en</td>\n",
       "      <td>en</td>\n",
       "    </tr>\n",
       "    <tr>\n",
       "      <th>...</th>\n",
       "      <td>...</td>\n",
       "      <td>...</td>\n",
       "      <td>...</td>\n",
       "      <td>...</td>\n",
       "      <td>...</td>\n",
       "      <td>...</td>\n",
       "      <td>...</td>\n",
       "      <td>...</td>\n",
       "      <td>...</td>\n",
       "      <td>...</td>\n",
       "      <td>...</td>\n",
       "    </tr>\n",
       "    <tr>\n",
       "      <th>3374066</th>\n",
       "      <td>Everything Is Alright Now</td>\n",
       "      <td>pop</td>\n",
       "      <td>Chuck Bernard</td>\n",
       "      <td>2013</td>\n",
       "      <td>2</td>\n",
       "      <td>{}</td>\n",
       "      <td>Everything is alright now\\nOh yes, baby\\nEvery...</td>\n",
       "      <td>7882838</td>\n",
       "      <td>en</td>\n",
       "      <td>en</td>\n",
       "      <td>en</td>\n",
       "    </tr>\n",
       "    <tr>\n",
       "      <th>3374067</th>\n",
       "      <td>White Lies</td>\n",
       "      <td>pop</td>\n",
       "      <td>ElementD</td>\n",
       "      <td>2019</td>\n",
       "      <td>1</td>\n",
       "      <td>{\"Harley Bird\"}</td>\n",
       "      <td>[Verse 1]\\nHalf truth and half you\\nDidn't we ...</td>\n",
       "      <td>7882840</td>\n",
       "      <td>en</td>\n",
       "      <td>en</td>\n",
       "      <td>en</td>\n",
       "    </tr>\n",
       "    <tr>\n",
       "      <th>3374068</th>\n",
       "      <td>Ocean</td>\n",
       "      <td>pop</td>\n",
       "      <td>Effemar</td>\n",
       "      <td>2022</td>\n",
       "      <td>3</td>\n",
       "      <td>{}</td>\n",
       "      <td>[Verse 1]\\nDance for me now\\nKeeping yourself ...</td>\n",
       "      <td>7882842</td>\n",
       "      <td>en</td>\n",
       "      <td>en</td>\n",
       "      <td>en</td>\n",
       "    </tr>\n",
       "    <tr>\n",
       "      <th>3374069</th>\n",
       "      <td>Raise Our Hands</td>\n",
       "      <td>pop</td>\n",
       "      <td>Culture Code, Pag &amp; Mylo</td>\n",
       "      <td>2016</td>\n",
       "      <td>3</td>\n",
       "      <td>{Elex,\"Culture Code / Pag &amp; Mylo\"}</td>\n",
       "      <td>[Verse 1]\\nHere our purpose feels alive\\nWe ar...</td>\n",
       "      <td>7882845</td>\n",
       "      <td>en</td>\n",
       "      <td>en</td>\n",
       "      <td>en</td>\n",
       "    </tr>\n",
       "    <tr>\n",
       "      <th>3374070</th>\n",
       "      <td>New Number</td>\n",
       "      <td>country</td>\n",
       "      <td>Alana Springsteen</td>\n",
       "      <td>2022</td>\n",
       "      <td>1</td>\n",
       "      <td>{}</td>\n",
       "      <td>[Verse 1]\\nYou need a new number, one that ain...</td>\n",
       "      <td>7882848</td>\n",
       "      <td>en</td>\n",
       "      <td>en</td>\n",
       "      <td>en</td>\n",
       "    </tr>\n",
       "  </tbody>\n",
       "</table>\n",
       "<p>3374071 rows × 11 columns</p>\n",
       "</div>"
      ],
      "text/plain": [
       "                             title      tag                    artist  year  \\\n",
       "0                        Killa Cam      rap                   Cam'ron  2004   \n",
       "1                       Can I Live      rap                     JAY-Z  1996   \n",
       "2                Forgive Me Father      rap                  Fabolous  2003   \n",
       "3                     Down and Out      rap                   Cam'ron  2004   \n",
       "4                           Fly In      rap                 Lil Wayne  2005   \n",
       "...                            ...      ...                       ...   ...   \n",
       "3374066  Everything Is Alright Now      pop             Chuck Bernard  2013   \n",
       "3374067                 White Lies      pop                  ElementD  2019   \n",
       "3374068                      Ocean      pop                   Effemar  2022   \n",
       "3374069            Raise Our Hands      pop  Culture Code, Pag & Mylo  2016   \n",
       "3374070                 New Number  country         Alana Springsteen  2022   \n",
       "\n",
       "          views                                      features  \\\n",
       "0        173166                   {\"Cam\\\\'ron\",\"Opera Steve\"}   \n",
       "1        468624                                            {}   \n",
       "2          4743                                            {}   \n",
       "3        144404  {\"Cam\\\\'ron\",\"Kanye West\",\"Syleena Johnson\"}   \n",
       "4         78271                                            {}   \n",
       "...         ...                                           ...   \n",
       "3374066       2                                            {}   \n",
       "3374067       1                               {\"Harley Bird\"}   \n",
       "3374068       3                                            {}   \n",
       "3374069       3            {Elex,\"Culture Code / Pag & Mylo\"}   \n",
       "3374070       1                                            {}   \n",
       "\n",
       "                                                    lyrics       id  \\\n",
       "0        [Chorus: Opera Steve & Cam'ron]\\nKilla Cam, Ki...        1   \n",
       "1        [Produced by Irv Gotti]\\n\\n[Intro]\\nYeah, hah,...        3   \n",
       "2        Maybe cause I'm eatin\\nAnd these bastards fien...        4   \n",
       "3        [Produced by Kanye West and Brian Miller]\\n\\n[...        5   \n",
       "4        [Intro]\\nSo they ask me\\n\"Young boy\\nWhat you ...        6   \n",
       "...                                                    ...      ...   \n",
       "3374066  Everything is alright now\\nOh yes, baby\\nEvery...  7882838   \n",
       "3374067  [Verse 1]\\nHalf truth and half you\\nDidn't we ...  7882840   \n",
       "3374068  [Verse 1]\\nDance for me now\\nKeeping yourself ...  7882842   \n",
       "3374069  [Verse 1]\\nHere our purpose feels alive\\nWe ar...  7882845   \n",
       "3374070  [Verse 1]\\nYou need a new number, one that ain...  7882848   \n",
       "\n",
       "        language_cld3 language_ft language  \n",
       "0                  en          en       en  \n",
       "1                  en          en       en  \n",
       "2                  en          en       en  \n",
       "3                  en          en       en  \n",
       "4                  en          en       en  \n",
       "...               ...         ...      ...  \n",
       "3374066            en          en       en  \n",
       "3374067            en          en       en  \n",
       "3374068            en          en       en  \n",
       "3374069            en          en       en  \n",
       "3374070            en          en       en  \n",
       "\n",
       "[3374071 rows x 11 columns]"
      ]
     },
     "execution_count": 5,
     "metadata": {},
     "output_type": "execute_result"
    }
   ],
   "source": [
    "df"
   ]
  },
  {
   "cell_type": "code",
   "execution_count": 4,
   "metadata": {},
   "outputs": [],
   "source": [
    "df=df.drop(columns=[\"Unnamed: 0\", \"Unnamed: 0.1\"])"
   ]
  },
  {
   "cell_type": "code",
   "execution_count": 6,
   "metadata": {},
   "outputs": [],
   "source": [
    "# Standardize strings in 'artist' and 'title' columns\n",
    "df['artist_clean'] = df['artist'].str.strip().str.lower().str.replace('\"', '').str.replace(\"'\", \"\").str.replace(\",\", \"\").str.replace(\".\", \"\").str.replace(\"!\", \"\").str.replace(\"?\", \"\").str.replace(\"&\", \"and\")\n",
    "df['title_clean'] = df['title'].str.strip().str.lower().str.replace('\"', '').str.replace(\"'\", \"\").str.replace(\",\", \"\").str.replace(\".\", \"\").str.replace(\"!\", \"\").str.replace(\"?\", \"\").str.replace(\"&\", \"and\")\n",
    "\n",
    "# Combine 'artist' and 'title' to create 'song_id' column\n",
    "df['song_id'] = (df['artist_clean'] + '_' + df['title_clean']).str.replace(' ', '_')\n"
   ]
  },
  {
   "cell_type": "code",
   "execution_count": 7,
   "metadata": {},
   "outputs": [],
   "source": [
    "#Importing scraped weekly top 100 billboard songs\n",
    "\n",
    "df_top = pd.read_csv(\"data/billboard_weekly_1958-2024.csv\")"
   ]
  },
  {
   "cell_type": "code",
   "execution_count": 8,
   "metadata": {},
   "outputs": [
    {
     "data": {
      "text/plain": [
       "(30045, 4)"
      ]
     },
     "execution_count": 8,
     "metadata": {},
     "output_type": "execute_result"
    }
   ],
   "source": [
    "df_top.shape"
   ]
  },
  {
   "cell_type": "code",
   "execution_count": 9,
   "metadata": {},
   "outputs": [
    {
     "data": {
      "text/plain": [
       "(3374071, 14)"
      ]
     },
     "execution_count": 9,
     "metadata": {},
     "output_type": "execute_result"
    }
   ],
   "source": [
    "df.shape"
   ]
  },
  {
   "cell_type": "code",
   "execution_count": 10,
   "metadata": {},
   "outputs": [],
   "source": [
    "# Standardize strings in 'artist' and 'title' columns\n",
    "df_top['artist_clean'] = df_top['artist'].str.strip().str.lower().str.replace('\"', '').str.replace(\"'\", \"\").str.replace(\",\", \"\").str.replace(\".\", \"\").str.replace(\"!\", \"\").str.replace(\"?\", \"\").str.replace(\"&\", \"and\")\n",
    "df_top['title_clean'] = df_top['title'].str.strip().str.lower().str.replace('\"', '').str.replace(\"'\", \"\").str.replace(\",\", \"\").str.replace(\".\", \"\").str.replace(\"!\", \"\").str.replace(\"?\", \"\").str.replace(\"&\", \"and\")\n",
    "\n",
    "# Combine 'artist' and 'title' to create 'song_id' column\n",
    "df_top['song_id'] = (df_top['artist_clean'] + '_' + df_top['title_clean']).str.replace(' ', '_')"
   ]
  },
  {
   "cell_type": "code",
   "execution_count": 11,
   "metadata": {},
   "outputs": [
    {
     "name": "stdout",
     "output_type": "stream",
     "text": [
      "Percentage of songs matched: 60.23\n"
     ]
    }
   ],
   "source": [
    "df_filtered = df[df['song_id'].isin(df_top['song_id'])].reset_index(drop=True)\n",
    "print(f\"Percentage of songs matched:\", round((len(df_filtered)/len(df_top)*100),2))"
   ]
  },
  {
   "cell_type": "code",
   "execution_count": 12,
   "metadata": {},
   "outputs": [
    {
     "name": "stdout",
     "output_type": "stream",
     "text": [
      "Songs in df_top that are not present in df:\n",
      "                                            artist_clean  \\\n",
      "0                                          groove holmes   \n",
      "1                                          groove holmes   \n",
      "3                                          pookie hudson   \n",
      "13                                     weird al yankovic   \n",
      "16                                           til tuesday   \n",
      "...                                                  ...   \n",
      "30040                            william and nicki minaj   \n",
      "30041                    william featuring justin bieber   \n",
      "30042   william featuring mick jagger and jennifer lopez   \n",
      "30043                      william featuring miley cyrus   \n",
      "30044  william featuring miley cyrus french montana w...   \n",
      "\n",
      "                     title_clean  \n",
      "0                          misty  \n",
      "1               what now my love  \n",
      "3                  i know i know  \n",
      "13               white and nerdy  \n",
      "16     (believed you were) lucky  \n",
      "...                          ...  \n",
      "30040               check it out  \n",
      "30041                 #thatpower  \n",
      "30042     the (the hardest ever)  \n",
      "30043                  fall down  \n",
      "30044              feelin myself  \n",
      "\n",
      "[11949 rows x 2 columns]\n"
     ]
    }
   ],
   "source": [
    "# Find songs in df_top that are not present in df\n",
    "missing_songs_top = df_top[~df_top['song_id'].isin(df['song_id'])]\n",
    "\n",
    "print(\"Songs in df_top that are not present in df:\")\n",
    "print(missing_songs_top[['artist_clean', 'title_clean']])\n"
   ]
  },
  {
   "cell_type": "code",
   "execution_count": null,
   "metadata": {},
   "outputs": [],
   "source": [
    "# Investigating missing songs: \n",
    "\n",
    "search_word = \"rolling\"\n",
    "artist = \"eminem\"\n",
    "\n",
    "\n",
    "matching_titles = df_top[(df_top['artist'].str.contains(search_word, case=False))]\n",
    "# df_top[(df_top['artist'].fillna('').str.lower() == artist.lower()) & \n",
    "                     \n",
    "matching_titles"
   ]
  },
  {
   "cell_type": "code",
   "execution_count": 13,
   "metadata": {},
   "outputs": [],
   "source": [
    "# Need to deal with 'featuring' and \"and\" - extract main artist\n",
    "\n",
    "def extract_main_artist(artist):\n",
    "    if 'and' in artist:\n",
    "        return artist.split(' and ')[0].strip()\n",
    "    elif 'featuring' in artist:\n",
    "        return artist.split(' featuring ')[0].strip()\n",
    "    elif 'feat' in artist:\n",
    "        return artist.split(' feat ')[0].strip()\n",
    "    elif 'feat.' in artist:\n",
    "        return artist.split(' feat.')[0].strip()\n",
    "    elif 'with' in artist:\n",
    "        return artist.split(' with ')[0].strip()\n",
    "    elif ',' in artist:\n",
    "        return artist.split(',')[0].strip()\n",
    "    else:\n",
    "        return artist\n",
    "    \n",
    "\n"
   ]
  },
  {
   "cell_type": "code",
   "execution_count": 14,
   "metadata": {},
   "outputs": [],
   "source": [
    "# Apply the function to create 'main_artist' column in df_top DataFrame\n",
    "df_top['main_artist'] = df_top['artist_clean'].apply(extract_main_artist)\n",
    "\n",
    "# Apply the function to create 'main_artist' column in df DataFrame\n",
    "df['main_artist'] = df['artist_clean'].apply(extract_main_artist)"
   ]
  },
  {
   "cell_type": "code",
   "execution_count": 15,
   "metadata": {},
   "outputs": [],
   "source": [
    "# make new ids\n",
    "\n",
    "df_top['song_id2'] = (df_top['main_artist'] + '_' + df_top['title_clean']).str.replace(' ', '_')\n",
    "df['song_id2'] = (df['artist_clean'] + '_' + df['title_clean']).str.replace(' ', '_')"
   ]
  },
  {
   "cell_type": "code",
   "execution_count": 16,
   "metadata": {},
   "outputs": [
    {
     "name": "stdout",
     "output_type": "stream",
     "text": [
      "Percentage of songs matched: 63.12\n"
     ]
    }
   ],
   "source": [
    "df_filtered2 = df[df['song_id2'].isin(df_top['song_id2'])].reset_index(drop=True)\n",
    "print(f\"Percentage of songs matched:\", round((len(df_filtered2)/len(df_top)*100),2))"
   ]
  },
  {
   "cell_type": "code",
   "execution_count": 17,
   "metadata": {},
   "outputs": [
    {
     "data": {
      "text/plain": [
       "(18964, 16)"
      ]
     },
     "execution_count": 17,
     "metadata": {},
     "output_type": "execute_result"
    }
   ],
   "source": [
    "df_filtered2.shape"
   ]
  },
  {
   "cell_type": "code",
   "execution_count": 18,
   "metadata": {},
   "outputs": [
    {
     "name": "stdout",
     "output_type": "stream",
     "text": [
      "Songs in df_top that are not present in df:\n",
      "                                             main_artist  \\\n",
      "0                                          groove holmes   \n",
      "1                                          groove holmes   \n",
      "3                                          pookie hudson   \n",
      "13                                     weird al yankovic   \n",
      "15                                                  $not   \n",
      "...                                                  ...   \n",
      "30039                                            william   \n",
      "30040                                            william   \n",
      "30041                                            william   \n",
      "30042                      william featuring mick jagger   \n",
      "30044  william featuring miley cyrus french montana w...   \n",
      "\n",
      "                          title  \n",
      "0                         Misty  \n",
      "1              What Now My Love  \n",
      "3                 I Know I Know  \n",
      "13                White & Nerdy  \n",
      "15                         Doja  \n",
      "...                         ...  \n",
      "30039            Scream & Shout  \n",
      "30040              Check It Out  \n",
      "30041                #thatPOWER  \n",
      "30042  T.H.E (The Hardest Ever)  \n",
      "30044            Feelin' Myself  \n",
      "\n",
      "[11074 rows x 2 columns]\n"
     ]
    }
   ],
   "source": [
    "#Investigate again:\n",
    "\n",
    "# Find songs in df_top that are not present in df\n",
    "missing_songs_top = df_top[~df_top['song_id2'].isin(df['song_id2'])]\n",
    "\n",
    "print(\"Songs in df_top that are not present in df:\")\n",
    "print(missing_songs_top[['main_artist', 'title']])"
   ]
  },
  {
   "cell_type": "code",
   "execution_count": 19,
   "metadata": {},
   "outputs": [],
   "source": [
    "# Apply the function to create 'main_artist' column in df_top DataFrame\n",
    "df_top['main_artist'] = df_top['main_artist'].apply(extract_main_artist)\n",
    "\n",
    "# Apply the function to create 'main_artist' column in df DataFrame\n",
    "df['main_artist'] = df['main_artist'].apply(extract_main_artist)"
   ]
  },
  {
   "cell_type": "code",
   "execution_count": 20,
   "metadata": {},
   "outputs": [],
   "source": [
    "df_top['song_id2'] = (df_top['main_artist'] + '_' + df_top['title_clean']).str.replace(' ', '_')\n",
    "df['song_id2'] = (df['main_artist'] + '_' + df['title_clean']).str.replace(' ', '_')"
   ]
  },
  {
   "cell_type": "code",
   "execution_count": 21,
   "metadata": {},
   "outputs": [
    {
     "name": "stdout",
     "output_type": "stream",
     "text": [
      "Percentage of songs matched: 69.23\n"
     ]
    }
   ],
   "source": [
    "df_filtered3 = df[df['song_id2'].isin(df_top['song_id2'])].reset_index(drop=True)\n",
    "print(f\"Percentage of songs matched:\", round((len(df_filtered3)/len(df_top)*100),2))"
   ]
  },
  {
   "cell_type": "markdown",
   "metadata": {},
   "source": [
    "Improvement 68% -> 69.23%"
   ]
  },
  {
   "cell_type": "code",
   "execution_count": 22,
   "metadata": {},
   "outputs": [
    {
     "data": {
      "text/plain": [
       "(20801, 16)"
      ]
     },
     "execution_count": 22,
     "metadata": {},
     "output_type": "execute_result"
    }
   ],
   "source": [
    "df_filtered3.shape"
   ]
  },
  {
   "cell_type": "code",
   "execution_count": 24,
   "metadata": {},
   "outputs": [],
   "source": [
    "df_filtered3.to_csv(\"data/songs_filtered.csv\")"
   ]
  },
  {
   "cell_type": "markdown",
   "metadata": {},
   "source": [
    "### Text preprocessing"
   ]
  },
  {
   "cell_type": "code",
   "execution_count": null,
   "metadata": {},
   "outputs": [],
   "source": [
    "def clean_text(text):\n",
    "\n",
    "    text = text.replace('\\n', ' ')\n",
    "    text = re.sub(r'[,\\.!?]', '', text)\n",
    "    text = re.sub(r'\\[.*?\\]', ' ', text)\n",
    "    text = re.sub(r'\\w*\\d\\w*',' ', text)\n",
    "    text = re.sub(r'[()]', ' ', text)\n",
    "    text = text.lower()\n",
    "    text = re.sub(r'\\b(chorus|verse|intro)\\b', '', text)\n",
    "    return text"
   ]
  },
  {
   "cell_type": "code",
   "execution_count": null,
   "metadata": {},
   "outputs": [],
   "source": [
    "df_filtered3['lyrics_clean'] = df_filtered3['lyrics'].astype(str).apply(lambda x: clean_text(x))\n",
    "df_filtered3"
   ]
  },
  {
   "cell_type": "code",
   "execution_count": null,
   "metadata": {},
   "outputs": [],
   "source": [
    "# Removing stopwords\n",
    "\n",
    "df_filtered3['lyrics_clean'] = df_filtered3['lyrics_clean'].astype(str).apply(lambda x: remove_stopwords(x))"
   ]
  },
  {
   "cell_type": "markdown",
   "metadata": {},
   "source": [
    "## Running Roberta Base Sentiment Model on lyrics"
   ]
  },
  {
   "cell_type": "code",
   "execution_count": null,
   "metadata": {},
   "outputs": [],
   "source": [
    "# Setting up model\n",
    "\n",
    "task='sentiment'\n",
    "MODEL = f\"cardiffnlp/twitter-roberta-base-{task}\"\n",
    "\n",
    "tokenizer = AutoTokenizer.from_pretrained(MODEL)\n",
    "\n",
    "# download label mapping\n",
    "labels=[]\n",
    "mapping_link = f\"https://raw.githubusercontent.com/cardiffnlp/tweeteval/main/datasets/{task}/mapping.txt\"\n",
    "with urllib.request.urlopen(mapping_link) as f:\n",
    "    html = f.read().decode('utf-8').split(\"\\n\")\n",
    "    csvreader = csv.reader(html, delimiter='\\t')\n",
    "labels = [row[1] for row in csvreader if len(row) > 1]\n",
    "\n",
    "\n",
    "model = AutoModelForSequenceClassification.from_pretrained(MODEL)\n",
    "model.save_pretrained(MODEL)"
   ]
  },
  {
   "cell_type": "code",
   "execution_count": null,
   "metadata": {},
   "outputs": [],
   "source": [
    "df_test = df_filtered3.sample(n=100, random_state=42)"
   ]
  },
  {
   "cell_type": "code",
   "execution_count": null,
   "metadata": {},
   "outputs": [],
   "source": [
    "positive_scores = []\n",
    "neutral_scores = []\n",
    "negative_scores = []\n",
    "\n",
    "for index, row in df_test.iterrows():\n",
    "    lyrics = row['lyrics_clean']\n",
    "    \n",
    "    encoded_input = tokenizer(lyrics, return_tensors='pt', max_length=512, truncation=True, padding=True)\n",
    "    output = model(**encoded_input)\n",
    "    scores = output[0][0].detach().numpy()\n",
    "    scores = softmax(scores)\n",
    "\n",
    "    ranking = np.argsort(scores)\n",
    "    ranking = ranking[::-1]\n",
    "    \n",
    "    # Initialize scores for each label\n",
    "    positive_score = 0.0\n",
    "    neutral_score = 0.0\n",
    "    negative_score = 0.0\n",
    "    \n",
    "    for i in range(scores.shape[0]):\n",
    "        l = labels[ranking[i]]\n",
    "        s = scores[ranking[i]]\n",
    "        if l == 'positive':\n",
    "            positive_score = np.round(float(s), 4)\n",
    "        elif l == 'neutral':\n",
    "            neutral_score = np.round(float(s), 4)\n",
    "        elif l == 'negative':\n",
    "            negative_score = np.round(float(s), 4)\n",
    "    \n",
    "    # Append scores to respective lists\n",
    "    positive_scores.append(positive_score)\n",
    "    neutral_scores.append(neutral_score)\n",
    "    negative_scores.append(negative_score)\n",
    "\n",
    "# Add the score columns to the DataFrame\n",
    "df_test['positive_score'] = positive_scores\n",
    "df_test['neutral_score'] = neutral_scores\n",
    "df_test['negative_score'] = negative_scores\n"
   ]
  },
  {
   "cell_type": "code",
   "execution_count": 49,
   "metadata": {},
   "outputs": [],
   "source": [
    "def calculate_compound_score(positive_scores, neutral_scores, negative_scores):\n",
    "    # Convert scores to numpy arrays\n",
    "    positive_scores = np.array(positive_scores)\n",
    "    neutral_scores = np.array(neutral_scores)\n",
    "    negative_scores = np.array(negative_scores)\n",
    "    \n",
    "    # Define weights\n",
    "    weights = np.array([1.0, 0.0, -1.0])  # POSITIVE: 1.0, NEUTRAL: 0.0, NEGATIVE: -1.0\n",
    "    \n",
    "    # Transpose the scores array to align dimensions for dot product\n",
    "    scores_array = np.array([positive_scores, neutral_scores, negative_scores]).T\n",
    "    \n",
    "    # Calculate compound score\n",
    "    compound_score = np.dot(scores_array, weights)\n",
    "    \n",
    "    return compound_score\n",
    "\n"
   ]
  },
  {
   "cell_type": "code",
   "execution_count": 52,
   "metadata": {},
   "outputs": [
    {
     "ename": "NameError",
     "evalue": "name 'df_test' is not defined",
     "output_type": "error",
     "traceback": [
      "\u001b[0;31m---------------------------------------------------------------------------\u001b[0m",
      "\u001b[0;31mNameError\u001b[0m                                 Traceback (most recent call last)",
      "Cell \u001b[0;32mIn[52], line 3\u001b[0m\n\u001b[1;32m      1\u001b[0m df2 \u001b[38;5;241m=\u001b[39m df\u001b[38;5;241m.\u001b[39mcopy()\n\u001b[0;32m----> 3\u001b[0m df2[\u001b[38;5;124m'\u001b[39m\u001b[38;5;124mcompound_score\u001b[39m\u001b[38;5;124m'\u001b[39m] \u001b[38;5;241m=\u001b[39m calculate_compound_score(\u001b[43mdf_test\u001b[49m[\u001b[38;5;124m'\u001b[39m\u001b[38;5;124mpositive_score\u001b[39m\u001b[38;5;124m'\u001b[39m], df_test[\u001b[38;5;124m'\u001b[39m\u001b[38;5;124mneutral_score\u001b[39m\u001b[38;5;124m'\u001b[39m], df_test[\u001b[38;5;124m'\u001b[39m\u001b[38;5;124mnegative_score\u001b[39m\u001b[38;5;124m'\u001b[39m])\n",
      "\u001b[0;31mNameError\u001b[0m: name 'df_test' is not defined"
     ]
    }
   ],
   "source": [
    "df2 = df.copy()\n",
    "\n",
    "df2['compound_score'] = calculate_compound_score(df_test['positive_score'], df_test['neutral_score'], df_test['negative_score'])\n"
   ]
  },
  {
   "cell_type": "code",
   "execution_count": null,
   "metadata": {},
   "outputs": [],
   "source": [
    "df_test"
   ]
  },
  {
   "cell_type": "markdown",
   "metadata": {},
   "source": [
    "## Checking matching "
   ]
  },
  {
   "cell_type": "code",
   "execution_count": 28,
   "metadata": {},
   "outputs": [
    {
     "data": {
      "text/plain": [
       "(30045, 9)"
      ]
     },
     "execution_count": 28,
     "metadata": {},
     "output_type": "execute_result"
    }
   ],
   "source": [
    "df_top.shape"
   ]
  },
  {
   "cell_type": "code",
   "execution_count": 26,
   "metadata": {},
   "outputs": [
    {
     "data": {
      "text/plain": [
       "(30034, 9)"
      ]
     },
     "execution_count": 26,
     "metadata": {},
     "output_type": "execute_result"
    }
   ],
   "source": [
    "df_top3 = df_top.drop_duplicates(\n",
    "    subset=['song_id2'],\n",
    "    keep='first'\n",
    ").reset_index(drop=True)\n",
    "\n",
    "df_top3.shape\n"
   ]
  },
  {
   "cell_type": "code",
   "execution_count": 30,
   "metadata": {},
   "outputs": [
    {
     "data": {
      "text/plain": [
       "30045"
      ]
     },
     "execution_count": 30,
     "metadata": {},
     "output_type": "execute_result"
    }
   ],
   "source": [
    "len(df_top)"
   ]
  },
  {
   "cell_type": "code",
   "execution_count": 31,
   "metadata": {},
   "outputs": [],
   "source": [
    "df_top2 = df_top[df_top['song_id2'].isin(df_filtered3['song_id2'])].reset_index(drop=True)\n"
   ]
  },
  {
   "cell_type": "code",
   "execution_count": 32,
   "metadata": {},
   "outputs": [
    {
     "data": {
      "text/plain": [
       "(20801, 16)"
      ]
     },
     "execution_count": 32,
     "metadata": {},
     "output_type": "execute_result"
    }
   ],
   "source": [
    "df_filtered3.shape"
   ]
  },
  {
   "cell_type": "code",
   "execution_count": 33,
   "metadata": {},
   "outputs": [],
   "source": [
    "unique_top2 = df_top2['song_id2'].unique()\n",
    "unique_df_f3 = df_filtered3['song_id2'].unique()"
   ]
  },
  {
   "cell_type": "code",
   "execution_count": 34,
   "metadata": {},
   "outputs": [
    {
     "name": "stdout",
     "output_type": "stream",
     "text": [
      "20549\n",
      "20549\n"
     ]
    }
   ],
   "source": [
    "print(unique_top2.size)\n",
    "print(unique_df_f3.size)"
   ]
  },
  {
   "cell_type": "code",
   "execution_count": 35,
   "metadata": {},
   "outputs": [
    {
     "name": "stdout",
     "output_type": "stream",
     "text": [
      "9\n",
      "252\n"
     ]
    }
   ],
   "source": [
    "duplicate_count1 = df_top2['song_id2'].duplicated().sum()\n",
    "duplicate_count2 = df_filtered3['song_id2'].duplicated().sum()\n",
    "\n",
    "print(duplicate_count1)\n",
    "\n",
    "print(duplicate_count2)"
   ]
  },
  {
   "cell_type": "code",
   "execution_count": 36,
   "metadata": {},
   "outputs": [],
   "source": [
    "df_top2 = df_top2.drop_duplicates(\n",
    "    subset=['song_id2'],\n",
    "    keep='first'\n",
    ").reset_index(drop=True)"
   ]
  },
  {
   "cell_type": "code",
   "execution_count": 37,
   "metadata": {},
   "outputs": [],
   "source": [
    "df_filtered3 = df_filtered3.drop_duplicates(\n",
    "    subset=['song_id2'],\n",
    "    keep='first'\n",
    ").reset_index(drop=True)\n",
    "\n"
   ]
  },
  {
   "cell_type": "code",
   "execution_count": 38,
   "metadata": {},
   "outputs": [
    {
     "name": "stdout",
     "output_type": "stream",
     "text": [
      "0\n",
      "0\n"
     ]
    }
   ],
   "source": [
    "duplicate_count1 = df_top2['song_id2'].duplicated().sum()\n",
    "duplicate_count2 = df_filtered3['song_id2'].duplicated().sum()\n",
    "\n",
    "print(duplicate_count1)\n",
    "\n",
    "print(duplicate_count2)"
   ]
  },
  {
   "cell_type": "code",
   "execution_count": 44,
   "metadata": {},
   "outputs": [],
   "source": [
    "selected_columns = ['song_id2','artist','title','tag' ,'year', 'lyrics']\n",
    "\n",
    "df_filtered3 = df_filtered3[selected_columns]"
   ]
  },
  {
   "cell_type": "code",
   "execution_count": 45,
   "metadata": {},
   "outputs": [],
   "source": [
    "df_filtered3 = df_filtered3.rename(columns={\"song_id2\": \"song_id\"})\n"
   ]
  },
  {
   "cell_type": "code",
   "execution_count": 47,
   "metadata": {},
   "outputs": [],
   "source": [
    "df_filtered3.to_csv(\"data/songs_lyrics_filtered.csv\")"
   ]
  },
  {
   "cell_type": "code",
   "execution_count": 41,
   "metadata": {},
   "outputs": [],
   "source": [
    "selected_columns2 = ['song_id','artist','title','date','year']\n",
    "df_top2 = df_top2[selected_columns2]\n",
    "df_top2 = df_top2.rename(columns={\"song_id2\": \"song_id\"})"
   ]
  },
  {
   "cell_type": "code",
   "execution_count": 42,
   "metadata": {},
   "outputs": [],
   "source": [
    "df_top2.to_csv(\"data/popular_songs.csv\")"
   ]
  },
  {
   "cell_type": "code",
   "execution_count": 43,
   "metadata": {},
   "outputs": [
    {
     "data": {
      "text/html": [
       "<div>\n",
       "<style scoped>\n",
       "    .dataframe tbody tr th:only-of-type {\n",
       "        vertical-align: middle;\n",
       "    }\n",
       "\n",
       "    .dataframe tbody tr th {\n",
       "        vertical-align: top;\n",
       "    }\n",
       "\n",
       "    .dataframe thead th {\n",
       "        text-align: right;\n",
       "    }\n",
       "</style>\n",
       "<table border=\"1\" class=\"dataframe\">\n",
       "  <thead>\n",
       "    <tr style=\"text-align: right;\">\n",
       "      <th></th>\n",
       "      <th>song_id</th>\n",
       "      <th>artist</th>\n",
       "      <th>title</th>\n",
       "      <th>date</th>\n",
       "      <th>year</th>\n",
       "    </tr>\n",
       "  </thead>\n",
       "  <tbody>\n",
       "    <tr>\n",
       "      <th>0</th>\n",
       "      <td>little_jimmy_dickens_may_the_bird_of_paradise_...</td>\n",
       "      <td>\"Little\" Jimmy Dickens</td>\n",
       "      <td>May The Bird Of Paradise Fly Up Your Nose</td>\n",
       "      <td>1965-12-14</td>\n",
       "      <td>1965</td>\n",
       "    </tr>\n",
       "    <tr>\n",
       "      <th>1</th>\n",
       "      <td>weird_al_yankovic_amish_paradise</td>\n",
       "      <td>\"Weird Al\" Yankovic</td>\n",
       "      <td>Amish Paradise</td>\n",
       "      <td>1996-07-07</td>\n",
       "      <td>1996</td>\n",
       "    </tr>\n",
       "    <tr>\n",
       "      <th>2</th>\n",
       "      <td>weird_al_yankovic_canadian_idiot</td>\n",
       "      <td>\"Weird Al\" Yankovic</td>\n",
       "      <td>Canadian Idiot</td>\n",
       "      <td>2006-11-04</td>\n",
       "      <td>2006</td>\n",
       "    </tr>\n",
       "    <tr>\n",
       "      <th>3</th>\n",
       "      <td>weird_al_yankovic_eat_it</td>\n",
       "      <td>\"Weird Al\" Yankovic</td>\n",
       "      <td>Eat It</td>\n",
       "      <td>1984-05-26</td>\n",
       "      <td>1984</td>\n",
       "    </tr>\n",
       "    <tr>\n",
       "      <th>4</th>\n",
       "      <td>weird_al_yankovic_fat</td>\n",
       "      <td>\"Weird Al\" Yankovic</td>\n",
       "      <td>Fat</td>\n",
       "      <td>1988-05-28</td>\n",
       "      <td>1988</td>\n",
       "    </tr>\n",
       "    <tr>\n",
       "      <th>...</th>\n",
       "      <td>...</td>\n",
       "      <td>...</td>\n",
       "      <td>...</td>\n",
       "      <td>...</td>\n",
       "      <td>...</td>\n",
       "    </tr>\n",
       "    <tr>\n",
       "      <th>20544</th>\n",
       "      <td>twenty_one_pilots_stressed_out</td>\n",
       "      <td>twenty one pilots</td>\n",
       "      <td>Stressed Out</td>\n",
       "      <td>2016-10-01</td>\n",
       "      <td>2016</td>\n",
       "    </tr>\n",
       "    <tr>\n",
       "      <th>20545</th>\n",
       "      <td>twenty_one_pilots_tear_in_my_heart</td>\n",
       "      <td>twenty one pilots</td>\n",
       "      <td>Tear In My Heart</td>\n",
       "      <td>2015-08-08</td>\n",
       "      <td>2015</td>\n",
       "    </tr>\n",
       "    <tr>\n",
       "      <th>20546</th>\n",
       "      <td>william_i_got_it_from_my_mama</td>\n",
       "      <td>will.i.am</td>\n",
       "      <td>I Got It From My Mama</td>\n",
       "      <td>2007-10-20</td>\n",
       "      <td>2007</td>\n",
       "    </tr>\n",
       "    <tr>\n",
       "      <th>20547</th>\n",
       "      <td>william_its_a_new_day</td>\n",
       "      <td>will.i.am</td>\n",
       "      <td>It's A New Day</td>\n",
       "      <td>2009-02-07</td>\n",
       "      <td>2009</td>\n",
       "    </tr>\n",
       "    <tr>\n",
       "      <th>20548</th>\n",
       "      <td>william_featuring_miley_cyrus_fall_down</td>\n",
       "      <td>will.i.am Featuring Miley Cyrus</td>\n",
       "      <td>Fall Down</td>\n",
       "      <td>2013-05-04</td>\n",
       "      <td>2013</td>\n",
       "    </tr>\n",
       "  </tbody>\n",
       "</table>\n",
       "<p>20549 rows × 5 columns</p>\n",
       "</div>"
      ],
      "text/plain": [
       "                                                 song_id  \\\n",
       "0      little_jimmy_dickens_may_the_bird_of_paradise_...   \n",
       "1                       weird_al_yankovic_amish_paradise   \n",
       "2                       weird_al_yankovic_canadian_idiot   \n",
       "3                               weird_al_yankovic_eat_it   \n",
       "4                                  weird_al_yankovic_fat   \n",
       "...                                                  ...   \n",
       "20544                     twenty_one_pilots_stressed_out   \n",
       "20545                 twenty_one_pilots_tear_in_my_heart   \n",
       "20546                      william_i_got_it_from_my_mama   \n",
       "20547                              william_its_a_new_day   \n",
       "20548            william_featuring_miley_cyrus_fall_down   \n",
       "\n",
       "                                artist  \\\n",
       "0               \"Little\" Jimmy Dickens   \n",
       "1                  \"Weird Al\" Yankovic   \n",
       "2                  \"Weird Al\" Yankovic   \n",
       "3                  \"Weird Al\" Yankovic   \n",
       "4                  \"Weird Al\" Yankovic   \n",
       "...                                ...   \n",
       "20544                twenty one pilots   \n",
       "20545                twenty one pilots   \n",
       "20546                        will.i.am   \n",
       "20547                        will.i.am   \n",
       "20548  will.i.am Featuring Miley Cyrus   \n",
       "\n",
       "                                           title        date  year  \n",
       "0      May The Bird Of Paradise Fly Up Your Nose  1965-12-14  1965  \n",
       "1                                 Amish Paradise  1996-07-07  1996  \n",
       "2                                 Canadian Idiot  2006-11-04  2006  \n",
       "3                                         Eat It  1984-05-26  1984  \n",
       "4                                            Fat  1988-05-28  1988  \n",
       "...                                          ...         ...   ...  \n",
       "20544                               Stressed Out  2016-10-01  2016  \n",
       "20545                           Tear In My Heart  2015-08-08  2015  \n",
       "20546                      I Got It From My Mama  2007-10-20  2007  \n",
       "20547                             It's A New Day  2009-02-07  2009  \n",
       "20548                                  Fall Down  2013-05-04  2013  \n",
       "\n",
       "[20549 rows x 5 columns]"
      ]
     },
     "execution_count": 43,
     "metadata": {},
     "output_type": "execute_result"
    }
   ],
   "source": [
    "df_top2"
   ]
  }
 ],
 "metadata": {
  "kernelspec": {
   "display_name": ".venv",
   "language": "python",
   "name": "python3"
  },
  "language_info": {
   "codemirror_mode": {
    "name": "ipython",
    "version": 3
   },
   "file_extension": ".py",
   "mimetype": "text/x-python",
   "name": "python",
   "nbconvert_exporter": "python",
   "pygments_lexer": "ipython3",
   "version": "3.10.2"
  }
 },
 "nbformat": 4,
 "nbformat_minor": 2
}
