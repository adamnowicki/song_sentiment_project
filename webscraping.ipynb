{
 "cells": [
  {
   "cell_type": "code",
   "execution_count": 2,
   "metadata": {},
   "outputs": [],
   "source": [
    "import pandas as pd\n",
    "import re\n",
    "from bs4 import BeautifulSoup\n",
    "import requests\n",
    "import numpy as np\n",
    "import datetime\n",
    "from datetime import datetime, timedelta\n",
    "import locale\n",
    "import random\n",
    "import time"
   ]
  },
  {
   "cell_type": "code",
   "execution_count": 102,
   "metadata": {},
   "outputs": [],
   "source": [
    "# Define a function for scraping data from billboard hot100 songs \n",
    "\n",
    "def scrape_billboard_data(start_date, end_date):\n",
    "    \n",
    "    data = []\n",
    "    current_date = start_date\n",
    "\n",
    "    while current_date >= end_date:\n",
    "        url = f\"https://www.billboard.com/charts/hot-100/{current_date.strftime('%Y-%m-%d')}\"\n",
    "        response = requests.get(url)\n",
    "        soup = BeautifulSoup(response.content, 'html.parser')\n",
    "\n",
    "        \n",
    "        items = soup.find_all('li', class_='o-chart-results-list__item')\n",
    "\n",
    "        for item in items:\n",
    "            # Find the title and artist\n",
    "            title_tag = item.find('h3', class_='c-title')\n",
    "            artist_tag = item.find('span', class_='c-label')\n",
    "\n",
    "            if title_tag and artist_tag:\n",
    "                title = title_tag.text.strip()\n",
    "                artist = artist_tag.text.strip()\n",
    "                data.append((current_date.strftime('%Y-%m-%d'), title, artist))\n",
    "\n",
    "        # Add random delay between 1 and 3 seconds\n",
    "        delay = random.uniform(1, 3)\n",
    "        time.sleep(delay)\n",
    "\n",
    "        current_date -= timedelta(weeks=1)\n",
    "\n",
    "    return data\n"
   ]
  },
  {
   "cell_type": "code",
   "execution_count": null,
   "metadata": {},
   "outputs": [],
   "source": [
    "#Scrape years 2000-2024\n",
    "start_date = datetime(2024,4,20).date()\n",
    "end_date = datetime(2000, 1, 1).date()\n",
    "\n",
    "# Scrape data for multiple dates within the function\n",
    "data = scrape_billboard_data(start_date, end_date)\n",
    "\n",
    "# Create a DataFrame\n",
    "df = pd.DataFrame(data, columns=['Date', 'Title', 'Artist'])\n"
   ]
  },
  {
   "cell_type": "code",
   "execution_count": null,
   "metadata": {},
   "outputs": [],
   "source": [
    "df.to_csv(\"data/billboard_2000-2024.csv\")"
   ]
  },
  {
   "cell_type": "code",
   "execution_count": null,
   "metadata": {},
   "outputs": [],
   "source": [
    "# Scrape 1990-1999\n",
    "\n",
    "start_date = datetime(1999,12,26).date()\n",
    "end_date = datetime(1990, 1, 1).date()\n",
    "\n",
    "# Scrape data for multiple dates within the function\n",
    "data2 = scrape_billboard_data(start_date, end_date)\n",
    "\n",
    "# Create a DataFrame\n",
    "df2 = pd.DataFrame(data2, columns=['Date', 'Title', 'Artist'])"
   ]
  },
  {
   "cell_type": "code",
   "execution_count": null,
   "metadata": {},
   "outputs": [],
   "source": [
    "df2.to_csv(\"data/billboard_1999-1990.csv\")"
   ]
  },
  {
   "cell_type": "code",
   "execution_count": null,
   "metadata": {},
   "outputs": [],
   "source": [
    "#Scrape 1980-1989\n",
    "\n",
    "start_date = datetime(1989,12,30).date()\n",
    "end_date = datetime(1980, 1, 1).date()\n",
    "\n",
    "# Scrape data for multiple dates within the function\n",
    "data3 = scrape_billboard_data(start_date, end_date)\n",
    "\n",
    "# Create a DataFrame\n",
    "df3 = pd.DataFrame(data3, columns=['Date', 'Title', 'Artist'])"
   ]
  },
  {
   "cell_type": "code",
   "execution_count": null,
   "metadata": {},
   "outputs": [],
   "source": [
    "df3.to_csv(\"data/billboard_1980-1989.csv\")"
   ]
  },
  {
   "cell_type": "code",
   "execution_count": null,
   "metadata": {},
   "outputs": [],
   "source": [
    "#Scrape 1970-1979\n",
    "\n",
    "start_date = datetime(1979,12,30).date()\n",
    "end_date = datetime(1970, 1, 1).date()\n",
    "\n",
    "# Scrape data for multiple dates within the function\n",
    "data3 = scrape_billboard_data(start_date, end_date)\n",
    "\n",
    "# Create a DataFrame\n",
    "df3 = pd.DataFrame(data3, columns=['Date', 'Title', 'Artist'])"
   ]
  },
  {
   "cell_type": "code",
   "execution_count": null,
   "metadata": {},
   "outputs": [],
   "source": [
    "df3.to_csv(\"data/billboard_1970-1979.csv\")"
   ]
  },
  {
   "cell_type": "code",
   "execution_count": null,
   "metadata": {},
   "outputs": [],
   "source": [
    "# Scrape 1960-1969\n",
    "\n",
    "start_date = datetime(1969,12,30).date()\n",
    "end_date = datetime(1960, 1, 1).date()\n",
    "\n",
    "# Scrape data for multiple dates within the function\n",
    "data4 = scrape_billboard_data(start_date, end_date)\n",
    "\n",
    "# Create a DataFrame\n",
    "df4 = pd.DataFrame(data4, columns=['Date', 'Title', 'Artist'])"
   ]
  },
  {
   "cell_type": "code",
   "execution_count": null,
   "metadata": {},
   "outputs": [],
   "source": [
    "df4.to_csv(\"data/billboard_1960-1969.csv\")"
   ]
  },
  {
   "cell_type": "code",
   "execution_count": null,
   "metadata": {},
   "outputs": [],
   "source": [
    "# Scrape last available years 1958-1959\n",
    "\n",
    "start_date = datetime(1959,12,30).date()\n",
    "end_date = datetime(1958, 1, 1).date()\n",
    "\n",
    "# Scrape data for multiple dates within the function\n",
    "data5 = scrape_billboard_data(start_date, end_date)\n",
    "\n",
    "# Create a DataFrame\n",
    "df5 = pd.DataFrame(data4, columns=['Date', 'Title', 'Artist'])"
   ]
  },
  {
   "cell_type": "code",
   "execution_count": null,
   "metadata": {},
   "outputs": [],
   "source": [
    "df5.to_csv(\"data/billboard_1958-59.csv\")"
   ]
  },
  {
   "cell_type": "code",
   "execution_count": 18,
   "metadata": {},
   "outputs": [],
   "source": [
    "# Re-read all CSVs\n",
    "\n",
    "df1= pd.read_csv(\"data/billboard_2000-2024.csv\")\n",
    "df2= pd.read_csv(\"data/billboard_1999-1990.csv\")\n",
    "df3= pd.read_csv(\"data/billboard_1980-1989.csv\")\n",
    "df4= pd.read_csv(\"data/billboard_1970-1979.csv\")\n",
    "df4= pd.read_csv(\"data/billboard_1970-1979.csv\")\n",
    "df5= pd.read_csv(\"data/billboard_1960-1969.csv\")\n",
    "df6= pd.read_csv(\"data/billboard_1958-59.csv\")"
   ]
  },
  {
   "cell_type": "code",
   "execution_count": 19,
   "metadata": {},
   "outputs": [
    {
     "data": {
      "text/plain": [
       "(387287, 4)"
      ]
     },
     "execution_count": 19,
     "metadata": {},
     "output_type": "execute_result"
    }
   ],
   "source": [
    "# Concat all dfs, clean columns, and drop any null rows\n",
    "\n",
    "df_full= pd.concat([df1,df2,df3,df4,df5, df6])\n",
    "df_full.columns=df_full.columns.str.lower()\n",
    "df_full= df_full.dropna(how=\"any\")\n",
    "df_full.shape"
   ]
  },
  {
   "cell_type": "code",
   "execution_count": 20,
   "metadata": {},
   "outputs": [],
   "source": [
    "df_full=df_full.drop(columns=\"unnamed: 0\")"
   ]
  },
  {
   "cell_type": "code",
   "execution_count": 21,
   "metadata": {},
   "outputs": [
    {
     "data": {
      "text/html": [
       "<div>\n",
       "<style scoped>\n",
       "    .dataframe tbody tr th:only-of-type {\n",
       "        vertical-align: middle;\n",
       "    }\n",
       "\n",
       "    .dataframe tbody tr th {\n",
       "        vertical-align: top;\n",
       "    }\n",
       "\n",
       "    .dataframe thead th {\n",
       "        text-align: right;\n",
       "    }\n",
       "</style>\n",
       "<table border=\"1\" class=\"dataframe\">\n",
       "  <thead>\n",
       "    <tr style=\"text-align: right;\">\n",
       "      <th></th>\n",
       "      <th>date</th>\n",
       "      <th>title</th>\n",
       "      <th>artist</th>\n",
       "    </tr>\n",
       "  </thead>\n",
       "  <tbody>\n",
       "    <tr>\n",
       "      <th>0</th>\n",
       "      <td>2024-04-20</td>\n",
       "      <td>Like That</td>\n",
       "      <td>Future, Metro Boomin &amp; Kendrick Lamar</td>\n",
       "    </tr>\n",
       "    <tr>\n",
       "      <th>1</th>\n",
       "      <td>2024-04-20</td>\n",
       "      <td>Too Sweet</td>\n",
       "      <td>Hozier</td>\n",
       "    </tr>\n",
       "    <tr>\n",
       "      <th>2</th>\n",
       "      <td>2024-04-20</td>\n",
       "      <td>Beautiful Things</td>\n",
       "      <td>Benson Boone</td>\n",
       "    </tr>\n",
       "    <tr>\n",
       "      <th>3</th>\n",
       "      <td>2024-04-20</td>\n",
       "      <td>Lose Control</td>\n",
       "      <td>Teddy Swims</td>\n",
       "    </tr>\n",
       "    <tr>\n",
       "      <th>4</th>\n",
       "      <td>2024-04-20</td>\n",
       "      <td>Texas Hold 'Em</td>\n",
       "      <td>Beyonce</td>\n",
       "    </tr>\n",
       "    <tr>\n",
       "      <th>...</th>\n",
       "      <td>...</td>\n",
       "      <td>...</td>\n",
       "      <td>...</td>\n",
       "    </tr>\n",
       "    <tr>\n",
       "      <th>52195</th>\n",
       "      <td>1960-01-05</td>\n",
       "      <td>The Theme From \"A Summer Place\"</td>\n",
       "      <td>Percy Faith And His Orchestra</td>\n",
       "    </tr>\n",
       "    <tr>\n",
       "      <th>52196</th>\n",
       "      <td>1960-01-05</td>\n",
       "      <td>Let The Good Times Roll</td>\n",
       "      <td>Ray Charles</td>\n",
       "    </tr>\n",
       "    <tr>\n",
       "      <th>52197</th>\n",
       "      <td>1960-01-05</td>\n",
       "      <td>Tell Her For Me</td>\n",
       "      <td>Adam Wade</td>\n",
       "    </tr>\n",
       "    <tr>\n",
       "      <th>52198</th>\n",
       "      <td>1960-01-05</td>\n",
       "      <td>Bulldog</td>\n",
       "      <td>The Fireballs</td>\n",
       "    </tr>\n",
       "    <tr>\n",
       "      <th>52199</th>\n",
       "      <td>1960-01-05</td>\n",
       "      <td>Teenage Hayride</td>\n",
       "      <td>Tender Slim</td>\n",
       "    </tr>\n",
       "  </tbody>\n",
       "</table>\n",
       "<p>387287 rows × 3 columns</p>\n",
       "</div>"
      ],
      "text/plain": [
       "             date                            title  \\\n",
       "0      2024-04-20                        Like That   \n",
       "1      2024-04-20                        Too Sweet   \n",
       "2      2024-04-20                 Beautiful Things   \n",
       "3      2024-04-20                     Lose Control   \n",
       "4      2024-04-20                   Texas Hold 'Em   \n",
       "...           ...                              ...   \n",
       "52195  1960-01-05  The Theme From \"A Summer Place\"   \n",
       "52196  1960-01-05          Let The Good Times Roll   \n",
       "52197  1960-01-05                  Tell Her For Me   \n",
       "52198  1960-01-05                          Bulldog   \n",
       "52199  1960-01-05                  Teenage Hayride   \n",
       "\n",
       "                                      artist  \n",
       "0      Future, Metro Boomin & Kendrick Lamar  \n",
       "1                                     Hozier  \n",
       "2                               Benson Boone  \n",
       "3                                Teddy Swims  \n",
       "4                                    Beyonce  \n",
       "...                                      ...  \n",
       "52195          Percy Faith And His Orchestra  \n",
       "52196                            Ray Charles  \n",
       "52197                              Adam Wade  \n",
       "52198                          The Fireballs  \n",
       "52199                            Tender Slim  \n",
       "\n",
       "[387287 rows x 3 columns]"
      ]
     },
     "execution_count": 21,
     "metadata": {},
     "output_type": "execute_result"
    }
   ],
   "source": [
    "df_full"
   ]
  },
  {
   "cell_type": "code",
   "execution_count": 22,
   "metadata": {},
   "outputs": [],
   "source": [
    "# Since I scraped weekly charts songs can repeat mutliple times for different dates, \n",
    "# I have to drop duplicates of title and artits\n",
    "\n",
    "df_full = df_full.drop_duplicates( \n",
    "  subset = ['artist', 'title'], \n",
    "  keep = 'first').reset_index(drop = True) "
   ]
  },
  {
   "cell_type": "code",
   "execution_count": 23,
   "metadata": {},
   "outputs": [
    {
     "data": {
      "text/plain": [
       "(30376, 3)"
      ]
     },
     "execution_count": 23,
     "metadata": {},
     "output_type": "execute_result"
    }
   ],
   "source": [
    "df_full.shape"
   ]
  },
  {
   "cell_type": "code",
   "execution_count": null,
   "metadata": {},
   "outputs": [],
   "source": []
  },
  {
   "cell_type": "code",
   "execution_count": 25,
   "metadata": {},
   "outputs": [
    {
     "data": {
      "text/html": [
       "<div>\n",
       "<style scoped>\n",
       "    .dataframe tbody tr th:only-of-type {\n",
       "        vertical-align: middle;\n",
       "    }\n",
       "\n",
       "    .dataframe tbody tr th {\n",
       "        vertical-align: top;\n",
       "    }\n",
       "\n",
       "    .dataframe thead th {\n",
       "        text-align: right;\n",
       "    }\n",
       "</style>\n",
       "<table border=\"1\" class=\"dataframe\">\n",
       "  <thead>\n",
       "    <tr style=\"text-align: right;\">\n",
       "      <th></th>\n",
       "      <th>year</th>\n",
       "      <th>num_songs</th>\n",
       "    </tr>\n",
       "  </thead>\n",
       "  <tbody>\n",
       "    <tr>\n",
       "      <th>0</th>\n",
       "      <td>1960</td>\n",
       "      <td>591</td>\n",
       "    </tr>\n",
       "  </tbody>\n",
       "</table>\n",
       "</div>"
      ],
      "text/plain": [
       "   year  num_songs\n",
       "0  1960        591"
      ]
     },
     "execution_count": 25,
     "metadata": {},
     "output_type": "execute_result"
    }
   ],
   "source": [
    "# Check songs per year\n",
    "\n",
    "df_full['date'] = pd.to_datetime(df_full['date'])\n",
    "df_full['year'] = df_full['date'].dt.year\n",
    "\n",
    "songs_per_year = df_full.groupby('year').size().reset_index(name='num_songs')\n",
    "songs_per_year[songs_per_year['year']==1960]\n"
   ]
  },
  {
   "cell_type": "code",
   "execution_count": 26,
   "metadata": {},
   "outputs": [],
   "source": [
    "df1960=df_full[df_full['year']==1960]\n"
   ]
  },
  {
   "cell_type": "code",
   "execution_count": 28,
   "metadata": {},
   "outputs": [
    {
     "data": {
      "text/plain": [
       "(591, 4)"
      ]
     },
     "execution_count": 28,
     "metadata": {},
     "output_type": "execute_result"
    }
   ],
   "source": [
    "df1960.shape"
   ]
  },
  {
   "cell_type": "code",
   "execution_count": 29,
   "metadata": {},
   "outputs": [
    {
     "data": {
      "text/plain": [
       "(591, 4)"
      ]
     },
     "execution_count": 29,
     "metadata": {},
     "output_type": "execute_result"
    }
   ],
   "source": [
    "\n",
    "df1960 = df1960.drop_duplicates( \n",
    "  subset = ['artist', 'title'], \n",
    "  keep = 'first').reset_index(drop = True) \n",
    "\n",
    "df1960.shape"
   ]
  },
  {
   "cell_type": "code",
   "execution_count": 30,
   "metadata": {},
   "outputs": [],
   "source": [
    "df_full['date'] = pd.to_datetime(df_full['date'])\n",
    "\n",
    "df_full['year'] = pd.DatetimeIndex(df_full['date']).year"
   ]
  },
  {
   "cell_type": "code",
   "execution_count": 31,
   "metadata": {},
   "outputs": [],
   "source": [
    "# Since I don't have songs from 2024 in my lyrics dataset I remove year 2024\n",
    "\n",
    "df_full = df_full[df_full['year']<2023]"
   ]
  },
  {
   "cell_type": "code",
   "execution_count": 32,
   "metadata": {},
   "outputs": [
    {
     "data": {
      "text/plain": [
       "(29417, 4)"
      ]
     },
     "execution_count": 32,
     "metadata": {},
     "output_type": "execute_result"
    }
   ],
   "source": [
    "df_full.shape"
   ]
  },
  {
   "cell_type": "code",
   "execution_count": 203,
   "metadata": {},
   "outputs": [],
   "source": [
    "df_full.to_csv(\"data/billboard_weekly_1958-2024.csv\")"
   ]
  }
 ],
 "metadata": {
  "kernelspec": {
   "display_name": ".venv",
   "language": "python",
   "name": "python3"
  },
  "language_info": {
   "codemirror_mode": {
    "name": "ipython",
    "version": 3
   },
   "file_extension": ".py",
   "mimetype": "text/x-python",
   "name": "python",
   "nbconvert_exporter": "python",
   "pygments_lexer": "ipython3",
   "version": "3.10.2"
  }
 },
 "nbformat": 4,
 "nbformat_minor": 2
}
