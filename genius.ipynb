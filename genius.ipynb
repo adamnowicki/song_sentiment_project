{
 "cells": [
  {
   "cell_type": "code",
   "execution_count": 8,
   "metadata": {},
   "outputs": [],
   "source": [
    "import pandas as pd\n",
    "import lyricsgenius as lg\n",
    "import re\n",
    "from transformers import AutoTokenizer, AutoConfig\n",
    "from scipy.special import softmax\n",
    "import numpy as np\n",
    "from transformers import AutoModelForSequenceClassification\n",
    "from transformers import AutoTokenizer\n",
    "import csv\n",
    "import urllib.request\n",
    "\n"
   ]
  },
  {
   "cell_type": "code",
   "execution_count": 9,
   "metadata": {},
   "outputs": [
    {
     "name": "stdout",
     "output_type": "stream",
     "text": [
      "Searching for \"p!nk\" by Just Like a Pill...\n",
      "Done.\n"
     ]
    }
   ],
   "source": [
    "\n",
    "# Set up your access token\n",
    "client_access_token = 'g2sJSzvVjvg1Rm0VAp2ieB1zYVas9BCGZ4VRyZff1dfSXX7jwkke5qJSpMowjUqW'\n",
    "\n",
    "LyricsGenius = lg.Genius(client_access_token)\n",
    "song = LyricsGenius.search_song(\"p!nk\", \"Just Like a Pill\")"
   ]
  },
  {
   "cell_type": "code",
   "execution_count": 10,
   "metadata": {},
   "outputs": [
    {
     "data": {
      "text/plain": [
       "\"24 ContributorsTranslationsΕλληνικάJust Like a Pill Lyrics[Verse 1]\\nI'm lyin' here on the floor where you left me\\nI think I took too much\\nI'm cryin' here, what have you done?\\nI thought it would be fun\\n\\n[Pre-Chorus]\\nI can't stay on your life support\\nThere's a shortage in the switch\\nI can't stay on your morphine\\n'Cause it's making me itch\\nI said I tried to call the nurse again\\nBut she's bein' a little bitch\\nI think I'll get outta here\\n\\n[Chorus]\\nWhere I can run, just as fast as I can\\nTo the middle of nowhere\\nTo the middle of my frustrated fears\\nAnd I swear, you're just like a pill\\nInstead of making me better\\nYou keep making me ill\\nYou keep making me ill\\n\\n[Verse 2]\\nI haven't moved from the spot where you left me\\nThis must be a bad trip\\nAll of the other pills\\nThey were different\\nMaybe I should get some help\\nYou might also like[Pre-Chorus]\\nI can't stay on your life support\\nThere's a shortage in the switch\\nI can't stay on your morphine\\n'Cause it's making me itch\\nI said I tried to call the nurse again\\nBut she's bein' a little bitch\\nI think I'll get outta here\\n\\n[Chorus]\\nWhere I can run, just as fast as I can\\nTo the middle of nowhere\\nTo the middle of my frustrated fears\\nAnd I swear, you're just like a pill\\nInstead of making me better\\nYou keep making me ill\\nYou keep making me ill\\nRun just as fast as I can\\nTo the middle of nowhere\\nTo the middle of my frustrated fears\\nAnd I swear, you're just like a pill\\nInstead of making me better\\nYou keep making me ill\\nYou keep making me ill\\n\\n[Pre-Chorus]\\nI can't stay on your life support\\nThere's a shortage in the switch (Just like a pill)\\nI can't stay on your morphine\\n'Cause it's making me itch (Just like a pill)\\nI said I tried to call the nurse again\\nBut she's bein' a little bitch (Just like a pill)\\nI think I'll get outta here\\n[Chorus]\\nWhere I can run, just as fast as I can\\nTo the middle of nowhere\\nTo the middle of my frustrated fears (Frustrated fears, I swear)\\nAnd I swear, you're just like a pill\\nInstead of making me better\\nYou keep making me ill\\nYou keep making me...\\nRun just as fast as I can\\nTo the middle of nowhere\\nTo the middle of my frustrated fears\\nAnd I swear, you're just like a pill\\nInstead of making me better\\nYou keep making me ill (You're makin' me, makin me ill)\\nYou keep making me...\\nRun just as fast as I can\\nTo the middle of nowhere (Ah)\\nTo the middle of my frustrated fears (Yeah)\\nAnd I swear, you're just like a pill (Yeah)\\nInstead of making me better (Oh-oh)\\nYou keep making me ill\\nYou keep making me ill (Oh, you're making me run)\\nRun just as fast as I can\\nTo the middle of nowhere\\nTo the middle of my frustrated fears\\nAnd I swear12Embed\""
      ]
     },
     "execution_count": 10,
     "metadata": {},
     "output_type": "execute_result"
    }
   ],
   "source": [
    "lyrics = song.lyrics\n",
    "#lyrics = lyrics.split(\"lyrics\", 1)[-1]\n",
    "lyrics"
   ]
  },
  {
   "cell_type": "code",
   "execution_count": 11,
   "metadata": {},
   "outputs": [],
   "source": [
    "def clean_text(text):\n",
    "\n",
    "    text = text.lower()\n",
    "    text = text.split(\"lyrics\", 1)[-1]\n",
    "    text = text.replace('\\n', ' ')\n",
    "    text = text.replace('\\\\', '')\n",
    "    text = re.sub(r'[\\'\\\",\\.!?\\\\]', '', text)\n",
    "    text = re.sub(r'\\[.*?\\]', ' ', text) \n",
    "    text = re.sub(r'\\w*\\d\\w*', ' ', text)\n",
    "    text = re.sub(r'[()]', ' ', text)\n",
    "    \n",
    "    return text"
   ]
  },
  {
   "cell_type": "code",
   "execution_count": 12,
   "metadata": {},
   "outputs": [
    {
     "data": {
      "text/plain": [
       "'  im lyin here on the floor where you left me i think i took too much im cryin here what have you done i thought it would be fun    i cant stay on your life support theres a shortage in the switch i cant stay on your morphine cause its making me itch i said i tried to call the nurse again but shes bein a little bitch i think ill get outta here    where i can run just as fast as i can to the middle of nowhere to the middle of my frustrated fears and i swear youre just like a pill instead of making me better you keep making me ill you keep making me ill    i havent moved from the spot where you left me this must be a bad trip all of the other pills they were different maybe i should get some help you might also like  i cant stay on your life support theres a shortage in the switch i cant stay on your morphine cause its making me itch i said i tried to call the nurse again but shes bein a little bitch i think ill get outta here    where i can run just as fast as i can to the middle of nowhere to the middle of my frustrated fears and i swear youre just like a pill instead of making me better you keep making me ill you keep making me ill run just as fast as i can to the middle of nowhere to the middle of my frustrated fears and i swear youre just like a pill instead of making me better you keep making me ill you keep making me ill    i cant stay on your life support theres a shortage in the switch  just like a pill  i cant stay on your morphine cause its making me itch  just like a pill  i said i tried to call the nurse again but shes bein a little bitch  just like a pill  i think ill get outta here   where i can run just as fast as i can to the middle of nowhere to the middle of my frustrated fears  frustrated fears i swear  and i swear youre just like a pill instead of making me better you keep making me ill you keep making me run just as fast as i can to the middle of nowhere to the middle of my frustrated fears and i swear youre just like a pill instead of making me better you keep making me ill  youre makin me makin me ill  you keep making me run just as fast as i can to the middle of nowhere  ah  to the middle of my frustrated fears  yeah  and i swear youre just like a pill  yeah  instead of making me better  oh-oh  you keep making me ill you keep making me ill  oh youre making me run  run just as fast as i can to the middle of nowhere to the middle of my frustrated fears and i  '"
      ]
     },
     "execution_count": 12,
     "metadata": {},
     "output_type": "execute_result"
    }
   ],
   "source": [
    "lyrics = clean_text(lyrics)\n",
    "lyrics"
   ]
  },
  {
   "cell_type": "code",
   "execution_count": 13,
   "metadata": {},
   "outputs": [
    {
     "data": {
      "text/plain": [
       "'im lyin floor left think took im cryin thought fun stay life support theres shortage switch stay morphine cause making itch said tried nurse shes bein little bitch think ill outta run fast middle middle frustrated fears swear youre like pill instead making better making ill making ill havent moved spot left bad trip pills different maybe help like stay life support theres shortage switch stay morphine cause making itch said tried nurse shes bein little bitch think ill outta run fast middle middle frustrated fears swear youre like pill instead making better making ill making ill run fast middle middle frustrated fears swear youre like pill instead making better making ill making ill stay life support theres shortage switch like pill stay morphine cause making itch like pill said tried nurse shes bein little bitch like pill think ill outta run fast middle middle frustrated fears frustrated fears swear swear youre like pill instead making better making ill making run fast middle middle frustrated fears swear youre like pill instead making better making ill youre makin makin ill making run fast middle ah middle frustrated fears yeah swear youre like pill yeah instead making better oh-oh making ill making ill oh youre making run run fast middle middle frustrated fears'"
      ]
     },
     "execution_count": 13,
     "metadata": {},
     "output_type": "execute_result"
    }
   ],
   "source": [
    "# Removing stop words\n",
    "from gensim.parsing.preprocessing import remove_stopwords\n",
    " \n",
    "# Another sample text\n",
    "lyrics\n",
    " \n",
    "# Remove stopwords using Gensim\n",
    "lyrics = remove_stopwords(lyrics)\n",
    " \n",
    "lyrics"
   ]
  },
  {
   "cell_type": "code",
   "execution_count": 14,
   "metadata": {},
   "outputs": [],
   "source": [
    "# Setting up model\n",
    "\n",
    "task='sentiment'\n",
    "MODEL = f\"cardiffnlp/twitter-roberta-base-{task}\"\n",
    "\n",
    "tokenizer = AutoTokenizer.from_pretrained(MODEL)\n",
    "\n",
    "# download label mapping\n",
    "labels=[]\n",
    "mapping_link = f\"https://raw.githubusercontent.com/cardiffnlp/tweeteval/main/datasets/{task}/mapping.txt\"\n",
    "with urllib.request.urlopen(mapping_link) as f:\n",
    "    html = f.read().decode('utf-8').split(\"\\n\")\n",
    "    csvreader = csv.reader(html, delimiter='\\t')\n",
    "labels = [row[1] for row in csvreader if len(row) > 1]\n",
    "\n",
    "\n",
    "model = AutoModelForSequenceClassification.from_pretrained(MODEL)"
   ]
  },
  {
   "cell_type": "code",
   "execution_count": 17,
   "metadata": {},
   "outputs": [
    {
     "name": "stdout",
     "output_type": "stream",
     "text": [
      "1) neutral 0.5746\n",
      "2) negative 0.3155\n",
      "3) positive 0.1099\n"
     ]
    }
   ],
   "source": [
    "encoded_input = tokenizer(lyrics, return_tensors='pt', max_length=512, truncation=True, padding=True)\n",
    "output = model(**encoded_input)\n",
    "scores = output[0][0].detach().numpy()\n",
    "scores = softmax(scores)\n",
    "\n",
    "ranking = np.argsort(scores)\n",
    "ranking = ranking[::-1]\n",
    "for i in range(scores.shape[0]):\n",
    "    l = labels[ranking[i]]\n",
    "    s = scores[ranking[i]]\n",
    "    print(f\"{i+1}) {l} {np.round(float(s), 4)}\")"
   ]
  }
 ],
 "metadata": {
  "kernelspec": {
   "display_name": ".venv",
   "language": "python",
   "name": "python3"
  },
  "language_info": {
   "codemirror_mode": {
    "name": "ipython",
    "version": 3
   },
   "file_extension": ".py",
   "mimetype": "text/x-python",
   "name": "python",
   "nbconvert_exporter": "python",
   "pygments_lexer": "ipython3",
   "version": "3.10.2"
  }
 },
 "nbformat": 4,
 "nbformat_minor": 2
}
